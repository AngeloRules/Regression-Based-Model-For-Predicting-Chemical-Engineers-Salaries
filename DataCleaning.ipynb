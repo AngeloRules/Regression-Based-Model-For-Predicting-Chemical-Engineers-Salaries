{
 "cells": [
  {
   "cell_type": "code",
   "execution_count": 9,
   "id": "3c16a5f8-458b-4b71-bcaa-cedc72acd0c7",
   "metadata": {},
   "outputs": [],
   "source": [
    "import numpy as np\n",
    "import pandas as pd\n",
    "import matplotlib.pyplot as plt\n",
    "%matplotlib inline\n",
    "import seaborn as sns\n",
    "import re\n",
    "import glob\n",
    "import warnings\n",
    "warnings.filterwarnings('ignore')\n",
    "import time"
   ]
  },
  {
   "cell_type": "code",
   "execution_count": 10,
   "id": "ce2d4e16",
   "metadata": {},
   "outputs": [],
   "source": [
    "from geopy.geocoders import Nominatim\n",
    "from geopy.exc import GeocoderTimedOut"
   ]
  },
  {
   "cell_type": "code",
   "execution_count": 11,
   "id": "df0d15b7",
   "metadata": {},
   "outputs": [],
   "source": [
    "path = '/Users/user/Desktop/Project/Data/Dirty Data'\n",
    "csv_files = glob.glob(path + \"/*.csv\")\n",
    "df_list = (pd.read_csv(file) for file in csv_files)\n",
    "df_combined = pd.concat(df_list,ignore_index=True)"
   ]
  },
  {
   "cell_type": "code",
   "execution_count": 12,
   "id": "857e291b-e65a-42b0-b172-8969f3a62aba",
   "metadata": {
    "tags": []
   },
   "outputs": [
    {
     "name": "stdout",
     "output_type": "stream",
     "text": [
      "<class 'pandas.core.frame.DataFrame'>\n",
      "RangeIndex: 7730 entries, 0 to 7729\n",
      "Data columns (total 14 columns):\n",
      " #   Column             Non-Null Count  Dtype  \n",
      "---  ------             --------------  -----  \n",
      " 0   Job Title          7730 non-null   object \n",
      " 1   Salary Estimate    6980 non-null   object \n",
      " 2   Job Description    7730 non-null   object \n",
      " 3   Rating             900 non-null    float64\n",
      " 4   Company Name       7730 non-null   object \n",
      " 5   Location           7729 non-null   object \n",
      " 6   Headquarters       901 non-null    float64\n",
      " 7   Size               6860 non-null   object \n",
      " 8   Founded            5205 non-null   object \n",
      " 9   Type of ownership  6852 non-null   object \n",
      " 10  Industry           5982 non-null   object \n",
      " 11  Sector             5955 non-null   object \n",
      " 12  Revenue            5935 non-null   object \n",
      " 13  Competitors        900 non-null    float64\n",
      "dtypes: float64(3), object(11)\n",
      "memory usage: 845.6+ KB\n"
     ]
    }
   ],
   "source": [
    "df_combined.info()"
   ]
  },
  {
   "cell_type": "code",
   "execution_count": 13,
   "id": "15ca657a-81bc-4c44-a853-b6f8650ed85d",
   "metadata": {},
   "outputs": [],
   "source": [
    "df_combined.to_csv(r'/Users/user/Desktop/Project/Data/Cleaned Data/combined data.csv', index=False)\n",
    "df_combined.to_csv(r'/Users/user/Desktop/Project/Scripts/combined data.csv', index=False)"
   ]
  },
  {
   "cell_type": "code",
   "execution_count": 14,
   "id": "af2c73fa-c6eb-466b-ad26-8698315708e8",
   "metadata": {},
   "outputs": [
    {
     "data": {
      "text/plain": [
       "Houston, TX        424\n",
       "Remote             359\n",
       "Dallas, TX         121\n",
       "Austin, TX         103\n",
       "Midland, TX         89\n",
       "                  ... \n",
       "Garyville, LA        1\n",
       "Osceola, AR          1\n",
       "Attleboro, MA        1\n",
       "Federal Way, WA      1\n",
       "Marshall, MI         1\n",
       "Name: Location, Length: 1331, dtype: int64"
      ]
     },
     "execution_count": 14,
     "metadata": {},
     "output_type": "execute_result"
    }
   ],
   "source": [
    "df_combined['Location'].value_counts()"
   ]
  },
  {
   "cell_type": "code",
   "execution_count": 15,
   "id": "f6a67b19-0e53-453d-9acb-79401787f5b8",
   "metadata": {},
   "outputs": [
    {
     "data": {
      "text/plain": [
       "1331"
      ]
     },
     "execution_count": 15,
     "metadata": {},
     "output_type": "execute_result"
    }
   ],
   "source": [
    "df_combined['Location'].nunique()"
   ]
  },
  {
   "cell_type": "code",
   "execution_count": 16,
   "id": "e8c2eb9d-1dc9-4e46-bbac-6a37c9f3a1ac",
   "metadata": {
    "scrolled": true
   },
   "outputs": [
    {
     "data": {
      "text/plain": [
       "Manufacturing                                  2346\n",
       "Energy, Mining & Utilities                     1010\n",
       "Information Technology                          518\n",
       "Pharmaceutical & Biotechnology                  472\n",
       "Construction, Repair & Maintenance Services     375\n",
       "-1                                              268\n",
       "Aerospace & Defense                             235\n",
       "Human Resources & Staffing                      144\n",
       "Management & Consulting                         134\n",
       "Government & Public Administration               87\n",
       "Agriculture                                      57\n",
       "Education                                        56\n",
       "Retail & Wholesale                               52\n",
       "Healthcare                                       36\n",
       "Transportation & Logistics                       36\n",
       "Financial Services                               32\n",
       "Media & Communication                            28\n",
       "Insurance                                        17\n",
       "Unknown / Non-Applicable                         13\n",
       "$50 to $100 million (USD)                         8\n",
       "$10 to $25 million (USD)                          6\n",
       "Nonprofit & NGO                                   4\n",
       "Telecommunications                                3\n",
       "Restaurants & Food Service                        3\n",
       "$100 to $500 million (USD)                        3\n",
       "Hotels & Travel Accommodation                     2\n",
       "Less than $1 million (USD)                        2\n",
       "Personal Consumer Services                        2\n",
       "$5 to $10 million (USD)                           1\n",
       "Business Consulting                               1\n",
       "$25 to $50 million (USD)                          1\n",
       "Energy & Utilities                                1\n",
       "Consumer Product Manufacturing                    1\n",
       "$1 to $5 million (USD)                            1\n",
       "Name: Sector, dtype: int64"
      ]
     },
     "execution_count": 16,
     "metadata": {},
     "output_type": "execute_result"
    }
   ],
   "source": [
    "df_combined['Sector'].value_counts()"
   ]
  },
  {
   "cell_type": "code",
   "execution_count": 158,
   "id": "1c6edaa7-5aee-49e4-8c60-2e1fc640f661",
   "metadata": {},
   "outputs": [
    {
     "data": {
      "text/html": [
       "<div>\n",
       "<style scoped>\n",
       "    .dataframe tbody tr th:only-of-type {\n",
       "        vertical-align: middle;\n",
       "    }\n",
       "\n",
       "    .dataframe tbody tr th {\n",
       "        vertical-align: top;\n",
       "    }\n",
       "\n",
       "    .dataframe thead th {\n",
       "        text-align: right;\n",
       "    }\n",
       "</style>\n",
       "<table border=\"1\" class=\"dataframe\">\n",
       "  <thead>\n",
       "    <tr style=\"text-align: right;\">\n",
       "      <th></th>\n",
       "      <th>Job Title</th>\n",
       "      <th>Salary Estimate</th>\n",
       "      <th>Job Description</th>\n",
       "      <th>Rating</th>\n",
       "      <th>Company Name</th>\n",
       "      <th>Location</th>\n",
       "      <th>Headquarters</th>\n",
       "      <th>Size</th>\n",
       "      <th>Founded</th>\n",
       "      <th>Type of ownership</th>\n",
       "      <th>Industry</th>\n",
       "      <th>Sector</th>\n",
       "      <th>Revenue</th>\n",
       "      <th>Competitors</th>\n",
       "    </tr>\n",
       "  </thead>\n",
       "  <tbody>\n",
       "    <tr>\n",
       "      <th>2940</th>\n",
       "      <td>DRUG CHEMIST II.3014300</td>\n",
       "      <td>Employer Provided Salary:$61K</td>\n",
       "      <td>Requisition Title: DRUG CHEMIST II.3014300 - 2...</td>\n",
       "      <td>NaN</td>\n",
       "      <td>Dallas County\\n3.1</td>\n",
       "      <td>Dallas, TX</td>\n",
       "      <td>NaN</td>\n",
       "      <td>201 to 500 Employees</td>\n",
       "      <td>Government</td>\n",
       "      <td>Municipal Agencies</td>\n",
       "      <td>Government &amp; Public Administration</td>\n",
       "      <td>$50 to $100 million (USD)</td>\n",
       "      <td>NaN</td>\n",
       "      <td>NaN</td>\n",
       "    </tr>\n",
       "  </tbody>\n",
       "</table>\n",
       "</div>"
      ],
      "text/plain": [
       "                    Job Title                Salary Estimate  \\\n",
       "2940  DRUG CHEMIST II.3014300  Employer Provided Salary:$61K   \n",
       "\n",
       "                                        Job Description  Rating  \\\n",
       "2940  Requisition Title: DRUG CHEMIST II.3014300 - 2...     NaN   \n",
       "\n",
       "            Company Name    Location  Headquarters                  Size  \\\n",
       "2940  Dallas County\\n3.1  Dallas, TX           NaN  201 to 500 Employees   \n",
       "\n",
       "         Founded   Type of ownership                            Industry  \\\n",
       "2940  Government  Municipal Agencies  Government & Public Administration   \n",
       "\n",
       "                         Sector Revenue  Competitors  \n",
       "2940  $50 to $100 million (USD)     NaN          NaN  "
      ]
     },
     "execution_count": 158,
     "metadata": {},
     "output_type": "execute_result"
    }
   ],
   "source": [
    "df_combined[df_combined['Sector']=='$50 to $100 million (USD)']"
   ]
  },
  {
   "cell_type": "code",
   "execution_count": 159,
   "id": "e2d5c146",
   "metadata": {},
   "outputs": [
    {
     "data": {
      "text/plain": [
       "Job Title                                       Materials Engineer III\n",
       "Salary Estimate                          $71K - $140K (Glassdoor est.)\n",
       "Job Description      In this role you will\\nCharacterize materials ...\n",
       "Rating                                                            -1.0\n",
       "Company Name                                           eTeam Inc.\\n4.3\n",
       "Location                                                   Seattle, WA\n",
       "Headquarters                                                      -1.0\n",
       "Size                                           5001 to 10000 Employees\n",
       "Founded                                                         1999.0\n",
       "Type of ownership                                    Company - Private\n",
       "Industry                                     Staffing & Subcontracting\n",
       "Sector                                      Human Resources & Staffing\n",
       "Revenue                                     $100 to $500 million (USD)\n",
       "Competitors                                                       -1.0\n",
       "Name: 0, dtype: object"
      ]
     },
     "execution_count": 159,
     "metadata": {},
     "output_type": "execute_result"
    }
   ],
   "source": [
    "df_combined.iloc[0]"
   ]
  },
  {
   "cell_type": "code",
   "execution_count": 17,
   "id": "2e5f0fc2-4143-4db6-be1e-3f7ba61e5b9e",
   "metadata": {},
   "outputs": [],
   "source": [
    "df_combined['Revenue'][df_combined['Sector']=='$1 to $5 million (USD)'] = '$1 to $5 million (USD)'\n",
    "df_combined['Sector'][df_combined['Sector']=='$1 to $5 million (USD)'] = np.nan\n",
    "df_combined['Sector'][df_combined['Sector']=='$100 to $500 million (USD)'] = np.nan\n",
    "df_combined['Sector'][df_combined['Sector']=='$50 to $100 million (USD)'] = np.nan\n",
    "df_combined['Sector'][df_combined['Sector']=='$25 to $50 million (USD)'] = np.nan"
   ]
  },
  {
   "cell_type": "code",
   "execution_count": 12,
   "id": "317ac532-4853-4084-b58f-39c35ff6b80a",
   "metadata": {},
   "outputs": [
    {
     "data": {
      "text/html": [
       "<div>\n",
       "<style scoped>\n",
       "    .dataframe tbody tr th:only-of-type {\n",
       "        vertical-align: middle;\n",
       "    }\n",
       "\n",
       "    .dataframe tbody tr th {\n",
       "        vertical-align: top;\n",
       "    }\n",
       "\n",
       "    .dataframe thead th {\n",
       "        text-align: right;\n",
       "    }\n",
       "</style>\n",
       "<table border=\"1\" class=\"dataframe\">\n",
       "  <thead>\n",
       "    <tr style=\"text-align: right;\">\n",
       "      <th></th>\n",
       "      <th>Job Title</th>\n",
       "      <th>Salary Estimate</th>\n",
       "      <th>Job Description</th>\n",
       "      <th>Rating</th>\n",
       "      <th>Company Name</th>\n",
       "      <th>Location</th>\n",
       "      <th>Headquarters</th>\n",
       "      <th>Size</th>\n",
       "      <th>Founded</th>\n",
       "      <th>Type of ownership</th>\n",
       "      <th>Industry</th>\n",
       "      <th>Sector</th>\n",
       "      <th>Revenue</th>\n",
       "      <th>Competitors</th>\n",
       "    </tr>\n",
       "  </thead>\n",
       "  <tbody>\n",
       "  </tbody>\n",
       "</table>\n",
       "</div>"
      ],
      "text/plain": [
       "Empty DataFrame\n",
       "Columns: [Job Title, Salary Estimate, Job Description, Rating, Company Name, Location, Headquarters, Size, Founded, Type of ownership, Industry, Sector, Revenue, Competitors]\n",
       "Index: []"
      ]
     },
     "execution_count": 12,
     "metadata": {},
     "output_type": "execute_result"
    }
   ],
   "source": [
    "df_combined[df_combined['Sector']=='$1 to $5 million (USD)']"
   ]
  },
  {
   "cell_type": "code",
   "execution_count": 18,
   "id": "aaf1f39d-eb57-4f47-8726-0cb62b713b06",
   "metadata": {},
   "outputs": [
    {
     "data": {
      "text/plain": [
       "10000+ Employees           2681\n",
       "1001 to 5000 Employees     1055\n",
       "201 to 500 Employees        713\n",
       "51 to 200 Employees         644\n",
       "1 to 50 Employees           481\n",
       "Unknown                     418\n",
       "5001 to 10000 Employees     381\n",
       "501 to 1000 Employees       345\n",
       "-1                          142\n",
       "Name: Size, dtype: int64"
      ]
     },
     "execution_count": 18,
     "metadata": {},
     "output_type": "execute_result"
    }
   ],
   "source": [
    "df_combined['Size'].value_counts()"
   ]
  },
  {
   "cell_type": "code",
   "execution_count": 19,
   "id": "fded3e5c-1fc4-489b-851b-9f489328653f",
   "metadata": {},
   "outputs": [
    {
     "data": {
      "text/plain": [
       "1922"
      ]
     },
     "execution_count": 19,
     "metadata": {},
     "output_type": "execute_result"
    }
   ],
   "source": [
    "df_combined['Job Title'].nunique()"
   ]
  },
  {
   "cell_type": "code",
   "execution_count": 20,
   "id": "7a31b377-bf65-4de1-8198-9c140e0ae792",
   "metadata": {},
   "outputs": [
    {
     "data": {
      "text/plain": [
       "3497"
      ]
     },
     "execution_count": 20,
     "metadata": {},
     "output_type": "execute_result"
    }
   ],
   "source": [
    "df_combined.duplicated().sum()"
   ]
  },
  {
   "cell_type": "code",
   "execution_count": 21,
   "id": "b9519604-c1ac-47a9-9784-70da527a66c2",
   "metadata": {},
   "outputs": [
    {
     "data": {
      "text/html": [
       "<div>\n",
       "<style scoped>\n",
       "    .dataframe tbody tr th:only-of-type {\n",
       "        vertical-align: middle;\n",
       "    }\n",
       "\n",
       "    .dataframe tbody tr th {\n",
       "        vertical-align: top;\n",
       "    }\n",
       "\n",
       "    .dataframe thead th {\n",
       "        text-align: right;\n",
       "    }\n",
       "</style>\n",
       "<table border=\"1\" class=\"dataframe\">\n",
       "  <thead>\n",
       "    <tr style=\"text-align: right;\">\n",
       "      <th></th>\n",
       "      <th>Job Title</th>\n",
       "      <th>Salary Estimate</th>\n",
       "      <th>Job Description</th>\n",
       "      <th>Rating</th>\n",
       "      <th>Company Name</th>\n",
       "      <th>Location</th>\n",
       "      <th>Headquarters</th>\n",
       "      <th>Size</th>\n",
       "      <th>Founded</th>\n",
       "      <th>Type of ownership</th>\n",
       "      <th>Industry</th>\n",
       "      <th>Sector</th>\n",
       "      <th>Revenue</th>\n",
       "      <th>Competitors</th>\n",
       "    </tr>\n",
       "  </thead>\n",
       "  <tbody>\n",
       "    <tr>\n",
       "      <th>50</th>\n",
       "      <td>Chemical Engineer</td>\n",
       "      <td>$63K - $103K (Glassdoor est.)</td>\n",
       "      <td>Requisition Number: HTB-20161010-001\\nPosition...</td>\n",
       "      <td>-1.0</td>\n",
       "      <td>Hi-Tech Bangla\\n2.2</td>\n",
       "      <td>Dallas, TX</td>\n",
       "      <td>-1.0</td>\n",
       "      <td>1 to 50 Employees</td>\n",
       "      <td>2008.0</td>\n",
       "      <td>Company - Public</td>\n",
       "      <td>NaN</td>\n",
       "      <td>-1</td>\n",
       "      <td>Less than $1 million (USD)</td>\n",
       "      <td>-1.0</td>\n",
       "    </tr>\n",
       "    <tr>\n",
       "      <th>58</th>\n",
       "      <td>Process Engineer</td>\n",
       "      <td>Employer Provided Salary:$115K - $135K</td>\n",
       "      <td>Process Engineer\\nWhat’s in it for you?\\nThere...</td>\n",
       "      <td>-1.0</td>\n",
       "      <td>Ethos</td>\n",
       "      <td>Augusta, GA</td>\n",
       "      <td>-1.0</td>\n",
       "      <td>-1</td>\n",
       "      <td>-1.0</td>\n",
       "      <td>-1</td>\n",
       "      <td>-1</td>\n",
       "      <td>-1</td>\n",
       "      <td>-1</td>\n",
       "      <td>-1.0</td>\n",
       "    </tr>\n",
       "    <tr>\n",
       "      <th>91</th>\n",
       "      <td>Chemical Process Engineer</td>\n",
       "      <td>Employer Provided Salary:$100K - $120K</td>\n",
       "      <td>Chemical Process Engineer (full-time, permanen...</td>\n",
       "      <td>NaN</td>\n",
       "      <td>Ethos</td>\n",
       "      <td>Olympia, WA</td>\n",
       "      <td>NaN</td>\n",
       "      <td>NaN</td>\n",
       "      <td>NaN</td>\n",
       "      <td>NaN</td>\n",
       "      <td>NaN</td>\n",
       "      <td>NaN</td>\n",
       "      <td>NaN</td>\n",
       "      <td>NaN</td>\n",
       "    </tr>\n",
       "    <tr>\n",
       "      <th>118</th>\n",
       "      <td>Process Engineer</td>\n",
       "      <td>Employer Provided Salary:$75K - $100K</td>\n",
       "      <td>We are looking for a Process Engineer who is l...</td>\n",
       "      <td>NaN</td>\n",
       "      <td>Saint-Gobain\\n4.0</td>\n",
       "      <td>Bow, NH</td>\n",
       "      <td>NaN</td>\n",
       "      <td>10000+ Employees</td>\n",
       "      <td>1665.0</td>\n",
       "      <td>Company - Public</td>\n",
       "      <td>Machinery Manufacturing</td>\n",
       "      <td>Manufacturing</td>\n",
       "      <td>$10+ billion (USD)</td>\n",
       "      <td>NaN</td>\n",
       "    </tr>\n",
       "    <tr>\n",
       "      <th>119</th>\n",
       "      <td>Process Engineer</td>\n",
       "      <td>$51K - $93K (Glassdoor est.)</td>\n",
       "      <td>Seneca Foods is one of North America's leading...</td>\n",
       "      <td>NaN</td>\n",
       "      <td>Seneca Foods\\n3.7</td>\n",
       "      <td>Hart, MI</td>\n",
       "      <td>NaN</td>\n",
       "      <td>1001 to 5000 Employees</td>\n",
       "      <td>1949.0</td>\n",
       "      <td>Company - Public</td>\n",
       "      <td>Food &amp; Beverage Manufacturing</td>\n",
       "      <td>Manufacturing</td>\n",
       "      <td>$1 to $2 billion (USD)</td>\n",
       "      <td>NaN</td>\n",
       "    </tr>\n",
       "    <tr>\n",
       "      <th>...</th>\n",
       "      <td>...</td>\n",
       "      <td>...</td>\n",
       "      <td>...</td>\n",
       "      <td>...</td>\n",
       "      <td>...</td>\n",
       "      <td>...</td>\n",
       "      <td>...</td>\n",
       "      <td>...</td>\n",
       "      <td>...</td>\n",
       "      <td>...</td>\n",
       "      <td>...</td>\n",
       "      <td>...</td>\n",
       "      <td>...</td>\n",
       "      <td>...</td>\n",
       "    </tr>\n",
       "    <tr>\n",
       "      <th>7725</th>\n",
       "      <td>Ceramic Process Engineer</td>\n",
       "      <td>Employer Provided Salary:$100K</td>\n",
       "      <td>Summary/Objective\\nThe Ceramic Process Enginee...</td>\n",
       "      <td>NaN</td>\n",
       "      <td>Zircoa Inc.</td>\n",
       "      <td>Solon, OH</td>\n",
       "      <td>NaN</td>\n",
       "      <td>NaN</td>\n",
       "      <td>NaN</td>\n",
       "      <td>NaN</td>\n",
       "      <td>NaN</td>\n",
       "      <td>NaN</td>\n",
       "      <td>NaN</td>\n",
       "      <td>NaN</td>\n",
       "    </tr>\n",
       "    <tr>\n",
       "      <th>7726</th>\n",
       "      <td>Pharmaceutical Process Engineer I</td>\n",
       "      <td>$66K - $114K (Glassdoor est.)</td>\n",
       "      <td>Position Summary\\nThe Pharmaceutical Process E...</td>\n",
       "      <td>NaN</td>\n",
       "      <td>Catalent\\n3.5</td>\n",
       "      <td>San Diego, CA</td>\n",
       "      <td>NaN</td>\n",
       "      <td>10000+ Employees</td>\n",
       "      <td>2007.0</td>\n",
       "      <td>Company - Public</td>\n",
       "      <td>Biotech &amp; Pharmaceuticals</td>\n",
       "      <td>Pharmaceutical &amp; Biotechnology</td>\n",
       "      <td>$2 to $5 billion (USD)</td>\n",
       "      <td>NaN</td>\n",
       "    </tr>\n",
       "    <tr>\n",
       "      <th>7727</th>\n",
       "      <td>Process Engineer</td>\n",
       "      <td>NaN</td>\n",
       "      <td>Do you have passion improving processes and so...</td>\n",
       "      <td>NaN</td>\n",
       "      <td>Feed Energy</td>\n",
       "      <td>Des Moines, IA</td>\n",
       "      <td>NaN</td>\n",
       "      <td>NaN</td>\n",
       "      <td>NaN</td>\n",
       "      <td>NaN</td>\n",
       "      <td>NaN</td>\n",
       "      <td>NaN</td>\n",
       "      <td>NaN</td>\n",
       "      <td>NaN</td>\n",
       "    </tr>\n",
       "    <tr>\n",
       "      <th>7728</th>\n",
       "      <td>Process Engineer - Building Materials</td>\n",
       "      <td>Employer Provided Salary:$80K - $100K</td>\n",
       "      <td>BASIC JOB FUNCTIONS / RESPONSIBILITIES:\\nDay t...</td>\n",
       "      <td>NaN</td>\n",
       "      <td>ZAAS</td>\n",
       "      <td>Sanford, NC</td>\n",
       "      <td>NaN</td>\n",
       "      <td>Unknown</td>\n",
       "      <td>NaN</td>\n",
       "      <td>Company - Public</td>\n",
       "      <td>NaN</td>\n",
       "      <td>NaN</td>\n",
       "      <td>NaN</td>\n",
       "      <td>NaN</td>\n",
       "    </tr>\n",
       "    <tr>\n",
       "      <th>7729</th>\n",
       "      <td>Process Engineer - Recycling</td>\n",
       "      <td>Employer Provided Salary:$90K - $130K</td>\n",
       "      <td>Job Details/Description\\nEssential Functions\\n...</td>\n",
       "      <td>NaN</td>\n",
       "      <td>The AZEK Company\\n3.6</td>\n",
       "      <td>Wilmington, OH</td>\n",
       "      <td>NaN</td>\n",
       "      <td>1001 to 5000 Employees</td>\n",
       "      <td>1983.0</td>\n",
       "      <td>Company - Public</td>\n",
       "      <td>Consumer Product Manufacturing</td>\n",
       "      <td>Manufacturing</td>\n",
       "      <td>$500 million to $1 billion (USD)</td>\n",
       "      <td>NaN</td>\n",
       "    </tr>\n",
       "  </tbody>\n",
       "</table>\n",
       "<p>3497 rows × 14 columns</p>\n",
       "</div>"
      ],
      "text/plain": [
       "                                  Job Title  \\\n",
       "50                        Chemical Engineer   \n",
       "58                         Process Engineer   \n",
       "91                Chemical Process Engineer   \n",
       "118                        Process Engineer   \n",
       "119                        Process Engineer   \n",
       "...                                     ...   \n",
       "7725               Ceramic Process Engineer   \n",
       "7726      Pharmaceutical Process Engineer I   \n",
       "7727                       Process Engineer   \n",
       "7728  Process Engineer - Building Materials   \n",
       "7729           Process Engineer - Recycling   \n",
       "\n",
       "                             Salary Estimate  \\\n",
       "50             $63K - $103K (Glassdoor est.)   \n",
       "58    Employer Provided Salary:$115K - $135K   \n",
       "91    Employer Provided Salary:$100K - $120K   \n",
       "118    Employer Provided Salary:$75K - $100K   \n",
       "119             $51K - $93K (Glassdoor est.)   \n",
       "...                                      ...   \n",
       "7725          Employer Provided Salary:$100K   \n",
       "7726           $66K - $114K (Glassdoor est.)   \n",
       "7727                                     NaN   \n",
       "7728   Employer Provided Salary:$80K - $100K   \n",
       "7729   Employer Provided Salary:$90K - $130K   \n",
       "\n",
       "                                        Job Description  Rating  \\\n",
       "50    Requisition Number: HTB-20161010-001\\nPosition...    -1.0   \n",
       "58    Process Engineer\\nWhat’s in it for you?\\nThere...    -1.0   \n",
       "91    Chemical Process Engineer (full-time, permanen...     NaN   \n",
       "118   We are looking for a Process Engineer who is l...     NaN   \n",
       "119   Seneca Foods is one of North America's leading...     NaN   \n",
       "...                                                 ...     ...   \n",
       "7725  Summary/Objective\\nThe Ceramic Process Enginee...     NaN   \n",
       "7726  Position Summary\\nThe Pharmaceutical Process E...     NaN   \n",
       "7727  Do you have passion improving processes and so...     NaN   \n",
       "7728  BASIC JOB FUNCTIONS / RESPONSIBILITIES:\\nDay t...     NaN   \n",
       "7729  Job Details/Description\\nEssential Functions\\n...     NaN   \n",
       "\n",
       "               Company Name        Location  Headquarters  \\\n",
       "50      Hi-Tech Bangla\\n2.2      Dallas, TX          -1.0   \n",
       "58                    Ethos     Augusta, GA          -1.0   \n",
       "91                    Ethos     Olympia, WA           NaN   \n",
       "118       Saint-Gobain\\n4.0         Bow, NH           NaN   \n",
       "119       Seneca Foods\\n3.7        Hart, MI           NaN   \n",
       "...                     ...             ...           ...   \n",
       "7725            Zircoa Inc.       Solon, OH           NaN   \n",
       "7726          Catalent\\n3.5   San Diego, CA           NaN   \n",
       "7727            Feed Energy  Des Moines, IA           NaN   \n",
       "7728                   ZAAS     Sanford, NC           NaN   \n",
       "7729  The AZEK Company\\n3.6  Wilmington, OH           NaN   \n",
       "\n",
       "                        Size Founded Type of ownership  \\\n",
       "50         1 to 50 Employees  2008.0  Company - Public   \n",
       "58                        -1    -1.0                -1   \n",
       "91                       NaN     NaN               NaN   \n",
       "118         10000+ Employees  1665.0  Company - Public   \n",
       "119   1001 to 5000 Employees  1949.0  Company - Public   \n",
       "...                      ...     ...               ...   \n",
       "7725                     NaN     NaN               NaN   \n",
       "7726        10000+ Employees  2007.0  Company - Public   \n",
       "7727                     NaN     NaN               NaN   \n",
       "7728                 Unknown     NaN  Company - Public   \n",
       "7729  1001 to 5000 Employees  1983.0  Company - Public   \n",
       "\n",
       "                            Industry                          Sector  \\\n",
       "50                               NaN                              -1   \n",
       "58                                -1                              -1   \n",
       "91                               NaN                             NaN   \n",
       "118          Machinery Manufacturing                   Manufacturing   \n",
       "119    Food & Beverage Manufacturing                   Manufacturing   \n",
       "...                              ...                             ...   \n",
       "7725                             NaN                             NaN   \n",
       "7726       Biotech & Pharmaceuticals  Pharmaceutical & Biotechnology   \n",
       "7727                             NaN                             NaN   \n",
       "7728                             NaN                             NaN   \n",
       "7729  Consumer Product Manufacturing                   Manufacturing   \n",
       "\n",
       "                               Revenue  Competitors  \n",
       "50          Less than $1 million (USD)         -1.0  \n",
       "58                                  -1         -1.0  \n",
       "91                                 NaN          NaN  \n",
       "118                 $10+ billion (USD)          NaN  \n",
       "119             $1 to $2 billion (USD)          NaN  \n",
       "...                                ...          ...  \n",
       "7725                               NaN          NaN  \n",
       "7726            $2 to $5 billion (USD)          NaN  \n",
       "7727                               NaN          NaN  \n",
       "7728                               NaN          NaN  \n",
       "7729  $500 million to $1 billion (USD)          NaN  \n",
       "\n",
       "[3497 rows x 14 columns]"
      ]
     },
     "execution_count": 21,
     "metadata": {},
     "output_type": "execute_result"
    }
   ],
   "source": [
    "df_combined[df_combined.duplicated()]"
   ]
  },
  {
   "cell_type": "code",
   "execution_count": 22,
   "id": "ab29d63e-4845-4610-afcd-33f478ace71a",
   "metadata": {},
   "outputs": [
    {
     "data": {
      "text/plain": [
       "False    4233\n",
       "True     3497\n",
       "dtype: int64"
      ]
     },
     "execution_count": 22,
     "metadata": {},
     "output_type": "execute_result"
    }
   ],
   "source": [
    "df_combined.duplicated(subset=df_combined.columns).value_counts()"
   ]
  },
  {
   "cell_type": "code",
   "execution_count": 23,
   "id": "3d6a94f2-75be-4c75-8e73-1ba7d202a632",
   "metadata": {},
   "outputs": [],
   "source": [
    "df_dropped_duplicates = df_combined.drop_duplicates(inplace=False)"
   ]
  },
  {
   "cell_type": "code",
   "execution_count": 24,
   "id": "f195f5d8-a00a-449a-8174-8243e611289b",
   "metadata": {},
   "outputs": [
    {
     "name": "stdout",
     "output_type": "stream",
     "text": [
      "<class 'pandas.core.frame.DataFrame'>\n",
      "Int64Index: 4233 entries, 0 to 7716\n",
      "Data columns (total 14 columns):\n",
      " #   Column             Non-Null Count  Dtype  \n",
      "---  ------             --------------  -----  \n",
      " 0   Job Title          4233 non-null   object \n",
      " 1   Salary Estimate    3842 non-null   object \n",
      " 2   Job Description    4233 non-null   object \n",
      " 3   Rating             560 non-null    float64\n",
      " 4   Company Name       4233 non-null   object \n",
      " 5   Location           4232 non-null   object \n",
      " 6   Headquarters       561 non-null    float64\n",
      " 7   Size               3901 non-null   object \n",
      " 8   Founded            3099 non-null   object \n",
      " 9   Type of ownership  3898 non-null   object \n",
      " 10  Industry           3509 non-null   object \n",
      " 11  Sector             3488 non-null   object \n",
      " 12  Revenue            3462 non-null   object \n",
      " 13  Competitors        560 non-null    float64\n",
      "dtypes: float64(3), object(11)\n",
      "memory usage: 496.1+ KB\n"
     ]
    }
   ],
   "source": [
    "df_dropped_duplicates.info()"
   ]
  },
  {
   "cell_type": "code",
   "execution_count": 25,
   "id": "76e53fa2-ff92-4072-9c45-b3ba0292fe89",
   "metadata": {},
   "outputs": [
    {
     "data": {
      "text/plain": [
       "Manufacturing                                  1357\n",
       "Energy, Mining & Utilities                      548\n",
       "Information Technology                          311\n",
       "Pharmaceutical & Biotechnology                  300\n",
       "Construction, Repair & Maintenance Services     197\n",
       "Aerospace & Defense                             168\n",
       "-1                                              146\n",
       "Management & Consulting                          91\n",
       "Human Resources & Staffing                       71\n",
       "Government & Public Administration               63\n",
       "Agriculture                                      43\n",
       "Education                                        39\n",
       "Retail & Wholesale                               35\n",
       "Healthcare                                       27\n",
       "Transportation & Logistics                       18\n",
       "Financial Services                               15\n",
       "Media & Communication                            14\n",
       "Insurance                                        13\n",
       "Unknown / Non-Applicable                         11\n",
       "$10 to $25 million (USD)                          3\n",
       "Telecommunications                                3\n",
       "Restaurants & Food Service                        3\n",
       "Nonprofit & NGO                                   3\n",
       "Personal Consumer Services                        2\n",
       "Hotels & Travel Accommodation                     2\n",
       "Business Consulting                               1\n",
       "Consumer Product Manufacturing                    1\n",
       "Less than $1 million (USD)                        1\n",
       "$5 to $10 million (USD)                           1\n",
       "Energy & Utilities                                1\n",
       "Name: Sector, dtype: int64"
      ]
     },
     "execution_count": 25,
     "metadata": {},
     "output_type": "execute_result"
    }
   ],
   "source": [
    "df_dropped_duplicates['Sector'].value_counts()"
   ]
  },
  {
   "cell_type": "code",
   "execution_count": 26,
   "id": "138515dc-d620-4725-83d7-fd304078d1ce",
   "metadata": {},
   "outputs": [],
   "source": [
    "df_dropped_duplicates.to_csv(r'/Users/user/Desktop/Project/Data/Cleaned Data/NoDuplicates.csv',index=False)"
   ]
  },
  {
   "cell_type": "code",
   "execution_count": 27,
   "id": "a23f045f-d0f8-4cc7-979c-4bedc6035955",
   "metadata": {},
   "outputs": [
    {
     "data": {
      "text/plain": [
       "Process Engineer                                                           634\n",
       "Chemical Engineer                                                          111\n",
       "Chemical Process Engineer                                                   71\n",
       "Senior Process Engineer                                                     53\n",
       "Manufacturing Engineer                                                      50\n",
       "                                                                          ... \n",
       "Manufacturing, Process, and Packaging Engineer - Belvidere, IL               1\n",
       "Process Engineer/Manufacturing Engineer                                      1\n",
       "Manufacturing Process Engineer - New Model Introduction and Maintenance      1\n",
       "Therapeutic Products Program- Process Engineer I-II                          1\n",
       "Process Technology Development Engineer                                      1\n",
       "Name: Job Title, Length: 1922, dtype: int64"
      ]
     },
     "execution_count": 27,
     "metadata": {},
     "output_type": "execute_result"
    }
   ],
   "source": [
    "df_dropped_duplicates['Job Title'].value_counts()"
   ]
  },
  {
   "cell_type": "code",
   "execution_count": 29,
   "id": "a8c56e84-bfb9-4534-b0fb-e3492e987337",
   "metadata": {},
   "outputs": [
    {
     "data": {
      "text/html": [
       "<div>\n",
       "<style scoped>\n",
       "    .dataframe tbody tr th:only-of-type {\n",
       "        vertical-align: middle;\n",
       "    }\n",
       "\n",
       "    .dataframe tbody tr th {\n",
       "        vertical-align: top;\n",
       "    }\n",
       "\n",
       "    .dataframe thead th {\n",
       "        text-align: right;\n",
       "    }\n",
       "</style>\n",
       "<table border=\"1\" class=\"dataframe\">\n",
       "  <thead>\n",
       "    <tr style=\"text-align: right;\">\n",
       "      <th></th>\n",
       "      <th>Job Title</th>\n",
       "      <th>Salary Estimate</th>\n",
       "      <th>Job Description</th>\n",
       "      <th>Rating</th>\n",
       "      <th>Company Name</th>\n",
       "      <th>Location</th>\n",
       "      <th>Headquarters</th>\n",
       "      <th>Size</th>\n",
       "      <th>Founded</th>\n",
       "      <th>Type of ownership</th>\n",
       "      <th>Industry</th>\n",
       "      <th>Sector</th>\n",
       "      <th>Revenue</th>\n",
       "      <th>Competitors</th>\n",
       "    </tr>\n",
       "  </thead>\n",
       "  <tbody>\n",
       "    <tr>\n",
       "      <th>0</th>\n",
       "      <td>Materials Engineer III</td>\n",
       "      <td>$71K - $140K (Glassdoor est.)</td>\n",
       "      <td>In this role you will\\nCharacterize materials ...</td>\n",
       "      <td>-1.0</td>\n",
       "      <td>eTeam Inc.\\n4.3</td>\n",
       "      <td>Seattle, WA</td>\n",
       "      <td>-1.0</td>\n",
       "      <td>5001 to 10000 Employees</td>\n",
       "      <td>1999.0</td>\n",
       "      <td>Company - Private</td>\n",
       "      <td>Staffing &amp; Subcontracting</td>\n",
       "      <td>Human Resources &amp; Staffing</td>\n",
       "      <td>$100 to $500 million (USD)</td>\n",
       "      <td>-1.0</td>\n",
       "    </tr>\n",
       "    <tr>\n",
       "      <th>1</th>\n",
       "      <td>Chemical Process Engineer</td>\n",
       "      <td>Employer Provided Salary:$100K - $120K</td>\n",
       "      <td>Process Engineer (FT, permanent hire position ...</td>\n",
       "      <td>-1.0</td>\n",
       "      <td>Ethos</td>\n",
       "      <td>Dallas, TX</td>\n",
       "      <td>-1.0</td>\n",
       "      <td>-1</td>\n",
       "      <td>-1.0</td>\n",
       "      <td>-1</td>\n",
       "      <td>-1</td>\n",
       "      <td>-1</td>\n",
       "      <td>-1</td>\n",
       "      <td>-1.0</td>\n",
       "    </tr>\n",
       "    <tr>\n",
       "      <th>2</th>\n",
       "      <td>Chemical Engineer</td>\n",
       "      <td>Employer Provided Salary:$63K - $125K</td>\n",
       "      <td>The Opportunity\\nThe Chemical Engineer will be...</td>\n",
       "      <td>-1.0</td>\n",
       "      <td>Clean Harbors\\n3.3</td>\n",
       "      <td>Kimball, NE</td>\n",
       "      <td>-1.0</td>\n",
       "      <td>10000+ Employees</td>\n",
       "      <td>1980.0</td>\n",
       "      <td>Company - Public</td>\n",
       "      <td>Shipping &amp; Trucking</td>\n",
       "      <td>Transportation &amp; Logistics</td>\n",
       "      <td>$2 to $5 billion (USD)</td>\n",
       "      <td>-1.0</td>\n",
       "    </tr>\n",
       "  </tbody>\n",
       "</table>\n",
       "</div>"
      ],
      "text/plain": [
       "                   Job Title                         Salary Estimate  \\\n",
       "0     Materials Engineer III           $71K - $140K (Glassdoor est.)   \n",
       "1  Chemical Process Engineer  Employer Provided Salary:$100K - $120K   \n",
       "2          Chemical Engineer   Employer Provided Salary:$63K - $125K   \n",
       "\n",
       "                                     Job Description  Rating  \\\n",
       "0  In this role you will\\nCharacterize materials ...    -1.0   \n",
       "1  Process Engineer (FT, permanent hire position ...    -1.0   \n",
       "2  The Opportunity\\nThe Chemical Engineer will be...    -1.0   \n",
       "\n",
       "         Company Name     Location  Headquarters                     Size  \\\n",
       "0     eTeam Inc.\\n4.3  Seattle, WA          -1.0  5001 to 10000 Employees   \n",
       "1               Ethos   Dallas, TX          -1.0                       -1   \n",
       "2  Clean Harbors\\n3.3  Kimball, NE          -1.0         10000+ Employees   \n",
       "\n",
       "  Founded  Type of ownership                   Industry  \\\n",
       "0  1999.0  Company - Private  Staffing & Subcontracting   \n",
       "1    -1.0                 -1                         -1   \n",
       "2  1980.0   Company - Public        Shipping & Trucking   \n",
       "\n",
       "                       Sector                     Revenue  Competitors  \n",
       "0  Human Resources & Staffing  $100 to $500 million (USD)         -1.0  \n",
       "1                          -1                          -1         -1.0  \n",
       "2  Transportation & Logistics      $2 to $5 billion (USD)         -1.0  "
      ]
     },
     "execution_count": 29,
     "metadata": {},
     "output_type": "execute_result"
    }
   ],
   "source": [
    "df_dropped_duplicates.head(3)"
   ]
  },
  {
   "cell_type": "code",
   "execution_count": 30,
   "id": "57b73f3d-2c0d-4f3b-bc31-3674d678fee3",
   "metadata": {},
   "outputs": [],
   "source": [
    "df_dropped_unwanted_columns = df_dropped_duplicates.drop(['Rating','Competitors','Headquarters'],axis=1)"
   ]
  },
  {
   "cell_type": "code",
   "execution_count": 31,
   "id": "cf565c9e-2051-45f6-bbf6-961835cf2486",
   "metadata": {},
   "outputs": [],
   "source": [
    "df_dropped_unwanted_columns.to_csv(r'/Users/user/Desktop/Project/Data/Cleaned Data/NoUnWantedCols.csv',index=False)"
   ]
  },
  {
   "cell_type": "code",
   "execution_count": 32,
   "id": "0910faa5-6a6e-4550-973f-71094faad2c0",
   "metadata": {},
   "outputs": [
    {
     "name": "stdout",
     "output_type": "stream",
     "text": [
      "<class 'pandas.core.frame.DataFrame'>\n",
      "Int64Index: 4233 entries, 0 to 7716\n",
      "Data columns (total 11 columns):\n",
      " #   Column             Non-Null Count  Dtype \n",
      "---  ------             --------------  ----- \n",
      " 0   Job Title          4233 non-null   object\n",
      " 1   Salary Estimate    3842 non-null   object\n",
      " 2   Job Description    4233 non-null   object\n",
      " 3   Company Name       4233 non-null   object\n",
      " 4   Location           4232 non-null   object\n",
      " 5   Size               3901 non-null   object\n",
      " 6   Founded            3099 non-null   object\n",
      " 7   Type of ownership  3898 non-null   object\n",
      " 8   Industry           3509 non-null   object\n",
      " 9   Sector             3488 non-null   object\n",
      " 10  Revenue            3462 non-null   object\n",
      "dtypes: object(11)\n",
      "memory usage: 396.8+ KB\n"
     ]
    }
   ],
   "source": [
    "df_dropped_unwanted_columns.info()"
   ]
  },
  {
   "cell_type": "code",
   "execution_count": 33,
   "id": "a05b462e-3ac8-45a7-97f0-9aa2017e9070",
   "metadata": {},
   "outputs": [
    {
     "data": {
      "text/plain": [
       "Company - Public                          2093\n",
       "Company - Private                         1294\n",
       "Subsidiary or Business Segment             191\n",
       "Government                                  80\n",
       "-1                                          65\n",
       "College / University                        36\n",
       "Unknown / Non-Applicable                    24\n",
       "Nonprofit Organization                      23\n",
       "Unknown                                     22\n",
       "Private Practice / Firm                     17\n",
       "Contract                                    12\n",
       "Self-employed                               10\n",
       "Consumer Product Manufacturing               5\n",
       "Transportation Equipment Manufacturing       5\n",
       "Hospital                                     3\n",
       "Energy & Utilities                           2\n",
       "Wood & Paper Manufacturing                   2\n",
       "Machinery Manufacturing                      2\n",
       "Less than $1 million (USD)                   2\n",
       "$5 to $10 million (USD)                      2\n",
       "Architectural & Engineering Services         1\n",
       "Legal                                        1\n",
       "$50 to $100 million (USD)                    1\n",
       "Computer Hardware Development                1\n",
       "Food & Beverage Manufacturing                1\n",
       "Electronics Manufacturing                    1\n",
       "Farm Support                                 1\n",
       "Municipal Agencies                           1\n",
       "Name: Type of ownership, dtype: int64"
      ]
     },
     "execution_count": 33,
     "metadata": {},
     "output_type": "execute_result"
    }
   ],
   "source": [
    "df_dropped_unwanted_columns['Type of ownership'].value_counts()"
   ]
  },
  {
   "cell_type": "code",
   "execution_count": 34,
   "id": "954a4a74-4723-4def-bf5f-cd8b27898cdf",
   "metadata": {},
   "outputs": [
    {
     "data": {
      "text/plain": [
       "$10+ billion (USD)                  1096\n",
       "Unknown / Non-Applicable             350\n",
       "$5 to $10 billion (USD)              347\n",
       "$2 to $5 billion (USD)               319\n",
       "$100 to $500 million (USD)           315\n",
       "$1 to $2 billion (USD)               200\n",
       "-1                                   143\n",
       "$500 million to $1 billion (USD)     133\n",
       "$50 to $100 million (USD)            127\n",
       "$25 to $50 million (USD)             116\n",
       "$10 to $25 million (USD)             113\n",
       "$1 to $5 million (USD)                70\n",
       "$5 to $10 million (USD)               70\n",
       "Less than $1 million (USD)            63\n",
       "Name: Revenue, dtype: int64"
      ]
     },
     "execution_count": 34,
     "metadata": {},
     "output_type": "execute_result"
    }
   ],
   "source": [
    "df_dropped_unwanted_columns['Revenue'].value_counts()"
   ]
  },
  {
   "cell_type": "code",
   "execution_count": 35,
   "id": "9e92aafa-3ec4-479f-a4d9-a1a42adfff52",
   "metadata": {},
   "outputs": [
    {
     "data": {
      "text/html": [
       "<div>\n",
       "<style scoped>\n",
       "    .dataframe tbody tr th:only-of-type {\n",
       "        vertical-align: middle;\n",
       "    }\n",
       "\n",
       "    .dataframe tbody tr th {\n",
       "        vertical-align: top;\n",
       "    }\n",
       "\n",
       "    .dataframe thead th {\n",
       "        text-align: right;\n",
       "    }\n",
       "</style>\n",
       "<table border=\"1\" class=\"dataframe\">\n",
       "  <thead>\n",
       "    <tr style=\"text-align: right;\">\n",
       "      <th></th>\n",
       "      <th>Job Title</th>\n",
       "      <th>Salary Estimate</th>\n",
       "      <th>Job Description</th>\n",
       "      <th>Company Name</th>\n",
       "      <th>Location</th>\n",
       "      <th>Size</th>\n",
       "      <th>Founded</th>\n",
       "      <th>Type of ownership</th>\n",
       "      <th>Industry</th>\n",
       "      <th>Sector</th>\n",
       "      <th>Revenue</th>\n",
       "    </tr>\n",
       "  </thead>\n",
       "  <tbody>\n",
       "    <tr>\n",
       "      <th>count</th>\n",
       "      <td>4233</td>\n",
       "      <td>3842</td>\n",
       "      <td>4233</td>\n",
       "      <td>4233</td>\n",
       "      <td>4232</td>\n",
       "      <td>3901</td>\n",
       "      <td>3099.0</td>\n",
       "      <td>3898</td>\n",
       "      <td>3509</td>\n",
       "      <td>3488</td>\n",
       "      <td>3462</td>\n",
       "    </tr>\n",
       "    <tr>\n",
       "      <th>unique</th>\n",
       "      <td>1922</td>\n",
       "      <td>1729</td>\n",
       "      <td>3658</td>\n",
       "      <td>2050</td>\n",
       "      <td>1331</td>\n",
       "      <td>9</td>\n",
       "      <td>322.0</td>\n",
       "      <td>28</td>\n",
       "      <td>80</td>\n",
       "      <td>30</td>\n",
       "      <td>14</td>\n",
       "    </tr>\n",
       "    <tr>\n",
       "      <th>top</th>\n",
       "      <td>Process Engineer</td>\n",
       "      <td>-1</td>\n",
       "      <td>ABOUT US\\n\\nEstablished in 1992, MINTH has bec...</td>\n",
       "      <td>Intel\\n4.3</td>\n",
       "      <td>Houston, TX</td>\n",
       "      <td>10000+ Employees</td>\n",
       "      <td>1968.0</td>\n",
       "      <td>Company - Public</td>\n",
       "      <td>Energy &amp; Utilities</td>\n",
       "      <td>Manufacturing</td>\n",
       "      <td>$10+ billion (USD)</td>\n",
       "    </tr>\n",
       "    <tr>\n",
       "      <th>freq</th>\n",
       "      <td>634</td>\n",
       "      <td>67</td>\n",
       "      <td>5</td>\n",
       "      <td>69</td>\n",
       "      <td>224</td>\n",
       "      <td>1634</td>\n",
       "      <td>65.0</td>\n",
       "      <td>2093</td>\n",
       "      <td>521</td>\n",
       "      <td>1357</td>\n",
       "      <td>1096</td>\n",
       "    </tr>\n",
       "  </tbody>\n",
       "</table>\n",
       "</div>"
      ],
      "text/plain": [
       "               Job Title Salary Estimate  \\\n",
       "count               4233            3842   \n",
       "unique              1922            1729   \n",
       "top     Process Engineer              -1   \n",
       "freq                 634              67   \n",
       "\n",
       "                                          Job Description Company Name  \\\n",
       "count                                                4233         4233   \n",
       "unique                                               3658         2050   \n",
       "top     ABOUT US\\n\\nEstablished in 1992, MINTH has bec...   Intel\\n4.3   \n",
       "freq                                                    5           69   \n",
       "\n",
       "           Location              Size  Founded Type of ownership  \\\n",
       "count          4232              3901   3099.0              3898   \n",
       "unique         1331                 9    322.0                28   \n",
       "top     Houston, TX  10000+ Employees   1968.0  Company - Public   \n",
       "freq            224              1634     65.0              2093   \n",
       "\n",
       "                  Industry         Sector             Revenue  \n",
       "count                 3509           3488                3462  \n",
       "unique                  80             30                  14  \n",
       "top     Energy & Utilities  Manufacturing  $10+ billion (USD)  \n",
       "freq                   521           1357                1096  "
      ]
     },
     "execution_count": 35,
     "metadata": {},
     "output_type": "execute_result"
    }
   ],
   "source": [
    "df_dropped_unwanted_columns.describe()"
   ]
  },
  {
   "cell_type": "code",
   "execution_count": 36,
   "id": "eb852e54-7171-4ca1-88e6-1ccf84a1b642",
   "metadata": {},
   "outputs": [
    {
     "data": {
      "text/plain": [
       "Intel\\n4.3                               69\n",
       "Apple\\n4.2                               57\n",
       "Northrop Grumman\\n4.0                    54\n",
       "Occidental Petroleum Corporation\\n3.7    38\n",
       "Tesla\\n3.7                               37\n",
       "Marathon Petroleum Company LP\\n3.5       25\n",
       "Worley\\n3.5                              23\n",
       "TDK Headway Technologies, Inc.\\n4.5      23\n",
       "Applied Materials\\n4.0                   22\n",
       "Arkema\\n3.9                              22\n",
       "Name: Company Name, dtype: int64"
      ]
     },
     "execution_count": 36,
     "metadata": {},
     "output_type": "execute_result"
    }
   ],
   "source": [
    "df_dropped_unwanted_columns['Company Name'].value_counts().head(10)"
   ]
  },
  {
   "cell_type": "code",
   "execution_count": 37,
   "id": "282d7570-efee-437c-8e76-fb47f306f08e",
   "metadata": {},
   "outputs": [
    {
     "data": {
      "text/html": [
       "<div>\n",
       "<style scoped>\n",
       "    .dataframe tbody tr th:only-of-type {\n",
       "        vertical-align: middle;\n",
       "    }\n",
       "\n",
       "    .dataframe tbody tr th {\n",
       "        vertical-align: top;\n",
       "    }\n",
       "\n",
       "    .dataframe thead th {\n",
       "        text-align: right;\n",
       "    }\n",
       "</style>\n",
       "<table border=\"1\" class=\"dataframe\">\n",
       "  <thead>\n",
       "    <tr style=\"text-align: right;\">\n",
       "      <th></th>\n",
       "      <th>Job Title</th>\n",
       "      <th>Salary Estimate</th>\n",
       "      <th>Job Description</th>\n",
       "      <th>Company Name</th>\n",
       "      <th>Location</th>\n",
       "      <th>Size</th>\n",
       "      <th>Founded</th>\n",
       "      <th>Type of ownership</th>\n",
       "      <th>Industry</th>\n",
       "      <th>Sector</th>\n",
       "      <th>Revenue</th>\n",
       "    </tr>\n",
       "  </thead>\n",
       "  <tbody>\n",
       "    <tr>\n",
       "      <th>count</th>\n",
       "      <td>4233</td>\n",
       "      <td>3775</td>\n",
       "      <td>4233</td>\n",
       "      <td>4233</td>\n",
       "      <td>4232</td>\n",
       "      <td>3901</td>\n",
       "      <td>3099.0</td>\n",
       "      <td>3898</td>\n",
       "      <td>3509</td>\n",
       "      <td>3488</td>\n",
       "      <td>3462</td>\n",
       "    </tr>\n",
       "    <tr>\n",
       "      <th>unique</th>\n",
       "      <td>1922</td>\n",
       "      <td>1728</td>\n",
       "      <td>3658</td>\n",
       "      <td>2050</td>\n",
       "      <td>1331</td>\n",
       "      <td>9</td>\n",
       "      <td>322.0</td>\n",
       "      <td>28</td>\n",
       "      <td>80</td>\n",
       "      <td>30</td>\n",
       "      <td>14</td>\n",
       "    </tr>\n",
       "    <tr>\n",
       "      <th>top</th>\n",
       "      <td>Process Engineer</td>\n",
       "      <td>Employer Provided Salary:$30 Per Hour</td>\n",
       "      <td>ABOUT US\\n\\nEstablished in 1992, MINTH has bec...</td>\n",
       "      <td>Intel\\n4.3</td>\n",
       "      <td>Houston, TX</td>\n",
       "      <td>10000+ Employees</td>\n",
       "      <td>1968.0</td>\n",
       "      <td>Company - Public</td>\n",
       "      <td>Energy &amp; Utilities</td>\n",
       "      <td>Manufacturing</td>\n",
       "      <td>$10+ billion (USD)</td>\n",
       "    </tr>\n",
       "    <tr>\n",
       "      <th>freq</th>\n",
       "      <td>634</td>\n",
       "      <td>36</td>\n",
       "      <td>5</td>\n",
       "      <td>69</td>\n",
       "      <td>224</td>\n",
       "      <td>1634</td>\n",
       "      <td>65.0</td>\n",
       "      <td>2093</td>\n",
       "      <td>521</td>\n",
       "      <td>1357</td>\n",
       "      <td>1096</td>\n",
       "    </tr>\n",
       "  </tbody>\n",
       "</table>\n",
       "</div>"
      ],
      "text/plain": [
       "               Job Title                        Salary Estimate  \\\n",
       "count               4233                                   3775   \n",
       "unique              1922                                   1728   \n",
       "top     Process Engineer  Employer Provided Salary:$30 Per Hour   \n",
       "freq                 634                                     36   \n",
       "\n",
       "                                          Job Description Company Name  \\\n",
       "count                                                4233         4233   \n",
       "unique                                               3658         2050   \n",
       "top     ABOUT US\\n\\nEstablished in 1992, MINTH has bec...   Intel\\n4.3   \n",
       "freq                                                    5           69   \n",
       "\n",
       "           Location              Size  Founded Type of ownership  \\\n",
       "count          4232              3901   3099.0              3898   \n",
       "unique         1331                 9    322.0                28   \n",
       "top     Houston, TX  10000+ Employees   1968.0  Company - Public   \n",
       "freq            224              1634     65.0              2093   \n",
       "\n",
       "                  Industry         Sector             Revenue  \n",
       "count                 3509           3488                3462  \n",
       "unique                  80             30                  14  \n",
       "top     Energy & Utilities  Manufacturing  $10+ billion (USD)  \n",
       "freq                   521           1357                1096  "
      ]
     },
     "execution_count": 37,
     "metadata": {},
     "output_type": "execute_result"
    }
   ],
   "source": [
    "df_dropped_unwanted_columns['Salary Estimate'].replace(to_replace='-1',value=np.nan,inplace=True)\n",
    "df_dropped_unwanted_columns.describe()"
   ]
  },
  {
   "cell_type": "code",
   "execution_count": 38,
   "id": "36e09059-de1a-40c2-a771-885ff5c0dc44",
   "metadata": {},
   "outputs": [],
   "source": [
    "df_dropped_unwanted_columns['Founded'].replace(to_replace='-1',value=np.nan,inplace=True)\n",
    "df_dropped_unwanted_columns['Industry'].replace(to_replace='-1',value=np.nan,inplace=True)\n",
    "df_dropped_unwanted_columns['Sector'].replace(to_replace='-1',value=np.nan,inplace=True)\n",
    "df_dropped_unwanted_columns['Revenue'].replace(to_replace='-1',value=np.nan,inplace=True)"
   ]
  },
  {
   "cell_type": "code",
   "execution_count": 39,
   "id": "5a9c4145-38f1-46c1-b632-de62d7e19617",
   "metadata": {},
   "outputs": [
    {
     "data": {
      "text/html": [
       "<div>\n",
       "<style scoped>\n",
       "    .dataframe tbody tr th:only-of-type {\n",
       "        vertical-align: middle;\n",
       "    }\n",
       "\n",
       "    .dataframe tbody tr th {\n",
       "        vertical-align: top;\n",
       "    }\n",
       "\n",
       "    .dataframe thead th {\n",
       "        text-align: right;\n",
       "    }\n",
       "</style>\n",
       "<table border=\"1\" class=\"dataframe\">\n",
       "  <thead>\n",
       "    <tr style=\"text-align: right;\">\n",
       "      <th></th>\n",
       "      <th>Job Title</th>\n",
       "      <th>Salary Estimate</th>\n",
       "      <th>Job Description</th>\n",
       "      <th>Company Name</th>\n",
       "      <th>Location</th>\n",
       "      <th>Size</th>\n",
       "      <th>Founded</th>\n",
       "      <th>Type of ownership</th>\n",
       "      <th>Industry</th>\n",
       "      <th>Sector</th>\n",
       "      <th>Revenue</th>\n",
       "    </tr>\n",
       "  </thead>\n",
       "  <tbody>\n",
       "    <tr>\n",
       "      <th>count</th>\n",
       "      <td>4233</td>\n",
       "      <td>3775</td>\n",
       "      <td>4233</td>\n",
       "      <td>4233</td>\n",
       "      <td>4232</td>\n",
       "      <td>3901</td>\n",
       "      <td>3034.0</td>\n",
       "      <td>3898</td>\n",
       "      <td>3366</td>\n",
       "      <td>3342</td>\n",
       "      <td>3319</td>\n",
       "    </tr>\n",
       "    <tr>\n",
       "      <th>unique</th>\n",
       "      <td>1922</td>\n",
       "      <td>1728</td>\n",
       "      <td>3658</td>\n",
       "      <td>2050</td>\n",
       "      <td>1331</td>\n",
       "      <td>9</td>\n",
       "      <td>320.0</td>\n",
       "      <td>28</td>\n",
       "      <td>79</td>\n",
       "      <td>29</td>\n",
       "      <td>13</td>\n",
       "    </tr>\n",
       "    <tr>\n",
       "      <th>top</th>\n",
       "      <td>Process Engineer</td>\n",
       "      <td>Employer Provided Salary:$30 Per Hour</td>\n",
       "      <td>ABOUT US\\n\\nEstablished in 1992, MINTH has bec...</td>\n",
       "      <td>Intel\\n4.3</td>\n",
       "      <td>Houston, TX</td>\n",
       "      <td>10000+ Employees</td>\n",
       "      <td>1968.0</td>\n",
       "      <td>Company - Public</td>\n",
       "      <td>Energy &amp; Utilities</td>\n",
       "      <td>Manufacturing</td>\n",
       "      <td>$10+ billion (USD)</td>\n",
       "    </tr>\n",
       "    <tr>\n",
       "      <th>freq</th>\n",
       "      <td>634</td>\n",
       "      <td>36</td>\n",
       "      <td>5</td>\n",
       "      <td>69</td>\n",
       "      <td>224</td>\n",
       "      <td>1634</td>\n",
       "      <td>65.0</td>\n",
       "      <td>2093</td>\n",
       "      <td>521</td>\n",
       "      <td>1357</td>\n",
       "      <td>1096</td>\n",
       "    </tr>\n",
       "  </tbody>\n",
       "</table>\n",
       "</div>"
      ],
      "text/plain": [
       "               Job Title                        Salary Estimate  \\\n",
       "count               4233                                   3775   \n",
       "unique              1922                                   1728   \n",
       "top     Process Engineer  Employer Provided Salary:$30 Per Hour   \n",
       "freq                 634                                     36   \n",
       "\n",
       "                                          Job Description Company Name  \\\n",
       "count                                                4233         4233   \n",
       "unique                                               3658         2050   \n",
       "top     ABOUT US\\n\\nEstablished in 1992, MINTH has bec...   Intel\\n4.3   \n",
       "freq                                                    5           69   \n",
       "\n",
       "           Location              Size  Founded Type of ownership  \\\n",
       "count          4232              3901   3034.0              3898   \n",
       "unique         1331                 9    320.0                28   \n",
       "top     Houston, TX  10000+ Employees   1968.0  Company - Public   \n",
       "freq            224              1634     65.0              2093   \n",
       "\n",
       "                  Industry         Sector             Revenue  \n",
       "count                 3366           3342                3319  \n",
       "unique                  79             29                  13  \n",
       "top     Energy & Utilities  Manufacturing  $10+ billion (USD)  \n",
       "freq                   521           1357                1096  "
      ]
     },
     "execution_count": 39,
     "metadata": {},
     "output_type": "execute_result"
    }
   ],
   "source": [
    "df_dropped_unwanted_columns['Founded'].replace(to_replace=-1.0,value=np.nan,inplace=True)\n",
    "df_dropped_unwanted_columns.describe()"
   ]
  },
  {
   "cell_type": "code",
   "execution_count": 40,
   "id": "8eb9496d-879b-4fd2-81b5-3f2927972502",
   "metadata": {},
   "outputs": [
    {
     "data": {
      "text/plain": [
       "array([1999.0, nan, 1980.0, 1861.0, 1967.0, 1899.0, 1979.0, 1851.0,\n",
       "       2000.0, 2003.0, 1976.0, 2008.0, 1941.0, 2020.0, 1944.0, 2002.0,\n",
       "       1863.0, 1908.0, 2004.0, 1957.0, 1968.0, 1892.0, 2007.0, 1989.0,\n",
       "       2014.0, 1879.0, 1949.0, 1963.0, 1998.0, 1865.0, 1665.0, 1977.0,\n",
       "       1910.0, 1978.0, 1983.0, 2013.0, 1909.0, 1923.0, 1926.0, 1948.0,\n",
       "       1906.0, 1947.0, 1996.0, 1929.0, 1852.0, 1902.0, 2006.0, 1928.0,\n",
       "       1920.0, 2016.0, 1898.0, 1847.0, 2018.0, 1914.0, 1885.0, 1845.0,\n",
       "       1997.0, 1853.0, 1994.0, 1946.0, 1905.0, 1854.0, 1891.0, 1973.0,\n",
       "       1894.0, 1849.0, 1884.0, 1930.0, 1919.0, 1903.0, 1888.0, 2021.0,\n",
       "       1942.0, 1848.0, 2009.0, 1988.0, 2012.0, 2015.0, 1883.0, 1924.0,\n",
       "       1887.0, 1995.0, 1987.0, 1990.0, 1959.0, 1938.0, 1982.0, 1970.0,\n",
       "       1841.0, 1969.0, 1961.0, 1952.0, 1890.0, 2010.0, 1933.0, 1966.0,\n",
       "       1912.0, 1925.0, 1993.0, 1775.0, 1971.0, 1870.0, '1980', '1926',\n",
       "       '2003', '1851', '1979', '1996', '1885', '1901',\n",
       "       'Company - Private', 'Company - Public', 1901.0, 1876.0, 1817.0,\n",
       "       1986.0, 1958.0, 1943.0, 1860.0, 1972.0, 1830.0, 1917.0, 1850.0,\n",
       "       2011.0, 2017.0, 1759.0, 1962.0, 1984.0, 1868.0, 1918.0, 1915.0,\n",
       "       1911.0, 1872.0, 1907.0, 1955.0, 1932.0, 1866.0, 2019.0, 1916.0,\n",
       "       1931.0, 1874.0, 1985.0, 1897.0, 1936.0, 2001.0, 1846.0, 1837.0,\n",
       "       1886.0, 1864.0, 1960.0, 1964.0, 1954.0, 1857.0, 1831.0, 1939.0,\n",
       "       1950.0, 1668.0, 1799.0, 1802.0, 1991.0, '1940', '1850', '2020',\n",
       "       '1882', '1983', '1906', '1995', '1967', '1971', '1925', '1965',\n",
       "       '1972', '1908', '1943', '1999', '1918', '1987', '1970', '2000',\n",
       "       1818.0, 1927.0, 1965.0, 1981.0, 1843.0, 1951.0, 1880.0, 1889.0,\n",
       "       1855.0, 1935.0, 1740.0, 1873.0, 1940.0, 1975.0, 2005.0, 1904.0,\n",
       "       1812.0, 1900.0, 1934.0, 1913.0, '1948', '1887', '1928', '1916',\n",
       "       '1863', '1865', '1947', '1968', '1989', '1939', '2012', '2016',\n",
       "       '1991', '2018', '1879', '1975', 1921.0, 1877.0, 1974.0, 1781.0,\n",
       "       '1919', '2007', '1985', '1988', '1998', '2021', '2014', '1997',\n",
       "       1895.0, 1832.0, 1956.0, 1788.0, 1828.0, '1978', '2015', '1938',\n",
       "       '1902', '1934', '1855', '1984', '1976', '1889', '1907', '1930',\n",
       "       '1920', 'Self-employed', '1935', '1955', '1891', '1911', '1966',\n",
       "       '1883', '1992', '1884', '2004', '2002', '1950', '1945', '1847',\n",
       "       '1905', '2006', 1862.0, 1871.0, 1823.0, '1913', '1969', '1959',\n",
       "       '1886', '1898', '1924', '1929', '2013', '1962', '1877', '1958',\n",
       "       '2005', 'Contract', '2009', 'Subsidiary or Business Segment',\n",
       "       1869.0, 1867.0, 1878.0, 1945.0, '2001', '1990', '1915', '1921',\n",
       "       '1665', '1897', '1900', '2017', '1994', '1923', '1993', '1949',\n",
       "       '1951', '1870', '1903', '1942', '1973', 1882.0, 'Government',\n",
       "       '2010', '1869', '1802', '1946', 1893, 1937.0, 1796.0, 1858.0,\n",
       "       1992.0, 1896.0, '1910', '1864', '2008', '1981', '1853', 1922.0,\n",
       "       '1888', 1834.0, '1841', '2011'], dtype=object)"
      ]
     },
     "execution_count": 40,
     "metadata": {},
     "output_type": "execute_result"
    }
   ],
   "source": [
    "df_dropped_unwanted_columns['Founded'].unique()"
   ]
  },
  {
   "cell_type": "code",
   "execution_count": 41,
   "id": "469cbacc-1082-4fb3-b9ed-93277216b124",
   "metadata": {},
   "outputs": [],
   "source": [
    "df_dropped_unwanted_columns[df_dropped_unwanted_columns['Founded']=='Company - Public']['Type of Ownership']= 'Company - Public'\n",
    "df_dropped_unwanted_columns[df_dropped_unwanted_columns['Founded']=='Government']['Type of Ownership']= 'Governement'\n",
    "df_dropped_unwanted_columns['Founded'][df_dropped_unwanted_columns['Founded']=='Sel-employed']['Type of Ownership'] = 'Self-employed'\n",
    "df_dropped_unwanted_columns['Founded'][df_dropped_unwanted_columns['Founded']=='Company - Private']['Type of Ownership'] = 'Company - Private'"
   ]
  },
  {
   "cell_type": "code",
   "execution_count": 42,
   "id": "f046abb6-c6f8-41db-8a8c-fc12714c3dfe",
   "metadata": {},
   "outputs": [],
   "source": [
    "df_dropped_unwanted_columns['Founded'].replace(to_replace='Company - Public',value=np.nan,inplace=True)\n",
    "df_dropped_unwanted_columns['Founded'].replace(to_replace='Subsidiary or Business Segment',value=np.nan,inplace=True)\n",
    "df_dropped_unwanted_columns['Founded'].replace(to_replace='Contract',value=np.nan,inplace=True)\n",
    "df_dropped_unwanted_columns['Founded'].replace(to_replace='Government',value=np.nan,inplace=True)\n",
    "df_dropped_unwanted_columns['Founded'].replace(to_replace='Self-employed',value=np.nan,inplace=True)\n",
    "df_dropped_unwanted_columns['Founded'].replace(to_replace='Company - Private',value=np.nan,inplace=True)\n",
    "df_dropped_unwanted_columns['Industry'].replace(to_replace='Unknown / Non-Applicable',value=np.nan,inplace=True)\n",
    "df_dropped_unwanted_columns['Sector'].replace(to_replace='Unknown / Non-Applicable',value=np.nan,inplace=True)\n",
    "df_dropped_unwanted_columns['Revenue'].replace(to_replace='Unknown / Non-Applicable',value=np.nan,inplace=True)\n",
    "df_dropped_unwanted_columns['Type of ownership'].replace(to_replace='Unknown',value=np.nan,inplace=True)\n",
    "df_dropped_unwanted_columns['Type of ownership'].replace(to_replace='-1',value=np.nan,inplace=True)\n",
    "df_dropped_unwanted_columns['Size'].replace(to_replace='-1',value=np.nan,inplace=True)\n",
    "df_dropped_unwanted_columns['Size'].replace(to_replace='Unknown',value=np.nan,inplace=True)"
   ]
  },
  {
   "cell_type": "code",
   "execution_count": 44,
   "id": "8b4a61ca-e058-473d-978c-dcfe0d19ad88",
   "metadata": {},
   "outputs": [
    {
     "data": {
      "text/plain": [
       "dtype('float64')"
      ]
     },
     "execution_count": 44,
     "metadata": {},
     "output_type": "execute_result"
    }
   ],
   "source": [
    "df_dropped_unwanted_columns['Founded'][df_dropped_unwanted_columns['Founded']=='Government'] = np.nan\n",
    "df_dropped_unwanted_columns['Founded'] = df_dropped_unwanted_columns['Founded'].apply(float)\n",
    "df_dropped_unwanted_columns['Founded'].dtype"
   ]
  },
  {
   "cell_type": "code",
   "execution_count": 45,
   "id": "a77ab934-d253-4811-b6e9-4e0a890d836e",
   "metadata": {},
   "outputs": [
    {
     "data": {
      "text/plain": [
       "<AxesSubplot:>"
      ]
     },
     "execution_count": 45,
     "metadata": {},
     "output_type": "execute_result"
    },
    {
     "data": {
      "image/png": "[encoded data removed]",
      "text/plain": [
       "<Figure size 432x288 with 2 Axes>"
      ]
     },
     "metadata": {
      "needs_background": "light"
     },
     "output_type": "display_data"
    }
   ],
   "source": [
    "sns.heatmap(df_dropped_unwanted_columns.isnull(),annot=False,cmap='viridis',yticklabels='vertical')"
   ]
  },
  {
   "cell_type": "code",
   "execution_count": 46,
   "id": "264d851b-cc8e-468f-88d9-647744247582",
   "metadata": {},
   "outputs": [],
   "source": [
    "df_dropped_unwanted_columns['Salary Estimate'].replace(to_replace=np.nan,value='nil',inplace=True)"
   ]
  },
  {
   "cell_type": "code",
   "execution_count": 47,
   "id": "bb30e157-a127-48d2-89da-d53e555c2b72",
   "metadata": {},
   "outputs": [],
   "source": [
    "def cleaned_salary(col):\n",
    "    if 'Per Hour' in col:\n",
    "        salary = re.findall(pattern='\\d{3}|\\d{2}',string=col)\n",
    "        if len([float(i) for i in salary]) == 0:\n",
    "            return np.nan\n",
    "        else:\n",
    "            return (sum([float(i) for i in salary])/len([float(i) for i in salary]))*40*52\n",
    "    else:\n",
    "        salary = re.findall(pattern='\\d{3}|\\d{2}',string=col)\n",
    "        if len([float(i) for i in salary]) == 0:\n",
    "            return np.nan\n",
    "        else:\n",
    "            return (sum([float(i) for i in salary])*10**3)/len([float(i) for i in salary])\n"
   ]
  },
  {
   "cell_type": "code",
   "execution_count": 45,
   "id": "9e196be6-033a-43a7-8a82-6f6db1407cce",
   "metadata": {},
   "outputs": [
    {
     "data": {
      "text/plain": [
       "166400.0"
      ]
     },
     "execution_count": 45,
     "metadata": {},
     "output_type": "execute_result"
    }
   ],
   "source": [
    "cleaned_salary('Employer Provided Salary:$75 - $85 Per Hour')"
   ]
  },
  {
   "cell_type": "code",
   "execution_count": 48,
   "id": "04b5729d-8725-4c1f-b45b-0f7275e1a3bb",
   "metadata": {},
   "outputs": [],
   "source": [
    "df_dropped_unwanted_columns['Average Salary'] = df_dropped_unwanted_columns['Salary Estimate'].apply(cleaned_salary)"
   ]
  },
  {
   "cell_type": "code",
   "execution_count": 49,
   "id": "273d0496-e2ce-44b3-8eb6-d7ae06d935eb",
   "metadata": {},
   "outputs": [
    {
     "data": {
      "text/plain": [
       "count      3775.000000\n",
       "mean      86693.886093\n",
       "std       24024.054425\n",
       "min       10000.000000\n",
       "25%       73000.000000\n",
       "50%       84500.000000\n",
       "75%       98000.000000\n",
       "max      250000.000000\n",
       "Name: Average Salary, dtype: float64"
      ]
     },
     "execution_count": 49,
     "metadata": {},
     "output_type": "execute_result"
    }
   ],
   "source": [
    "df_dropped_unwanted_columns['Average Salary'].describe()"
   ]
  },
  {
   "cell_type": "code",
   "execution_count": 50,
   "id": "e048066d-95c0-4677-a5f9-2a58ff5f9cab",
   "metadata": {},
   "outputs": [
    {
     "data": {
      "text/plain": [
       "\"You may not realize it, but you’ve likely used a product today made possible by the plastics and chemicals manufactured by Chevron Phillips Chemical. From medical supplies and electronics to food packaging and cosmetics, we create the building blocks for more than 70,000 consumer and industrial products.\\n\\nEven as a global company with 5,000 employees, we maintain a “small company feel” and uphold a culture of respect, diversity, and inclusion. Ask any Chevron Phillips Chemical employee what they like best about their job, and universally, the answer is “the people I work with!” We value work-life balance, and love to see our employees thrive both professionally and personally. There has never been a better time to work for Chevron Phillips Chemical. If you’re ready to grow with us and become part of our vision of being the premier Chemical Company, apply today!\\n\\nPurpose/Introduction\\nWe are seeking a Lead Project Engineer to join our team at the Pasadena Complex located in Pasadena, Texas. This role will lead a team of engineers focused on managing turnaround capital projects but may include non-turnaround capital and expense projects as well.\\n\\nThis position will lead and direct the activities of 3 to 4 project engineers at the Pasadena facility. The capital project engineers manage capital and expense projects from $250k up to $10 MM, using Chevron Project Development and Execution Process (CPDEP). The successful Lead Project Engineer may also directly manage some projects.\\nResponsibilities\\nProvide leadership & technical support for Project Engineering; maintaining personnel and contractor safety, ensuring process safety and environment expectations are met, and committed costs and schedules achieved.\\nPlans, prioritizes, coordinates, and aligns the work group activities to ensure that projects are delivered safely, on time, and on budget.\\nResponsible for the coordination and alignment of the teams turnaround project portfolio with the turnaround execution team.\\nResponsible for managing the EPC firm resources supporting the turnaround project portfolio,\\nMentor the Project Engineers and guide them through the CPDEP process\\nAssist Project Engineers with contract management for outside contractors\\nEnsure Execution Project Deliverables are completed in accordance with the project plans.\\nProvide weekly and monthly updates on all projects, including capital spend forecasting data and other metrics\\nEnsure Project Engineers execute required SAP activities for project financial tracking\\nAssist with setting priorities of project execution schedule for design contractor and construction contractor\\nDevelop/Revise Project Engineering department procedures\\nRequired Qualifications\\nA minimum of a Bachelor's degree in Engineering with at least 7 years chemical plant or refinery experience.\\nCommitment to safety along with strong leadership and the ability to coordinate multi-disciplined teams.\\nSelf-starter with above average presentation, planning, communications, interpersonal, leadership and organizational skills.\\nExperience managing multiple assignments, people, and projects in a manufacturing environment.\\nKnowledge of industry design codes and practices.\\nPreferred Qualifications\\nExperience in the development, managing and execution of capital projects during plant turnarounds\\nExperienced in managing EPC resources\\nMinimum of 5 years leading projects in chemical plant or refinery.\\nExperience with CPDEP or other project management process.\\nExperience in SAP, scheduling, project controls, and cost estimation\\nPrevious experience mentoring engineers\\n\\nChevron Phillips Chemical offers competitive salaries, a comprehensive benefits package and at most locations, alternate work schedules.\\n\\nPaper resumes will not be accepted. All job seekers must go to the web site to be considered for positions. If you are interested in applying for this position and need an accommodation to apply, please contact our Human Resources Service Center at 1-800-446-1422, option 4.\\n\\nChevron Phillips Chemical Company is an Equal Opportunity / Affirmative Action employer. All qualified applicants will receive consideration for employment without regard to race, color, religion, sex, gender identity, sexual orientation, national origin, ancestry, age, disability, veteran status or marital status.\\n\\nTo all recruitment agencies: We are not responsible for any fee related to unsolicited resumes from 3rd party staffing and recruiting agencies (whether submitted through this website or sent directly to employees) unless a written agreement is in place between the agency and Chevron Phillips Chemical Company LP (“Company”) and an authorized Company representative makes a written request to the agency to assist with this requisition. Similarly, no fee will be paid for candidates who apply and claim to be represented by an agency. Any unsolicited resumes, CVs, or other candidate information submitted by an agency will become the property of Company, and no fee will be paid in the event such candidate is hired.\\n\\nTravel Requirements: Up to 10%\\nEligibility for Relocation: No\\nClosing Date: 07/17/2022\\n\\n\\nNearest Major Market: Houston\\nJob Segment: Project Engineer, Facilities, Manager, Electronics Engineer, Manufacturing Engineer, Engineering, Operations, Management\\nStart your job application: click Apply Now\\nShow Less\""
      ]
     },
     "execution_count": 50,
     "metadata": {},
     "output_type": "execute_result"
    }
   ],
   "source": [
    "df_dropped_unwanted_columns[df_dropped_unwanted_columns['Average Salary']==250000]['Job Description'].iloc[0]"
   ]
  },
  {
   "cell_type": "code",
   "execution_count": 51,
   "id": "537d2356-11e5-477b-a5c7-b68f292ea54b",
   "metadata": {},
   "outputs": [
    {
     "data": {
      "text/html": [
       "<div>\n",
       "<style scoped>\n",
       "    .dataframe tbody tr th:only-of-type {\n",
       "        vertical-align: middle;\n",
       "    }\n",
       "\n",
       "    .dataframe tbody tr th {\n",
       "        vertical-align: top;\n",
       "    }\n",
       "\n",
       "    .dataframe thead th {\n",
       "        text-align: right;\n",
       "    }\n",
       "</style>\n",
       "<table border=\"1\" class=\"dataframe\">\n",
       "  <thead>\n",
       "    <tr style=\"text-align: right;\">\n",
       "      <th></th>\n",
       "      <th>Average Salary</th>\n",
       "    </tr>\n",
       "    <tr>\n",
       "      <th>Job Title</th>\n",
       "      <th></th>\n",
       "    </tr>\n",
       "  </thead>\n",
       "  <tbody>\n",
       "    <tr>\n",
       "      <th>Project Engineer Team Lead</th>\n",
       "      <td>250000.0</td>\n",
       "    </tr>\n",
       "    <tr>\n",
       "      <th>Sales Manager - Oil &amp; Gas</th>\n",
       "      <td>240000.0</td>\n",
       "    </tr>\n",
       "    <tr>\n",
       "      <th>Senior Staff MOCVD Process Engineer</th>\n",
       "      <td>200000.0</td>\n",
       "    </tr>\n",
       "    <tr>\n",
       "      <th>Director of Engineering</th>\n",
       "      <td>200000.0</td>\n",
       "    </tr>\n",
       "    <tr>\n",
       "      <th>Director of Business Development MSW Leachate</th>\n",
       "      <td>187500.0</td>\n",
       "    </tr>\n",
       "    <tr>\n",
       "      <th>Petrochemicals Industry Expert</th>\n",
       "      <td>182500.0</td>\n",
       "    </tr>\n",
       "    <tr>\n",
       "      <th>Process Scientist</th>\n",
       "      <td>182000.0</td>\n",
       "    </tr>\n",
       "    <tr>\n",
       "      <th>Drilling Engineering Manager</th>\n",
       "      <td>180000.0</td>\n",
       "    </tr>\n",
       "    <tr>\n",
       "      <th>Inkjet Process Integration Engineer</th>\n",
       "      <td>180000.0</td>\n",
       "    </tr>\n",
       "    <tr>\n",
       "      <th>Chemical Nuclear Engineer</th>\n",
       "      <td>176800.0</td>\n",
       "    </tr>\n",
       "  </tbody>\n",
       "</table>\n",
       "</div>"
      ],
      "text/plain": [
       "                                               Average Salary\n",
       "Job Title                                                    \n",
       "Project Engineer Team Lead                           250000.0\n",
       "Sales Manager - Oil & Gas                            240000.0\n",
       "Senior Staff MOCVD Process Engineer                  200000.0\n",
       "Director of Engineering                              200000.0\n",
       "Director of Business Development MSW Leachate        187500.0\n",
       "Petrochemicals Industry Expert                       182500.0\n",
       "Process Scientist                                    182000.0\n",
       "Drilling Engineering Manager                         180000.0\n",
       "Inkjet Process Integration Engineer                  180000.0\n",
       "Chemical Nuclear Engineer                            176800.0"
      ]
     },
     "execution_count": 51,
     "metadata": {},
     "output_type": "execute_result"
    }
   ],
   "source": [
    "bySalary = pd.pivot_table(data=df_dropped_unwanted_columns,index='Job Title',values='Average Salary')\n",
    "bySalary.sort_values(by='Average Salary', ascending = False).head(10)"
   ]
  },
  {
   "cell_type": "code",
   "execution_count": 52,
   "id": "3bfc5f0f-4a65-41d2-b38b-0cc8361cde9b",
   "metadata": {},
   "outputs": [
    {
     "data": {
      "text/html": [
       "<div>\n",
       "<style scoped>\n",
       "    .dataframe tbody tr th:only-of-type {\n",
       "        vertical-align: middle;\n",
       "    }\n",
       "\n",
       "    .dataframe tbody tr th {\n",
       "        vertical-align: top;\n",
       "    }\n",
       "\n",
       "    .dataframe thead th {\n",
       "        text-align: right;\n",
       "    }\n",
       "</style>\n",
       "<table border=\"1\" class=\"dataframe\">\n",
       "  <thead>\n",
       "    <tr style=\"text-align: right;\">\n",
       "      <th></th>\n",
       "      <th>Average Salary</th>\n",
       "    </tr>\n",
       "    <tr>\n",
       "      <th>Location</th>\n",
       "      <th></th>\n",
       "    </tr>\n",
       "  </thead>\n",
       "  <tbody>\n",
       "    <tr>\n",
       "      <th>Benson, NC</th>\n",
       "      <td>202800.0</td>\n",
       "    </tr>\n",
       "    <tr>\n",
       "      <th>Goleta, CA</th>\n",
       "      <td>200000.0</td>\n",
       "    </tr>\n",
       "    <tr>\n",
       "      <th>Seabrook, TX</th>\n",
       "      <td>171600.0</td>\n",
       "    </tr>\n",
       "    <tr>\n",
       "      <th>Arvada, CO</th>\n",
       "      <td>161000.0</td>\n",
       "    </tr>\n",
       "    <tr>\n",
       "      <th>Fishers, IN</th>\n",
       "      <td>160000.0</td>\n",
       "    </tr>\n",
       "    <tr>\n",
       "      <th>Hampton, VA</th>\n",
       "      <td>152000.0</td>\n",
       "    </tr>\n",
       "    <tr>\n",
       "      <th>Nekoosa, WI</th>\n",
       "      <td>150000.0</td>\n",
       "    </tr>\n",
       "    <tr>\n",
       "      <th>Sykesville, MD</th>\n",
       "      <td>150000.0</td>\n",
       "    </tr>\n",
       "    <tr>\n",
       "      <th>Los Alamitos, CA</th>\n",
       "      <td>148720.0</td>\n",
       "    </tr>\n",
       "    <tr>\n",
       "      <th>Yorktown Heights, NY</th>\n",
       "      <td>146500.0</td>\n",
       "    </tr>\n",
       "  </tbody>\n",
       "</table>\n",
       "</div>"
      ],
      "text/plain": [
       "                      Average Salary\n",
       "Location                            \n",
       "Benson, NC                  202800.0\n",
       "Goleta, CA                  200000.0\n",
       "Seabrook, TX                171600.0\n",
       "Arvada, CO                  161000.0\n",
       "Fishers, IN                 160000.0\n",
       "Hampton, VA                 152000.0\n",
       "Nekoosa, WI                 150000.0\n",
       "Sykesville, MD              150000.0\n",
       "Los Alamitos, CA            148720.0\n",
       "Yorktown Heights, NY        146500.0"
      ]
     },
     "execution_count": 52,
     "metadata": {},
     "output_type": "execute_result"
    }
   ],
   "source": [
    "byLoc = pd.pivot_table(data=df_dropped_unwanted_columns,index='Location',values='Average Salary')\n",
    "byLoc.sort_values(by='Average Salary', ascending = False).head(10)"
   ]
  },
  {
   "cell_type": "code",
   "execution_count": 53,
   "id": "f73b8797-d85d-496a-8dbf-df605092ee45",
   "metadata": {},
   "outputs": [
    {
     "data": {
      "text/html": [
       "<div>\n",
       "<style scoped>\n",
       "    .dataframe tbody tr th:only-of-type {\n",
       "        vertical-align: middle;\n",
       "    }\n",
       "\n",
       "    .dataframe tbody tr th {\n",
       "        vertical-align: top;\n",
       "    }\n",
       "\n",
       "    .dataframe thead th {\n",
       "        text-align: right;\n",
       "    }\n",
       "</style>\n",
       "<table border=\"1\" class=\"dataframe\">\n",
       "  <thead>\n",
       "    <tr style=\"text-align: right;\">\n",
       "      <th></th>\n",
       "      <th>Average Salary</th>\n",
       "    </tr>\n",
       "    <tr>\n",
       "      <th>Sector</th>\n",
       "      <th></th>\n",
       "    </tr>\n",
       "  </thead>\n",
       "  <tbody>\n",
       "    <tr>\n",
       "      <th>Insurance</th>\n",
       "      <td>113666.666667</td>\n",
       "    </tr>\n",
       "    <tr>\n",
       "      <th>Telecommunications</th>\n",
       "      <td>105333.333333</td>\n",
       "    </tr>\n",
       "    <tr>\n",
       "      <th>$5 to $10 million (USD)</th>\n",
       "      <td>100000.000000</td>\n",
       "    </tr>\n",
       "    <tr>\n",
       "      <th>Information Technology</th>\n",
       "      <td>98426.133333</td>\n",
       "    </tr>\n",
       "    <tr>\n",
       "      <th>Business Consulting</th>\n",
       "      <td>95000.000000</td>\n",
       "    </tr>\n",
       "    <tr>\n",
       "      <th>Management &amp; Consulting</th>\n",
       "      <td>93532.048193</td>\n",
       "    </tr>\n",
       "    <tr>\n",
       "      <th>Human Resources &amp; Staffing</th>\n",
       "      <td>92679.436620</td>\n",
       "    </tr>\n",
       "    <tr>\n",
       "      <th>Energy, Mining &amp; Utilities</th>\n",
       "      <td>92259.728155</td>\n",
       "    </tr>\n",
       "    <tr>\n",
       "      <th>Aerospace &amp; Defense</th>\n",
       "      <td>91443.358779</td>\n",
       "    </tr>\n",
       "    <tr>\n",
       "      <th>Government &amp; Public Administration</th>\n",
       "      <td>91292.063492</td>\n",
       "    </tr>\n",
       "    <tr>\n",
       "      <th>Energy &amp; Utilities</th>\n",
       "      <td>89000.000000</td>\n",
       "    </tr>\n",
       "    <tr>\n",
       "      <th>Personal Consumer Services</th>\n",
       "      <td>87510.000000</td>\n",
       "    </tr>\n",
       "    <tr>\n",
       "      <th>Consumer Product Manufacturing</th>\n",
       "      <td>86500.000000</td>\n",
       "    </tr>\n",
       "    <tr>\n",
       "      <th>Transportation &amp; Logistics</th>\n",
       "      <td>85562.500000</td>\n",
       "    </tr>\n",
       "    <tr>\n",
       "      <th>$10 to $25 million (USD)</th>\n",
       "      <td>85500.000000</td>\n",
       "    </tr>\n",
       "    <tr>\n",
       "      <th>Construction, Repair &amp; Maintenance Services</th>\n",
       "      <td>84366.111111</td>\n",
       "    </tr>\n",
       "    <tr>\n",
       "      <th>Pharmaceutical &amp; Biotechnology</th>\n",
       "      <td>84163.023256</td>\n",
       "    </tr>\n",
       "    <tr>\n",
       "      <th>Manufacturing</th>\n",
       "      <td>83501.152328</td>\n",
       "    </tr>\n",
       "    <tr>\n",
       "      <th>Financial Services</th>\n",
       "      <td>80625.000000</td>\n",
       "    </tr>\n",
       "    <tr>\n",
       "      <th>Agriculture</th>\n",
       "      <td>79951.162791</td>\n",
       "    </tr>\n",
       "    <tr>\n",
       "      <th>Healthcare</th>\n",
       "      <td>76477.272727</td>\n",
       "    </tr>\n",
       "    <tr>\n",
       "      <th>Education</th>\n",
       "      <td>75092.258065</td>\n",
       "    </tr>\n",
       "    <tr>\n",
       "      <th>Media &amp; Communication</th>\n",
       "      <td>74875.000000</td>\n",
       "    </tr>\n",
       "    <tr>\n",
       "      <th>Less than $1 million (USD)</th>\n",
       "      <td>72000.000000</td>\n",
       "    </tr>\n",
       "    <tr>\n",
       "      <th>Retail &amp; Wholesale</th>\n",
       "      <td>71031.250000</td>\n",
       "    </tr>\n",
       "    <tr>\n",
       "      <th>Nonprofit &amp; NGO</th>\n",
       "      <td>66433.333333</td>\n",
       "    </tr>\n",
       "    <tr>\n",
       "      <th>Hotels &amp; Travel Accommodation</th>\n",
       "      <td>60250.000000</td>\n",
       "    </tr>\n",
       "    <tr>\n",
       "      <th>Restaurants &amp; Food Service</th>\n",
       "      <td>57546.666667</td>\n",
       "    </tr>\n",
       "  </tbody>\n",
       "</table>\n",
       "</div>"
      ],
      "text/plain": [
       "                                             Average Salary\n",
       "Sector                                                     \n",
       "Insurance                                     113666.666667\n",
       "Telecommunications                            105333.333333\n",
       "$5 to $10 million (USD)                       100000.000000\n",
       "Information Technology                         98426.133333\n",
       "Business Consulting                            95000.000000\n",
       "Management & Consulting                        93532.048193\n",
       "Human Resources & Staffing                     92679.436620\n",
       "Energy, Mining & Utilities                     92259.728155\n",
       "Aerospace & Defense                            91443.358779\n",
       "Government & Public Administration             91292.063492\n",
       "Energy & Utilities                             89000.000000\n",
       "Personal Consumer Services                     87510.000000\n",
       "Consumer Product Manufacturing                 86500.000000\n",
       "Transportation & Logistics                     85562.500000\n",
       "$10 to $25 million (USD)                       85500.000000\n",
       "Construction, Repair & Maintenance Services    84366.111111\n",
       "Pharmaceutical & Biotechnology                 84163.023256\n",
       "Manufacturing                                  83501.152328\n",
       "Financial Services                             80625.000000\n",
       "Agriculture                                    79951.162791\n",
       "Healthcare                                     76477.272727\n",
       "Education                                      75092.258065\n",
       "Media & Communication                          74875.000000\n",
       "Less than $1 million (USD)                     72000.000000\n",
       "Retail & Wholesale                             71031.250000\n",
       "Nonprofit & NGO                                66433.333333\n",
       "Hotels & Travel Accommodation                  60250.000000\n",
       "Restaurants & Food Service                     57546.666667"
      ]
     },
     "execution_count": 53,
     "metadata": {},
     "output_type": "execute_result"
    }
   ],
   "source": [
    "byInd = pd.pivot_table(data=df_dropped_unwanted_columns,index='Sector',values='Average Salary')\n",
    "byInd.sort_values(by='Average Salary', ascending = False)"
   ]
  },
  {
   "cell_type": "code",
   "execution_count": 88,
   "id": "a1384b4a",
   "metadata": {},
   "outputs": [],
   "source": [
    "df_dropped_unwanted_columns['Sector'].replace(to_replace='5 to 10 million (USD)',value=np.nan,inplace=True)\n",
    "df_dropped_unwanted_columns['Sector'].replace(to_replace='10 to 25 million (USD)',value=np.nan,inplace=True)\n",
    "df_dropped_unwanted_columns['Sector'].replace(to_replace='Less than $1 million (USD)',value=np.nan,inplace=True)"
   ]
  },
  {
   "cell_type": "code",
   "execution_count": 89,
   "id": "270cb396",
   "metadata": {},
   "outputs": [
    {
     "data": {
      "text/html": [
       "<div>\n",
       "<style scoped>\n",
       "    .dataframe tbody tr th:only-of-type {\n",
       "        vertical-align: middle;\n",
       "    }\n",
       "\n",
       "    .dataframe tbody tr th {\n",
       "        vertical-align: top;\n",
       "    }\n",
       "\n",
       "    .dataframe thead th {\n",
       "        text-align: right;\n",
       "    }\n",
       "</style>\n",
       "<table border=\"1\" class=\"dataframe\">\n",
       "  <thead>\n",
       "    <tr style=\"text-align: right;\">\n",
       "      <th></th>\n",
       "      <th>Average Salary</th>\n",
       "    </tr>\n",
       "    <tr>\n",
       "      <th>Sector</th>\n",
       "      <th></th>\n",
       "    </tr>\n",
       "  </thead>\n",
       "  <tbody>\n",
       "    <tr>\n",
       "      <th>Insurance</th>\n",
       "      <td>113666.666667</td>\n",
       "    </tr>\n",
       "    <tr>\n",
       "      <th>Telecommunications</th>\n",
       "      <td>105333.333333</td>\n",
       "    </tr>\n",
       "    <tr>\n",
       "      <th>$5 to $10 million (USD)</th>\n",
       "      <td>100000.000000</td>\n",
       "    </tr>\n",
       "    <tr>\n",
       "      <th>Information Technology</th>\n",
       "      <td>98426.133333</td>\n",
       "    </tr>\n",
       "    <tr>\n",
       "      <th>Business Consulting</th>\n",
       "      <td>95000.000000</td>\n",
       "    </tr>\n",
       "    <tr>\n",
       "      <th>Management &amp; Consulting</th>\n",
       "      <td>93532.048193</td>\n",
       "    </tr>\n",
       "    <tr>\n",
       "      <th>Human Resources &amp; Staffing</th>\n",
       "      <td>92679.436620</td>\n",
       "    </tr>\n",
       "    <tr>\n",
       "      <th>Energy, Mining &amp; Utilities</th>\n",
       "      <td>92259.728155</td>\n",
       "    </tr>\n",
       "    <tr>\n",
       "      <th>Aerospace &amp; Defense</th>\n",
       "      <td>91443.358779</td>\n",
       "    </tr>\n",
       "    <tr>\n",
       "      <th>Government &amp; Public Administration</th>\n",
       "      <td>91292.063492</td>\n",
       "    </tr>\n",
       "    <tr>\n",
       "      <th>Energy &amp; Utilities</th>\n",
       "      <td>89000.000000</td>\n",
       "    </tr>\n",
       "    <tr>\n",
       "      <th>Personal Consumer Services</th>\n",
       "      <td>87510.000000</td>\n",
       "    </tr>\n",
       "    <tr>\n",
       "      <th>Consumer Product Manufacturing</th>\n",
       "      <td>86500.000000</td>\n",
       "    </tr>\n",
       "    <tr>\n",
       "      <th>Transportation &amp; Logistics</th>\n",
       "      <td>85562.500000</td>\n",
       "    </tr>\n",
       "    <tr>\n",
       "      <th>$10 to $25 million (USD)</th>\n",
       "      <td>85500.000000</td>\n",
       "    </tr>\n",
       "    <tr>\n",
       "      <th>Construction, Repair &amp; Maintenance Services</th>\n",
       "      <td>84366.111111</td>\n",
       "    </tr>\n",
       "    <tr>\n",
       "      <th>Pharmaceutical &amp; Biotechnology</th>\n",
       "      <td>84163.023256</td>\n",
       "    </tr>\n",
       "    <tr>\n",
       "      <th>Manufacturing</th>\n",
       "      <td>83501.152328</td>\n",
       "    </tr>\n",
       "    <tr>\n",
       "      <th>Financial Services</th>\n",
       "      <td>80625.000000</td>\n",
       "    </tr>\n",
       "    <tr>\n",
       "      <th>Agriculture</th>\n",
       "      <td>79951.162791</td>\n",
       "    </tr>\n",
       "    <tr>\n",
       "      <th>Healthcare</th>\n",
       "      <td>76477.272727</td>\n",
       "    </tr>\n",
       "    <tr>\n",
       "      <th>Education</th>\n",
       "      <td>75092.258065</td>\n",
       "    </tr>\n",
       "    <tr>\n",
       "      <th>Media &amp; Communication</th>\n",
       "      <td>74875.000000</td>\n",
       "    </tr>\n",
       "    <tr>\n",
       "      <th>Retail &amp; Wholesale</th>\n",
       "      <td>71031.250000</td>\n",
       "    </tr>\n",
       "    <tr>\n",
       "      <th>Nonprofit &amp; NGO</th>\n",
       "      <td>66433.333333</td>\n",
       "    </tr>\n",
       "    <tr>\n",
       "      <th>Hotels &amp; Travel Accommodation</th>\n",
       "      <td>60250.000000</td>\n",
       "    </tr>\n",
       "    <tr>\n",
       "      <th>Restaurants &amp; Food Service</th>\n",
       "      <td>57546.666667</td>\n",
       "    </tr>\n",
       "  </tbody>\n",
       "</table>\n",
       "</div>"
      ],
      "text/plain": [
       "                                             Average Salary\n",
       "Sector                                                     \n",
       "Insurance                                     113666.666667\n",
       "Telecommunications                            105333.333333\n",
       "$5 to $10 million (USD)                       100000.000000\n",
       "Information Technology                         98426.133333\n",
       "Business Consulting                            95000.000000\n",
       "Management & Consulting                        93532.048193\n",
       "Human Resources & Staffing                     92679.436620\n",
       "Energy, Mining & Utilities                     92259.728155\n",
       "Aerospace & Defense                            91443.358779\n",
       "Government & Public Administration             91292.063492\n",
       "Energy & Utilities                             89000.000000\n",
       "Personal Consumer Services                     87510.000000\n",
       "Consumer Product Manufacturing                 86500.000000\n",
       "Transportation & Logistics                     85562.500000\n",
       "$10 to $25 million (USD)                       85500.000000\n",
       "Construction, Repair & Maintenance Services    84366.111111\n",
       "Pharmaceutical & Biotechnology                 84163.023256\n",
       "Manufacturing                                  83501.152328\n",
       "Financial Services                             80625.000000\n",
       "Agriculture                                    79951.162791\n",
       "Healthcare                                     76477.272727\n",
       "Education                                      75092.258065\n",
       "Media & Communication                          74875.000000\n",
       "Retail & Wholesale                             71031.250000\n",
       "Nonprofit & NGO                                66433.333333\n",
       "Hotels & Travel Accommodation                  60250.000000\n",
       "Restaurants & Food Service                     57546.666667"
      ]
     },
     "execution_count": 89,
     "metadata": {},
     "output_type": "execute_result"
    }
   ],
   "source": [
    "byInd = pd.pivot_table(data=df_dropped_unwanted_columns,index='Sector',values='Average Salary')\n",
    "byInd.sort_values(by='Average Salary', ascending = False)"
   ]
  },
  {
   "cell_type": "code",
   "execution_count": 66,
   "id": "18ebc547-0da5-4f5b-af12-a22707763aac",
   "metadata": {},
   "outputs": [],
   "source": [
    "df_dropped_unwanted_columns.to_csv(r'/Users/user/Desktop/Project/Data/Cleaned Data/CleanedSalary.csv',index=False)"
   ]
  },
  {
   "cell_type": "code",
   "execution_count": 67,
   "id": "dea6bf34-ffe5-40e8-beb1-3c94a4bd5443",
   "metadata": {},
   "outputs": [
    {
     "data": {
      "text/html": [
       "<div>\n",
       "<style scoped>\n",
       "    .dataframe tbody tr th:only-of-type {\n",
       "        vertical-align: middle;\n",
       "    }\n",
       "\n",
       "    .dataframe tbody tr th {\n",
       "        vertical-align: top;\n",
       "    }\n",
       "\n",
       "    .dataframe thead th {\n",
       "        text-align: right;\n",
       "    }\n",
       "</style>\n",
       "<table border=\"1\" class=\"dataframe\">\n",
       "  <thead>\n",
       "    <tr style=\"text-align: right;\">\n",
       "      <th></th>\n",
       "      <th>Average Salary</th>\n",
       "    </tr>\n",
       "    <tr>\n",
       "      <th>Company Name</th>\n",
       "      <th></th>\n",
       "    </tr>\n",
       "  </thead>\n",
       "  <tbody>\n",
       "    <tr>\n",
       "      <th>FPG\\n4.0</th>\n",
       "      <td>240000.0</td>\n",
       "    </tr>\n",
       "    <tr>\n",
       "      <th>SM&amp;A\\n3.9</th>\n",
       "      <td>230880.0</td>\n",
       "    </tr>\n",
       "    <tr>\n",
       "      <th>Mackin Talent\\n4.2</th>\n",
       "      <td>205920.0</td>\n",
       "    </tr>\n",
       "    <tr>\n",
       "      <th>Affordable Personnel Services</th>\n",
       "      <td>202800.0</td>\n",
       "    </tr>\n",
       "    <tr>\n",
       "      <th>WCL Group\\n5.0</th>\n",
       "      <td>200000.0</td>\n",
       "    </tr>\n",
       "    <tr>\n",
       "      <th>...</th>\n",
       "      <td>...</td>\n",
       "    </tr>\n",
       "    <tr>\n",
       "      <th>Wickham Industries\\n3.7</th>\n",
       "      <td>29120.0</td>\n",
       "    </tr>\n",
       "    <tr>\n",
       "      <th>State of Tennessee\\n3.4</th>\n",
       "      <td>26000.0</td>\n",
       "    </tr>\n",
       "    <tr>\n",
       "      <th>PriceRite\\n3.5</th>\n",
       "      <td>26000.0</td>\n",
       "    </tr>\n",
       "    <tr>\n",
       "      <th>University of Nevada, Reno\\n4.1</th>\n",
       "      <td>24960.0</td>\n",
       "    </tr>\n",
       "    <tr>\n",
       "      <th>Allied Engineering and Design\\n2.0</th>\n",
       "      <td>10000.0</td>\n",
       "    </tr>\n",
       "  </tbody>\n",
       "</table>\n",
       "<p>1840 rows × 1 columns</p>\n",
       "</div>"
      ],
      "text/plain": [
       "                                    Average Salary\n",
       "Company Name                                      \n",
       "FPG\\n4.0                                  240000.0\n",
       "SM&A\\n3.9                                 230880.0\n",
       "Mackin Talent\\n4.2                        205920.0\n",
       "Affordable Personnel Services             202800.0\n",
       "WCL Group\\n5.0                            200000.0\n",
       "...                                            ...\n",
       "Wickham Industries\\n3.7                    29120.0\n",
       "State of Tennessee\\n3.4                    26000.0\n",
       "PriceRite\\n3.5                             26000.0\n",
       "University of Nevada, Reno\\n4.1            24960.0\n",
       "Allied Engineering and Design\\n2.0         10000.0\n",
       "\n",
       "[1840 rows x 1 columns]"
      ]
     },
     "execution_count": 67,
     "metadata": {},
     "output_type": "execute_result"
    }
   ],
   "source": [
    "byEmp = pd.pivot_table(data=df_dropped_unwanted_columns,index='Company Name',values='Average Salary')\n",
    "byEmp.sort_values(by='Average Salary', ascending = False)"
   ]
  },
  {
   "cell_type": "code",
   "execution_count": 68,
   "id": "4b5e7cc0-ba04-466e-abed-1ea58e91a11a",
   "metadata": {},
   "outputs": [
    {
     "data": {
      "text/html": [
       "<div>\n",
       "<style scoped>\n",
       "    .dataframe tbody tr th:only-of-type {\n",
       "        vertical-align: middle;\n",
       "    }\n",
       "\n",
       "    .dataframe tbody tr th {\n",
       "        vertical-align: top;\n",
       "    }\n",
       "\n",
       "    .dataframe thead th {\n",
       "        text-align: right;\n",
       "    }\n",
       "</style>\n",
       "<table border=\"1\" class=\"dataframe\">\n",
       "  <thead>\n",
       "    <tr style=\"text-align: right;\">\n",
       "      <th></th>\n",
       "      <th>Job Title</th>\n",
       "      <th>Salary Estimate</th>\n",
       "      <th>Job Description</th>\n",
       "      <th>Company Name</th>\n",
       "      <th>Location</th>\n",
       "      <th>Size</th>\n",
       "      <th>Founded</th>\n",
       "      <th>Type of ownership</th>\n",
       "      <th>Industry</th>\n",
       "      <th>Sector</th>\n",
       "      <th>Revenue</th>\n",
       "      <th>Average Salary</th>\n",
       "    </tr>\n",
       "  </thead>\n",
       "  <tbody>\n",
       "    <tr>\n",
       "      <th>0</th>\n",
       "      <td>Materials Engineer III</td>\n",
       "      <td>$71K - $140K (Glassdoor est.)</td>\n",
       "      <td>In this role you will\\nCharacterize materials ...</td>\n",
       "      <td>eTeam Inc.\\n4.3</td>\n",
       "      <td>Seattle, WA</td>\n",
       "      <td>5001 to 10000 Employees</td>\n",
       "      <td>1999.0</td>\n",
       "      <td>Company - Private</td>\n",
       "      <td>Staffing &amp; Subcontracting</td>\n",
       "      <td>Human Resources &amp; Staffing</td>\n",
       "      <td>$100 to $500 million (USD)</td>\n",
       "      <td>105500.0</td>\n",
       "    </tr>\n",
       "    <tr>\n",
       "      <th>1</th>\n",
       "      <td>Chemical Process Engineer</td>\n",
       "      <td>Employer Provided Salary:$100K - $120K</td>\n",
       "      <td>Process Engineer (FT, permanent hire position ...</td>\n",
       "      <td>Ethos</td>\n",
       "      <td>Dallas, TX</td>\n",
       "      <td>NaN</td>\n",
       "      <td>NaN</td>\n",
       "      <td>NaN</td>\n",
       "      <td>NaN</td>\n",
       "      <td>NaN</td>\n",
       "      <td>NaN</td>\n",
       "      <td>110000.0</td>\n",
       "    </tr>\n",
       "    <tr>\n",
       "      <th>2</th>\n",
       "      <td>Chemical Engineer</td>\n",
       "      <td>Employer Provided Salary:$63K - $125K</td>\n",
       "      <td>The Opportunity\\nThe Chemical Engineer will be...</td>\n",
       "      <td>Clean Harbors\\n3.3</td>\n",
       "      <td>Kimball, NE</td>\n",
       "      <td>10000+ Employees</td>\n",
       "      <td>1980.0</td>\n",
       "      <td>Company - Public</td>\n",
       "      <td>Shipping &amp; Trucking</td>\n",
       "      <td>Transportation &amp; Logistics</td>\n",
       "      <td>$2 to $5 billion (USD)</td>\n",
       "      <td>94000.0</td>\n",
       "    </tr>\n",
       "    <tr>\n",
       "      <th>3</th>\n",
       "      <td>Chemical Engineer</td>\n",
       "      <td>Employer Provided Salary:$60K - $125K</td>\n",
       "      <td>Become the hands-on, subject matter expert on ...</td>\n",
       "      <td>Metronom Health\\n3.5</td>\n",
       "      <td>Laguna Hills, CA</td>\n",
       "      <td>51 to 200 Employees</td>\n",
       "      <td>NaN</td>\n",
       "      <td>Company - Private</td>\n",
       "      <td>NaN</td>\n",
       "      <td>NaN</td>\n",
       "      <td>NaN</td>\n",
       "      <td>92500.0</td>\n",
       "    </tr>\n",
       "    <tr>\n",
       "      <th>4</th>\n",
       "      <td>Software Engineer</td>\n",
       "      <td>$83K - $141K (Glassdoor est.)</td>\n",
       "      <td>Information on MIT’s COVID-19 vaccination requ...</td>\n",
       "      <td>MIT\\n4.4</td>\n",
       "      <td>Cambridge, MA</td>\n",
       "      <td>10000+ Employees</td>\n",
       "      <td>1861.0</td>\n",
       "      <td>College / University</td>\n",
       "      <td>Colleges &amp; Universities</td>\n",
       "      <td>Education</td>\n",
       "      <td>$2 to $5 billion (USD)</td>\n",
       "      <td>112000.0</td>\n",
       "    </tr>\n",
       "  </tbody>\n",
       "</table>\n",
       "</div>"
      ],
      "text/plain": [
       "                   Job Title                         Salary Estimate  \\\n",
       "0     Materials Engineer III           $71K - $140K (Glassdoor est.)   \n",
       "1  Chemical Process Engineer  Employer Provided Salary:$100K - $120K   \n",
       "2          Chemical Engineer   Employer Provided Salary:$63K - $125K   \n",
       "3          Chemical Engineer   Employer Provided Salary:$60K - $125K   \n",
       "4          Software Engineer           $83K - $141K (Glassdoor est.)   \n",
       "\n",
       "                                     Job Description          Company Name  \\\n",
       "0  In this role you will\\nCharacterize materials ...       eTeam Inc.\\n4.3   \n",
       "1  Process Engineer (FT, permanent hire position ...                 Ethos   \n",
       "2  The Opportunity\\nThe Chemical Engineer will be...    Clean Harbors\\n3.3   \n",
       "3  Become the hands-on, subject matter expert on ...  Metronom Health\\n3.5   \n",
       "4  Information on MIT’s COVID-19 vaccination requ...              MIT\\n4.4   \n",
       "\n",
       "           Location                     Size  Founded     Type of ownership  \\\n",
       "0       Seattle, WA  5001 to 10000 Employees   1999.0     Company - Private   \n",
       "1        Dallas, TX                      NaN      NaN                   NaN   \n",
       "2       Kimball, NE         10000+ Employees   1980.0      Company - Public   \n",
       "3  Laguna Hills, CA      51 to 200 Employees      NaN     Company - Private   \n",
       "4     Cambridge, MA         10000+ Employees   1861.0  College / University   \n",
       "\n",
       "                    Industry                      Sector  \\\n",
       "0  Staffing & Subcontracting  Human Resources & Staffing   \n",
       "1                        NaN                         NaN   \n",
       "2        Shipping & Trucking  Transportation & Logistics   \n",
       "3                        NaN                         NaN   \n",
       "4    Colleges & Universities                   Education   \n",
       "\n",
       "                      Revenue  Average Salary  \n",
       "0  $100 to $500 million (USD)        105500.0  \n",
       "1                         NaN        110000.0  \n",
       "2      $2 to $5 billion (USD)         94000.0  \n",
       "3                         NaN         92500.0  \n",
       "4      $2 to $5 billion (USD)        112000.0  "
      ]
     },
     "execution_count": 68,
     "metadata": {},
     "output_type": "execute_result"
    }
   ],
   "source": [
    "df_dropped_unwanted_columns.head()"
   ]
  },
  {
   "cell_type": "code",
   "execution_count": 69,
   "id": "a96c73f6-40d4-402e-8744-1689645c7662",
   "metadata": {},
   "outputs": [
    {
     "data": {
      "text/plain": [
       "<seaborn.axisgrid.FacetGrid at 0x20d10fe5000>"
      ]
     },
     "execution_count": 69,
     "metadata": {},
     "output_type": "execute_result"
    },
    {
     "data": {
      "image/png": "[encoded data removed]",
      "text/plain": [
       "<Figure size 360x360 with 1 Axes>"
      ]
     },
     "metadata": {
      "needs_background": "light"
     },
     "output_type": "display_data"
    }
   ],
   "source": [
    "sns.displot(df_dropped_unwanted_columns['Average Salary'],kde=True,bins=100)"
   ]
  },
  {
   "cell_type": "code",
   "execution_count": 70,
   "id": "522035ac",
   "metadata": {},
   "outputs": [
    {
     "data": {
      "text/plain": [
       "<AxesSubplot:ylabel='Average Salary'>"
      ]
     },
     "execution_count": 70,
     "metadata": {},
     "output_type": "execute_result"
    },
    {
     "data": {
      "image/png": "[encoded data removed]",
      "text/plain": [
       "<Figure size 432x288 with 1 Axes>"
      ]
     },
     "metadata": {
      "needs_background": "light"
     },
     "output_type": "display_data"
    }
   ],
   "source": [
    "sns.boxplot(y=df_dropped_unwanted_columns['Average Salary'])"
   ]
  },
  {
   "cell_type": "code",
   "execution_count": 71,
   "id": "df260d94",
   "metadata": {},
   "outputs": [
    {
     "data": {
      "text/html": [
       "<div>\n",
       "<style scoped>\n",
       "    .dataframe tbody tr th:only-of-type {\n",
       "        vertical-align: middle;\n",
       "    }\n",
       "\n",
       "    .dataframe tbody tr th {\n",
       "        vertical-align: top;\n",
       "    }\n",
       "\n",
       "    .dataframe thead th {\n",
       "        text-align: right;\n",
       "    }\n",
       "</style>\n",
       "<table border=\"1\" class=\"dataframe\">\n",
       "  <thead>\n",
       "    <tr style=\"text-align: right;\">\n",
       "      <th></th>\n",
       "      <th>Job Title</th>\n",
       "      <th>Salary Estimate</th>\n",
       "      <th>Job Description</th>\n",
       "      <th>Company Name</th>\n",
       "      <th>Location</th>\n",
       "      <th>Size</th>\n",
       "      <th>Founded</th>\n",
       "      <th>Type of ownership</th>\n",
       "      <th>Industry</th>\n",
       "      <th>Sector</th>\n",
       "      <th>Revenue</th>\n",
       "      <th>Average Salary</th>\n",
       "    </tr>\n",
       "  </thead>\n",
       "  <tbody>\n",
       "    <tr>\n",
       "      <th>0</th>\n",
       "      <td>Materials Engineer III</td>\n",
       "      <td>$71K - $140K (Glassdoor est.)</td>\n",
       "      <td>In this role you will\\nCharacterize materials ...</td>\n",
       "      <td>eTeam Inc.\\n4.3</td>\n",
       "      <td>Seattle, WA</td>\n",
       "      <td>5001 to 10000 Employees</td>\n",
       "      <td>1999.0</td>\n",
       "      <td>Company - Private</td>\n",
       "      <td>Staffing &amp; Subcontracting</td>\n",
       "      <td>Human Resources &amp; Staffing</td>\n",
       "      <td>$100 to $500 million (USD)</td>\n",
       "      <td>105500.0</td>\n",
       "    </tr>\n",
       "    <tr>\n",
       "      <th>1</th>\n",
       "      <td>Chemical Process Engineer</td>\n",
       "      <td>Employer Provided Salary:$100K - $120K</td>\n",
       "      <td>Process Engineer (FT, permanent hire position ...</td>\n",
       "      <td>Ethos</td>\n",
       "      <td>Dallas, TX</td>\n",
       "      <td>NaN</td>\n",
       "      <td>NaN</td>\n",
       "      <td>NaN</td>\n",
       "      <td>NaN</td>\n",
       "      <td>NaN</td>\n",
       "      <td>NaN</td>\n",
       "      <td>110000.0</td>\n",
       "    </tr>\n",
       "    <tr>\n",
       "      <th>2</th>\n",
       "      <td>Chemical Engineer</td>\n",
       "      <td>Employer Provided Salary:$63K - $125K</td>\n",
       "      <td>The Opportunity\\nThe Chemical Engineer will be...</td>\n",
       "      <td>Clean Harbors\\n3.3</td>\n",
       "      <td>Kimball, NE</td>\n",
       "      <td>10000+ Employees</td>\n",
       "      <td>1980.0</td>\n",
       "      <td>Company - Public</td>\n",
       "      <td>Shipping &amp; Trucking</td>\n",
       "      <td>Transportation &amp; Logistics</td>\n",
       "      <td>$2 to $5 billion (USD)</td>\n",
       "      <td>94000.0</td>\n",
       "    </tr>\n",
       "    <tr>\n",
       "      <th>3</th>\n",
       "      <td>Chemical Engineer</td>\n",
       "      <td>Employer Provided Salary:$60K - $125K</td>\n",
       "      <td>Become the hands-on, subject matter expert on ...</td>\n",
       "      <td>Metronom Health\\n3.5</td>\n",
       "      <td>Laguna Hills, CA</td>\n",
       "      <td>51 to 200 Employees</td>\n",
       "      <td>NaN</td>\n",
       "      <td>Company - Private</td>\n",
       "      <td>NaN</td>\n",
       "      <td>NaN</td>\n",
       "      <td>NaN</td>\n",
       "      <td>92500.0</td>\n",
       "    </tr>\n",
       "    <tr>\n",
       "      <th>4</th>\n",
       "      <td>Software Engineer</td>\n",
       "      <td>$83K - $141K (Glassdoor est.)</td>\n",
       "      <td>Information on MIT’s COVID-19 vaccination requ...</td>\n",
       "      <td>MIT\\n4.4</td>\n",
       "      <td>Cambridge, MA</td>\n",
       "      <td>10000+ Employees</td>\n",
       "      <td>1861.0</td>\n",
       "      <td>College / University</td>\n",
       "      <td>Colleges &amp; Universities</td>\n",
       "      <td>Education</td>\n",
       "      <td>$2 to $5 billion (USD)</td>\n",
       "      <td>112000.0</td>\n",
       "    </tr>\n",
       "    <tr>\n",
       "      <th>5</th>\n",
       "      <td>ASSISTANT ENGINEER</td>\n",
       "      <td>Employer Provided Salary:$73K - $98K</td>\n",
       "      <td>The City of Santa Ana is looking for individua...</td>\n",
       "      <td>City of Santa Ana\\n4.0</td>\n",
       "      <td>Santa Ana, CA</td>\n",
       "      <td>1001 to 5000 Employees</td>\n",
       "      <td>NaN</td>\n",
       "      <td>Government</td>\n",
       "      <td>Government &amp; Public Administration</td>\n",
       "      <td>NaN</td>\n",
       "      <td>NaN</td>\n",
       "      <td>85500.0</td>\n",
       "    </tr>\n",
       "    <tr>\n",
       "      <th>6</th>\n",
       "      <td>Water Science Field Consultant (Chemist or Che...</td>\n",
       "      <td>Employer Provided Salary:$60K - $120K</td>\n",
       "      <td>Ideal candidate:\\nWould prefer to work in the ...</td>\n",
       "      <td>Industrial Treatment of Water LLC</td>\n",
       "      <td>Sacramento, CA</td>\n",
       "      <td>NaN</td>\n",
       "      <td>NaN</td>\n",
       "      <td>NaN</td>\n",
       "      <td>NaN</td>\n",
       "      <td>NaN</td>\n",
       "      <td>NaN</td>\n",
       "      <td>90000.0</td>\n",
       "    </tr>\n",
       "    <tr>\n",
       "      <th>7</th>\n",
       "      <td>Project Engineer</td>\n",
       "      <td>Employer Provided Salary:$77K - $105K</td>\n",
       "      <td>Shaw Industries Corporate Engineering (CE) pro...</td>\n",
       "      <td>Shaw Industries Group, Inc.\\n3.9</td>\n",
       "      <td>Aiken, SC</td>\n",
       "      <td>10000+ Employees</td>\n",
       "      <td>1967.0</td>\n",
       "      <td>Company - Private</td>\n",
       "      <td>Machinery Manufacturing</td>\n",
       "      <td>Manufacturing</td>\n",
       "      <td>$2 to $5 billion (USD)</td>\n",
       "      <td>91000.0</td>\n",
       "    </tr>\n",
       "    <tr>\n",
       "      <th>8</th>\n",
       "      <td>Chemical Process Engineer</td>\n",
       "      <td>Employer Provided Salary:$67K - $102K</td>\n",
       "      <td>Tarr LLC, a leading independent chemical distr...</td>\n",
       "      <td>Tarr LLC\\n2.7</td>\n",
       "      <td>Phoenix, AZ</td>\n",
       "      <td>51 to 200 Employees</td>\n",
       "      <td>NaN</td>\n",
       "      <td>Company - Public</td>\n",
       "      <td>NaN</td>\n",
       "      <td>NaN</td>\n",
       "      <td>$50 to $100 million (USD)</td>\n",
       "      <td>84500.0</td>\n",
       "    </tr>\n",
       "    <tr>\n",
       "      <th>9</th>\n",
       "      <td>LABORATORY ENGINEER</td>\n",
       "      <td>$60K - $113K (Glassdoor est.)</td>\n",
       "      <td>Description\\nHosokawa provides size reduction ...</td>\n",
       "      <td>Hosokawa Micron Powder Systems\\n3.4</td>\n",
       "      <td>Summit, NJ</td>\n",
       "      <td>51 to 200 Employees</td>\n",
       "      <td>NaN</td>\n",
       "      <td>Company - Public</td>\n",
       "      <td>Manufacturing</td>\n",
       "      <td>Consumer Product Manufacturing</td>\n",
       "      <td>$25 to $50 million (USD)</td>\n",
       "      <td>86500.0</td>\n",
       "    </tr>\n",
       "  </tbody>\n",
       "</table>\n",
       "</div>"
      ],
      "text/plain": [
       "                                           Job Title  \\\n",
       "0                             Materials Engineer III   \n",
       "1                          Chemical Process Engineer   \n",
       "2                                  Chemical Engineer   \n",
       "3                                  Chemical Engineer   \n",
       "4                                  Software Engineer   \n",
       "5                                 ASSISTANT ENGINEER   \n",
       "6  Water Science Field Consultant (Chemist or Che...   \n",
       "7                                   Project Engineer   \n",
       "8                          Chemical Process Engineer   \n",
       "9                                LABORATORY ENGINEER   \n",
       "\n",
       "                          Salary Estimate  \\\n",
       "0           $71K - $140K (Glassdoor est.)   \n",
       "1  Employer Provided Salary:$100K - $120K   \n",
       "2   Employer Provided Salary:$63K - $125K   \n",
       "3   Employer Provided Salary:$60K - $125K   \n",
       "4           $83K - $141K (Glassdoor est.)   \n",
       "5    Employer Provided Salary:$73K - $98K   \n",
       "6   Employer Provided Salary:$60K - $120K   \n",
       "7   Employer Provided Salary:$77K - $105K   \n",
       "8   Employer Provided Salary:$67K - $102K   \n",
       "9           $60K - $113K (Glassdoor est.)   \n",
       "\n",
       "                                     Job Description  \\\n",
       "0  In this role you will\\nCharacterize materials ...   \n",
       "1  Process Engineer (FT, permanent hire position ...   \n",
       "2  The Opportunity\\nThe Chemical Engineer will be...   \n",
       "3  Become the hands-on, subject matter expert on ...   \n",
       "4  Information on MIT’s COVID-19 vaccination requ...   \n",
       "5  The City of Santa Ana is looking for individua...   \n",
       "6  Ideal candidate:\\nWould prefer to work in the ...   \n",
       "7  Shaw Industries Corporate Engineering (CE) pro...   \n",
       "8  Tarr LLC, a leading independent chemical distr...   \n",
       "9  Description\\nHosokawa provides size reduction ...   \n",
       "\n",
       "                          Company Name          Location  \\\n",
       "0                      eTeam Inc.\\n4.3       Seattle, WA   \n",
       "1                                Ethos        Dallas, TX   \n",
       "2                   Clean Harbors\\n3.3       Kimball, NE   \n",
       "3                 Metronom Health\\n3.5  Laguna Hills, CA   \n",
       "4                             MIT\\n4.4     Cambridge, MA   \n",
       "5               City of Santa Ana\\n4.0     Santa Ana, CA   \n",
       "6    Industrial Treatment of Water LLC    Sacramento, CA   \n",
       "7     Shaw Industries Group, Inc.\\n3.9         Aiken, SC   \n",
       "8                        Tarr LLC\\n2.7       Phoenix, AZ   \n",
       "9  Hosokawa Micron Powder Systems\\n3.4        Summit, NJ   \n",
       "\n",
       "                      Size  Founded     Type of ownership  \\\n",
       "0  5001 to 10000 Employees   1999.0     Company - Private   \n",
       "1                      NaN      NaN                   NaN   \n",
       "2         10000+ Employees   1980.0      Company - Public   \n",
       "3      51 to 200 Employees      NaN     Company - Private   \n",
       "4         10000+ Employees   1861.0  College / University   \n",
       "5   1001 to 5000 Employees      NaN            Government   \n",
       "6                      NaN      NaN                   NaN   \n",
       "7         10000+ Employees   1967.0     Company - Private   \n",
       "8      51 to 200 Employees      NaN      Company - Public   \n",
       "9      51 to 200 Employees      NaN      Company - Public   \n",
       "\n",
       "                             Industry                          Sector  \\\n",
       "0           Staffing & Subcontracting      Human Resources & Staffing   \n",
       "1                                 NaN                             NaN   \n",
       "2                 Shipping & Trucking      Transportation & Logistics   \n",
       "3                                 NaN                             NaN   \n",
       "4             Colleges & Universities                       Education   \n",
       "5  Government & Public Administration                             NaN   \n",
       "6                                 NaN                             NaN   \n",
       "7             Machinery Manufacturing                   Manufacturing   \n",
       "8                                 NaN                             NaN   \n",
       "9                       Manufacturing  Consumer Product Manufacturing   \n",
       "\n",
       "                      Revenue  Average Salary  \n",
       "0  $100 to $500 million (USD)        105500.0  \n",
       "1                         NaN        110000.0  \n",
       "2      $2 to $5 billion (USD)         94000.0  \n",
       "3                         NaN         92500.0  \n",
       "4      $2 to $5 billion (USD)        112000.0  \n",
       "5                         NaN         85500.0  \n",
       "6                         NaN         90000.0  \n",
       "7      $2 to $5 billion (USD)         91000.0  \n",
       "8   $50 to $100 million (USD)         84500.0  \n",
       "9    $25 to $50 million (USD)         86500.0  "
      ]
     },
     "execution_count": 71,
     "metadata": {},
     "output_type": "execute_result"
    }
   ],
   "source": [
    "df_dropped_unwanted_columns.head(10)"
   ]
  },
  {
   "cell_type": "code",
   "execution_count": 78,
   "id": "fa3efb3b",
   "metadata": {},
   "outputs": [],
   "source": [
    "def remove_newline(col):\n",
    "    string = col.replace('\\n',' ')\n",
    "    return string"
   ]
  },
  {
   "cell_type": "code",
   "execution_count": 79,
   "id": "ffb092c0",
   "metadata": {},
   "outputs": [
    {
     "data": {
      "text/plain": [
       "'Ideal candidate: Would prefer to work in the ...'"
      ]
     },
     "execution_count": 79,
     "metadata": {},
     "output_type": "execute_result"
    }
   ],
   "source": [
    "remove_newline('Ideal candidate:\\nWould prefer to work in the ...')"
   ]
  },
  {
   "cell_type": "code",
   "execution_count": 80,
   "id": "f24014ba",
   "metadata": {},
   "outputs": [
    {
     "data": {
      "text/plain": [
       "\"Process Engineer (FT, permanent hire position with excellent benefits, bonus and relocation assistance packages) Description: This person will be doing process optimization, day to day support, data analytics, and small capital project work. This person will be hitting the plot floor with the opportunity to wear lots of different hats and pick up a lot of different skill sets and experiences while improving parts of the process like the data collection system. Requirements: B.S. Chemical Engineering 3+ years out of the following manufacturing industries Chemicals Pharmaceuticals Coatings Water treatment Job Type: Full-time Pay: $100,000.00 - $120,000.00 per year Benefits: 401(k) 401(k) matching Dental insurance Employee assistance program Health insurance Health savings account Life insurance Paid time off Parental leave Professional development assistance Referral program Relocation assistance Retirement plan Vision insurance Schedule: Monday to Friday Supplemental Pay: Bonus pay Education: Bachelor's (Preferred) Experience: Process Engineering: 2 years (Preferred) Chemical/Chemical Manufacturing Industry: 2 years (Preferred) Work Location: One location Show Less\""
      ]
     },
     "execution_count": 80,
     "metadata": {},
     "output_type": "execute_result"
    }
   ],
   "source": [
    "df_dropped_unwanted_columns['Job Description'] = df_dropped_unwanted_columns['Job Description'].apply(remove_newline)\n",
    "df_dropped_unwanted_columns['Job Description'].iloc[1]"
   ]
  },
  {
   "cell_type": "code",
   "execution_count": 81,
   "id": "5fc41d44",
   "metadata": {},
   "outputs": [],
   "source": [
    "df_dropped_unwanted_columns['Company Name'] = df_dropped_unwanted_columns['Company Name'].apply(remove_newline)"
   ]
  },
  {
   "cell_type": "code",
   "execution_count": 82,
   "id": "b20ab767",
   "metadata": {},
   "outputs": [],
   "source": [
    "def remove_rating(col):\n",
    "    string = re.findall(pattern = '[^\\d{1}.\\d]',string=col)\n",
    "    string = ''.join(string)\n",
    "    return string"
   ]
  },
  {
   "cell_type": "code",
   "execution_count": 83,
   "id": "045860ac",
   "metadata": {},
   "outputs": [
    {
     "data": {
      "text/plain": [
       "'Trane Technologies '"
      ]
     },
     "execution_count": 83,
     "metadata": {},
     "output_type": "execute_result"
    }
   ],
   "source": [
    "remove_rating('Trane Technologies 4.0')"
   ]
  },
  {
   "cell_type": "code",
   "execution_count": 84,
   "id": "07b041a1",
   "metadata": {},
   "outputs": [],
   "source": [
    "df_dropped_unwanted_columns['Company Name'] = df_dropped_unwanted_columns['Company Name'].apply(remove_rating)"
   ]
  },
  {
   "cell_type": "code",
   "execution_count": 85,
   "id": "9a12b2a6",
   "metadata": {},
   "outputs": [
    {
     "data": {
      "text/plain": [
       "0                    eTeam Inc \n",
       "1                         Ethos\n",
       "2                Clean Harbors \n",
       "3              Metronom Health \n",
       "4                          MIT \n",
       "                 ...           \n",
       "7632      onsemi Semiconductor \n",
       "7647    Tokyo Electron Limited \n",
       "7664                  Catalent \n",
       "7697          The AZEK Company \n",
       "7716                     Tesla \n",
       "Name: Company Name, Length: 4233, dtype: object"
      ]
     },
     "execution_count": 85,
     "metadata": {},
     "output_type": "execute_result"
    }
   ],
   "source": [
    "df_dropped_unwanted_columns['Company Name']"
   ]
  },
  {
   "cell_type": "code",
   "execution_count": 86,
   "id": "736fc595",
   "metadata": {},
   "outputs": [
    {
     "data": {
      "text/plain": [
       "array(['5001 to 10000 Employees', nan, '10000+ Employees',\n",
       "       '51 to 200 Employees', '1001 to 5000 Employees',\n",
       "       '1 to 50 Employees', '501 to 1000 Employees',\n",
       "       '201 to 500 Employees'], dtype=object)"
      ]
     },
     "execution_count": 86,
     "metadata": {},
     "output_type": "execute_result"
    }
   ],
   "source": [
    "df_dropped_unwanted_columns['Size'].unique()"
   ]
  },
  {
   "cell_type": "code",
   "execution_count": 87,
   "id": "d42ee750",
   "metadata": {},
   "outputs": [
    {
     "data": {
      "text/plain": [
       "array(['$100 to $500 million (USD)', nan, '$2 to $5 billion (USD)',\n",
       "       '$50 to $100 million (USD)', '$25 to $50 million (USD)',\n",
       "       '$10+ billion (USD)', '$1 to $2 billion (USD)',\n",
       "       '$1 to $5 million (USD)', 'Less than $1 million (USD)',\n",
       "       '$500 million to $1 billion (USD)', '$5 to $10 billion (USD)',\n",
       "       '$10 to $25 million (USD)', '$5 to $10 million (USD)'],\n",
       "      dtype=object)"
      ]
     },
     "execution_count": 87,
     "metadata": {},
     "output_type": "execute_result"
    }
   ],
   "source": [
    "df_dropped_unwanted_columns['Revenue'].unique()"
   ]
  },
  {
   "cell_type": "code",
   "execution_count": 90,
   "id": "ae813f4f",
   "metadata": {},
   "outputs": [
    {
     "data": {
      "text/plain": [
       "array(['Seattle, WA', 'Dallas, TX', 'Kimball, NE', ..., 'Farr West, UT',\n",
       "       'Van Nuys, CA', 'Marshall, MI'], dtype=object)"
      ]
     },
     "execution_count": 90,
     "metadata": {},
     "output_type": "execute_result"
    }
   ],
   "source": [
    "df_dropped_unwanted_columns['Location'].unique()"
   ]
  },
  {
   "cell_type": "code",
   "execution_count": 91,
   "id": "6a1acec3",
   "metadata": {},
   "outputs": [],
   "source": [
    "def states(col):\n",
    "    try:\n",
    "        if ',' in col:\n",
    "            string = col[col.index(','):]\n",
    "            string = string.replace(',','')\n",
    "            string = string.replace(' ','')\n",
    "            return string\n",
    "        else:\n",
    "            return col\n",
    "    except TypeError:\n",
    "        return np.nan"
   ]
  },
  {
   "cell_type": "code",
   "execution_count": 92,
   "id": "3314e5de",
   "metadata": {},
   "outputs": [
    {
     "data": {
      "text/plain": [
       "'Pennsville'"
      ]
     },
     "execution_count": 92,
     "metadata": {},
     "output_type": "execute_result"
    }
   ],
   "source": [
    "states('Pennsville')"
   ]
  },
  {
   "cell_type": "code",
   "execution_count": 93,
   "id": "d77305db",
   "metadata": {},
   "outputs": [],
   "source": [
    "df_dropped_unwanted_columns['States'] = df_dropped_unwanted_columns['Location'].apply(states)"
   ]
  },
  {
   "cell_type": "code",
   "execution_count": 94,
   "id": "4f172df7",
   "metadata": {},
   "outputs": [
    {
     "data": {
      "text/plain": [
       "array(['WA', 'TX', 'NE', 'CA', 'MA', 'SC', 'AZ', 'NJ', 'MN', 'Remote',\n",
       "       'OH', 'NY', 'PA', 'NV', 'DC', 'NC', 'MT', 'GA', 'VA', 'MO', 'MI',\n",
       "       'IN', 'NM', 'CO', 'OK', 'WI', 'OR', 'WY', 'FL', 'NH', 'TN', 'IL',\n",
       "       'AR', nan, 'RI', 'ID', 'DE', 'CT', 'LA', 'MD', 'Texarkana', 'KY',\n",
       "       'Georgia', 'WV', 'HI', 'ND', 'MS', 'United States', 'AK', 'Ohio',\n",
       "       'UT', 'KS', 'Pennsylvania', 'New Jersey', 'PR', 'Arizona', 'AL',\n",
       "       'Illinois', 'Texas', 'IA', 'ME', 'Florida', 'CuyahogaOH',\n",
       "       'Massachusetts', 'California', 'Indiana', 'Colorado',\n",
       "       'South Dakota', 'Minnesota', 'SD', 'VT', 'Virginia',\n",
       "       'St Louis Park', 'Deptford Township', 'Delaware', 'FultonGA',\n",
       "       'Wisconsin', 'Tennessee'], dtype=object)"
      ]
     },
     "execution_count": 94,
     "metadata": {},
     "output_type": "execute_result"
    }
   ],
   "source": [
    "df_dropped_unwanted_columns['States'].unique()"
   ]
  },
  {
   "cell_type": "code",
   "execution_count": 97,
   "id": "fb743d17",
   "metadata": {},
   "outputs": [],
   "source": [
    "df_dropped_unwanted_columns['States'][df_dropped_unwanted_columns['States']=='California'] = 'CA'\n",
    "df_dropped_unwanted_columns['States'][df_dropped_unwanted_columns['States']=='Pennsylvania'] = 'PA'\n",
    "df_dropped_unwanted_columns['States'][df_dropped_unwanted_columns['States']=='CuyahogaOH'] = 'OH'\n",
    "df_dropped_unwanted_columns['States'][df_dropped_unwanted_columns['States']=='New Jersey'] = 'NJ'\n",
    "df_dropped_unwanted_columns['States'][df_dropped_unwanted_columns['States']=='Indiana'] = 'IND'\n",
    "df_dropped_unwanted_columns['States'][df_dropped_unwanted_columns['States']=='Florida'] = 'FL'\n",
    "df_dropped_unwanted_columns['States'][df_dropped_unwanted_columns['States']=='Texas'] = 'TX'\n",
    "df_dropped_unwanted_columns['States'][df_dropped_unwanted_columns['States']=='Georgia'] = 'GA'\n",
    "df_dropped_unwanted_columns['States'][df_dropped_unwanted_columns['States']=='Delaware'] = 'DE'\n",
    "df_dropped_unwanted_columns['States'][df_dropped_unwanted_columns['States']=='FultonGA'] = 'GA'\n",
    "df_dropped_unwanted_columns['States'][df_dropped_unwanted_columns['States']=='Deptford Township'] = 'NJ'\n",
    "df_dropped_unwanted_columns['States'][df_dropped_unwanted_columns['States']=='Wisconsin'] = 'WI'\n",
    "df_dropped_unwanted_columns['States'][df_dropped_unwanted_columns['States']=='Tennessee'] = 'TN'\n",
    "df_dropped_unwanted_columns['States'][df_dropped_unwanted_columns['States']=='United States'] = np.nan\n",
    "df_dropped_unwanted_columns['States'][df_dropped_unwanted_columns['States']=='Texarkana'] = 'TX'\n",
    "df_dropped_unwanted_columns['States'][df_dropped_unwanted_columns['States']=='Illinois'] = 'IL'\n",
    "df_dropped_unwanted_columns['States'][df_dropped_unwanted_columns['States']=='Arizona'] = 'AZ'\n",
    "df_dropped_unwanted_columns['States'][df_dropped_unwanted_columns['States']=='Ohio'] = 'OH'\n",
    "df_dropped_unwanted_columns['States'][df_dropped_unwanted_columns['States']=='Massachusetts'] = 'MA'\n",
    "df_dropped_unwanted_columns['States'][df_dropped_unwanted_columns['States']=='Colorado'] = 'CO'\n",
    "df_dropped_unwanted_columns['States'][df_dropped_unwanted_columns['States']=='Minnesota'] = 'MN'\n",
    "df_dropped_unwanted_columns['States'][df_dropped_unwanted_columns['States']=='South Dakota'] = 'SD'\n",
    "df_dropped_unwanted_columns['States'][df_dropped_unwanted_columns['States']=='Virginia'] = 'VA'\n",
    "df_dropped_unwanted_columns['States'][df_dropped_unwanted_columns['States']=='St Louis Park'] = 'MN'"
   ]
  },
  {
   "cell_type": "code",
   "execution_count": 98,
   "id": "324edd99",
   "metadata": {},
   "outputs": [
    {
     "data": {
      "text/plain": [
       "TX        716\n",
       "CA        541\n",
       "IL        150\n",
       "NC        144\n",
       "OH        140\n",
       "Remote    140\n",
       "PA        134\n",
       "NY        119\n",
       "MA        114\n",
       "MI        110\n",
       "CO        109\n",
       "NJ        107\n",
       "GA        106\n",
       "LA        100\n",
       "FL         95\n",
       "OR         93\n",
       "MN         88\n",
       "AZ         85\n",
       "SC         84\n",
       "WI         80\n",
       "WA         75\n",
       "TN         73\n",
       "IN         61\n",
       "VA         59\n",
       "MD         51\n",
       "MO         51\n",
       "UT         49\n",
       "IA         40\n",
       "CT         40\n",
       "AL         39\n",
       "OK         38\n",
       "NM         37\n",
       "KY         35\n",
       "NV         34\n",
       "NH         29\n",
       "AR         29\n",
       "RI         26\n",
       "WV         21\n",
       "ND         18\n",
       "NE         18\n",
       "KS         17\n",
       "ID         17\n",
       "MS         17\n",
       "DC         14\n",
       "DE         13\n",
       "PR         12\n",
       "WY         11\n",
       "MT          9\n",
       "ME          8\n",
       "AK          6\n",
       "HI          4\n",
       "IND         4\n",
       "SD          4\n",
       "VT          3\n",
       "Name: States, dtype: int64"
      ]
     },
     "execution_count": 98,
     "metadata": {},
     "output_type": "execute_result"
    }
   ],
   "source": [
    "df_dropped_unwanted_columns['States'].value_counts()"
   ]
  },
  {
   "cell_type": "code",
   "execution_count": 99,
   "id": "c1a5796a",
   "metadata": {},
   "outputs": [
    {
     "data": {
      "text/html": [
       "<div>\n",
       "<style scoped>\n",
       "    .dataframe tbody tr th:only-of-type {\n",
       "        vertical-align: middle;\n",
       "    }\n",
       "\n",
       "    .dataframe tbody tr th {\n",
       "        vertical-align: top;\n",
       "    }\n",
       "\n",
       "    .dataframe thead th {\n",
       "        text-align: right;\n",
       "    }\n",
       "</style>\n",
       "<table border=\"1\" class=\"dataframe\">\n",
       "  <thead>\n",
       "    <tr style=\"text-align: right;\">\n",
       "      <th></th>\n",
       "      <th>Job Title</th>\n",
       "      <th>Salary Estimate</th>\n",
       "      <th>Job Description</th>\n",
       "      <th>Company Name</th>\n",
       "      <th>Location</th>\n",
       "      <th>Size</th>\n",
       "      <th>Founded</th>\n",
       "      <th>Type of ownership</th>\n",
       "      <th>Industry</th>\n",
       "      <th>Sector</th>\n",
       "      <th>Revenue</th>\n",
       "      <th>Average Salary</th>\n",
       "      <th>States</th>\n",
       "    </tr>\n",
       "  </thead>\n",
       "  <tbody>\n",
       "    <tr>\n",
       "      <th>0</th>\n",
       "      <td>Materials Engineer III</td>\n",
       "      <td>$71K - $140K (Glassdoor est.)</td>\n",
       "      <td>In this role you will Characterize materials (...</td>\n",
       "      <td>eTeam Inc</td>\n",
       "      <td>Seattle, WA</td>\n",
       "      <td>5001 to 10000 Employees</td>\n",
       "      <td>1999.0</td>\n",
       "      <td>Company - Private</td>\n",
       "      <td>Staffing &amp; Subcontracting</td>\n",
       "      <td>Human Resources &amp; Staffing</td>\n",
       "      <td>$100 to $500 million (USD)</td>\n",
       "      <td>105500.0</td>\n",
       "      <td>WA</td>\n",
       "    </tr>\n",
       "    <tr>\n",
       "      <th>1</th>\n",
       "      <td>Chemical Process Engineer</td>\n",
       "      <td>Employer Provided Salary:$100K - $120K</td>\n",
       "      <td>Process Engineer (FT, permanent hire position ...</td>\n",
       "      <td>Ethos</td>\n",
       "      <td>Dallas, TX</td>\n",
       "      <td>NaN</td>\n",
       "      <td>NaN</td>\n",
       "      <td>NaN</td>\n",
       "      <td>NaN</td>\n",
       "      <td>NaN</td>\n",
       "      <td>NaN</td>\n",
       "      <td>110000.0</td>\n",
       "      <td>TX</td>\n",
       "    </tr>\n",
       "  </tbody>\n",
       "</table>\n",
       "</div>"
      ],
      "text/plain": [
       "                   Job Title                         Salary Estimate  \\\n",
       "0     Materials Engineer III           $71K - $140K (Glassdoor est.)   \n",
       "1  Chemical Process Engineer  Employer Provided Salary:$100K - $120K   \n",
       "\n",
       "                                     Job Description Company Name  \\\n",
       "0  In this role you will Characterize materials (...   eTeam Inc    \n",
       "1  Process Engineer (FT, permanent hire position ...        Ethos   \n",
       "\n",
       "      Location                     Size  Founded  Type of ownership  \\\n",
       "0  Seattle, WA  5001 to 10000 Employees   1999.0  Company - Private   \n",
       "1   Dallas, TX                      NaN      NaN                NaN   \n",
       "\n",
       "                    Industry                      Sector  \\\n",
       "0  Staffing & Subcontracting  Human Resources & Staffing   \n",
       "1                        NaN                         NaN   \n",
       "\n",
       "                      Revenue  Average Salary States  \n",
       "0  $100 to $500 million (USD)        105500.0     WA  \n",
       "1                         NaN        110000.0     TX  "
      ]
     },
     "execution_count": 99,
     "metadata": {},
     "output_type": "execute_result"
    }
   ],
   "source": [
    "df_dropped_unwanted_columns.head(2)"
   ]
  },
  {
   "cell_type": "code",
   "execution_count": 100,
   "id": "46061ecd",
   "metadata": {},
   "outputs": [
    {
     "data": {
      "text/html": [
       "<div>\n",
       "<style scoped>\n",
       "    .dataframe tbody tr th:only-of-type {\n",
       "        vertical-align: middle;\n",
       "    }\n",
       "\n",
       "    .dataframe tbody tr th {\n",
       "        vertical-align: top;\n",
       "    }\n",
       "\n",
       "    .dataframe thead th {\n",
       "        text-align: right;\n",
       "    }\n",
       "</style>\n",
       "<table border=\"1\" class=\"dataframe\">\n",
       "  <thead>\n",
       "    <tr style=\"text-align: right;\">\n",
       "      <th></th>\n",
       "      <th>Average Salary</th>\n",
       "    </tr>\n",
       "    <tr>\n",
       "      <th>States</th>\n",
       "      <th></th>\n",
       "    </tr>\n",
       "  </thead>\n",
       "  <tbody>\n",
       "    <tr>\n",
       "      <th>Remote</th>\n",
       "      <td>108286.923077</td>\n",
       "    </tr>\n",
       "    <tr>\n",
       "      <th>CT</th>\n",
       "      <td>106227.027027</td>\n",
       "    </tr>\n",
       "    <tr>\n",
       "      <th>CA</th>\n",
       "      <td>99904.026846</td>\n",
       "    </tr>\n",
       "    <tr>\n",
       "      <th>CO</th>\n",
       "      <td>96011.730769</td>\n",
       "    </tr>\n",
       "    <tr>\n",
       "      <th>DC</th>\n",
       "      <td>94321.428571</td>\n",
       "    </tr>\n",
       "    <tr>\n",
       "      <th>OR</th>\n",
       "      <td>92996.444444</td>\n",
       "    </tr>\n",
       "    <tr>\n",
       "      <th>TX</th>\n",
       "      <td>92443.486239</td>\n",
       "    </tr>\n",
       "    <tr>\n",
       "      <th>WA</th>\n",
       "      <td>92253.611111</td>\n",
       "    </tr>\n",
       "    <tr>\n",
       "      <th>HI</th>\n",
       "      <td>92125.000000</td>\n",
       "    </tr>\n",
       "    <tr>\n",
       "      <th>ID</th>\n",
       "      <td>91794.117647</td>\n",
       "    </tr>\n",
       "    <tr>\n",
       "      <th>AK</th>\n",
       "      <td>91600.000000</td>\n",
       "    </tr>\n",
       "    <tr>\n",
       "      <th>NM</th>\n",
       "      <td>91413.142857</td>\n",
       "    </tr>\n",
       "    <tr>\n",
       "      <th>MD</th>\n",
       "      <td>90650.000000</td>\n",
       "    </tr>\n",
       "    <tr>\n",
       "      <th>MA</th>\n",
       "      <td>89788.367347</td>\n",
       "    </tr>\n",
       "    <tr>\n",
       "      <th>VA</th>\n",
       "      <td>87201.454545</td>\n",
       "    </tr>\n",
       "    <tr>\n",
       "      <th>NY</th>\n",
       "      <td>86935.140187</td>\n",
       "    </tr>\n",
       "    <tr>\n",
       "      <th>NE</th>\n",
       "      <td>86733.333333</td>\n",
       "    </tr>\n",
       "    <tr>\n",
       "      <th>AZ</th>\n",
       "      <td>86242.500000</td>\n",
       "    </tr>\n",
       "    <tr>\n",
       "      <th>RI</th>\n",
       "      <td>85220.000000</td>\n",
       "    </tr>\n",
       "    <tr>\n",
       "      <th>NJ</th>\n",
       "      <td>85067.766990</td>\n",
       "    </tr>\n",
       "    <tr>\n",
       "      <th>VT</th>\n",
       "      <td>83833.333333</td>\n",
       "    </tr>\n",
       "    <tr>\n",
       "      <th>NH</th>\n",
       "      <td>83423.076923</td>\n",
       "    </tr>\n",
       "    <tr>\n",
       "      <th>ME</th>\n",
       "      <td>82812.500000</td>\n",
       "    </tr>\n",
       "    <tr>\n",
       "      <th>LA</th>\n",
       "      <td>82195.384615</td>\n",
       "    </tr>\n",
       "    <tr>\n",
       "      <th>WI</th>\n",
       "      <td>82059.178082</td>\n",
       "    </tr>\n",
       "    <tr>\n",
       "      <th>OH</th>\n",
       "      <td>81899.349593</td>\n",
       "    </tr>\n",
       "    <tr>\n",
       "      <th>GA</th>\n",
       "      <td>81770.891089</td>\n",
       "    </tr>\n",
       "    <tr>\n",
       "      <th>MI</th>\n",
       "      <td>81657.692308</td>\n",
       "    </tr>\n",
       "    <tr>\n",
       "      <th>OK</th>\n",
       "      <td>81348.387097</td>\n",
       "    </tr>\n",
       "    <tr>\n",
       "      <th>MT</th>\n",
       "      <td>81166.666667</td>\n",
       "    </tr>\n",
       "    <tr>\n",
       "      <th>NV</th>\n",
       "      <td>79951.875000</td>\n",
       "    </tr>\n",
       "    <tr>\n",
       "      <th>IA</th>\n",
       "      <td>78879.473684</td>\n",
       "    </tr>\n",
       "    <tr>\n",
       "      <th>AR</th>\n",
       "      <td>78233.571429</td>\n",
       "    </tr>\n",
       "    <tr>\n",
       "      <th>TN</th>\n",
       "      <td>77847.142857</td>\n",
       "    </tr>\n",
       "    <tr>\n",
       "      <th>KS</th>\n",
       "      <td>77516.250000</td>\n",
       "    </tr>\n",
       "    <tr>\n",
       "      <th>AL</th>\n",
       "      <td>77500.000000</td>\n",
       "    </tr>\n",
       "    <tr>\n",
       "      <th>ND</th>\n",
       "      <td>77236.000000</td>\n",
       "    </tr>\n",
       "    <tr>\n",
       "      <th>MN</th>\n",
       "      <td>77184.473684</td>\n",
       "    </tr>\n",
       "    <tr>\n",
       "      <th>PA</th>\n",
       "      <td>77146.393443</td>\n",
       "    </tr>\n",
       "    <tr>\n",
       "      <th>IN</th>\n",
       "      <td>76984.000000</td>\n",
       "    </tr>\n",
       "    <tr>\n",
       "      <th>IL</th>\n",
       "      <td>76981.527778</td>\n",
       "    </tr>\n",
       "    <tr>\n",
       "      <th>WV</th>\n",
       "      <td>76626.666667</td>\n",
       "    </tr>\n",
       "    <tr>\n",
       "      <th>KY</th>\n",
       "      <td>76454.838710</td>\n",
       "    </tr>\n",
       "    <tr>\n",
       "      <th>MO</th>\n",
       "      <td>76320.400000</td>\n",
       "    </tr>\n",
       "    <tr>\n",
       "      <th>NC</th>\n",
       "      <td>76319.851852</td>\n",
       "    </tr>\n",
       "    <tr>\n",
       "      <th>MS</th>\n",
       "      <td>76264.705882</td>\n",
       "    </tr>\n",
       "    <tr>\n",
       "      <th>DE</th>\n",
       "      <td>76203.636364</td>\n",
       "    </tr>\n",
       "    <tr>\n",
       "      <th>UT</th>\n",
       "      <td>76158.222222</td>\n",
       "    </tr>\n",
       "    <tr>\n",
       "      <th>SC</th>\n",
       "      <td>75912.857143</td>\n",
       "    </tr>\n",
       "    <tr>\n",
       "      <th>FL</th>\n",
       "      <td>75278.271605</td>\n",
       "    </tr>\n",
       "    <tr>\n",
       "      <th>WY</th>\n",
       "      <td>73391.111111</td>\n",
       "    </tr>\n",
       "    <tr>\n",
       "      <th>SD</th>\n",
       "      <td>72500.000000</td>\n",
       "    </tr>\n",
       "    <tr>\n",
       "      <th>PR</th>\n",
       "      <td>67215.555556</td>\n",
       "    </tr>\n",
       "    <tr>\n",
       "      <th>IND</th>\n",
       "      <td>10000.000000</td>\n",
       "    </tr>\n",
       "  </tbody>\n",
       "</table>\n",
       "</div>"
      ],
      "text/plain": [
       "        Average Salary\n",
       "States                \n",
       "Remote   108286.923077\n",
       "CT       106227.027027\n",
       "CA        99904.026846\n",
       "CO        96011.730769\n",
       "DC        94321.428571\n",
       "OR        92996.444444\n",
       "TX        92443.486239\n",
       "WA        92253.611111\n",
       "HI        92125.000000\n",
       "ID        91794.117647\n",
       "AK        91600.000000\n",
       "NM        91413.142857\n",
       "MD        90650.000000\n",
       "MA        89788.367347\n",
       "VA        87201.454545\n",
       "NY        86935.140187\n",
       "NE        86733.333333\n",
       "AZ        86242.500000\n",
       "RI        85220.000000\n",
       "NJ        85067.766990\n",
       "VT        83833.333333\n",
       "NH        83423.076923\n",
       "ME        82812.500000\n",
       "LA        82195.384615\n",
       "WI        82059.178082\n",
       "OH        81899.349593\n",
       "GA        81770.891089\n",
       "MI        81657.692308\n",
       "OK        81348.387097\n",
       "MT        81166.666667\n",
       "NV        79951.875000\n",
       "IA        78879.473684\n",
       "AR        78233.571429\n",
       "TN        77847.142857\n",
       "KS        77516.250000\n",
       "AL        77500.000000\n",
       "ND        77236.000000\n",
       "MN        77184.473684\n",
       "PA        77146.393443\n",
       "IN        76984.000000\n",
       "IL        76981.527778\n",
       "WV        76626.666667\n",
       "KY        76454.838710\n",
       "MO        76320.400000\n",
       "NC        76319.851852\n",
       "MS        76264.705882\n",
       "DE        76203.636364\n",
       "UT        76158.222222\n",
       "SC        75912.857143\n",
       "FL        75278.271605\n",
       "WY        73391.111111\n",
       "SD        72500.000000\n",
       "PR        67215.555556\n",
       "IND       10000.000000"
      ]
     },
     "execution_count": 100,
     "metadata": {},
     "output_type": "execute_result"
    }
   ],
   "source": [
    "byState = pd.pivot_table(data=df_dropped_unwanted_columns,index='States',values='Average Salary')\n",
    "byState.sort_values(by='Average Salary', ascending = False)"
   ]
  },
  {
   "cell_type": "code",
   "execution_count": 101,
   "id": "1c1c8903",
   "metadata": {},
   "outputs": [
    {
     "data": {
      "text/plain": [
       "count      3775.000000\n",
       "mean      86693.886093\n",
       "std       24024.054425\n",
       "min       10000.000000\n",
       "25%       73000.000000\n",
       "50%       84500.000000\n",
       "75%       98000.000000\n",
       "max      250000.000000\n",
       "Name: Average Salary, dtype: float64"
      ]
     },
     "execution_count": 101,
     "metadata": {},
     "output_type": "execute_result"
    }
   ],
   "source": [
    "df_dropped_unwanted_columns['Average Salary'].describe()"
   ]
  },
  {
   "cell_type": "code",
   "execution_count": 102,
   "id": "12edd297",
   "metadata": {},
   "outputs": [],
   "source": [
    "first_quartile = df_dropped_unwanted_columns['Average Salary'].quantile(0.25)\n",
    "third_quartile = df_dropped_unwanted_columns['Average Salary'].quantile(0.75)\n",
    "inter_quartile_range = third_quartile - first_quartile\n",
    "filter1 = ((df_dropped_unwanted_columns['Average Salary'] < first_quartile -1.5 * inter_quartile_range) | (df_dropped_unwanted_columns['Average Salary'] > third_quartile + 1.5*inter_quartile_range))\n",
    "filter2 = ((df_dropped_unwanted_columns['Average Salary'] >= first_quartile -1.5 * inter_quartile_range) & (df_dropped_unwanted_columns['Average Salary'] <= third_quartile + 1.5*inter_quartile_range))\n",
    "outliers = df_dropped_unwanted_columns.loc[filter1]\n",
    "removed_outliers = df_dropped_unwanted_columns.loc[filter2]"
   ]
  },
  {
   "cell_type": "code",
   "execution_count": 103,
   "id": "68a0e25e",
   "metadata": {},
   "outputs": [
    {
     "data": {
      "text/plain": [
       "count       163.000000\n",
       "mean     135108.098160\n",
       "std       53055.427511\n",
       "min       10000.000000\n",
       "25%      137500.000000\n",
       "50%      145500.000000\n",
       "75%      162250.000000\n",
       "max      250000.000000\n",
       "Name: Average Salary, dtype: float64"
      ]
     },
     "execution_count": 103,
     "metadata": {},
     "output_type": "execute_result"
    }
   ],
   "source": [
    "outliers['Average Salary'].describe()"
   ]
  },
  {
   "cell_type": "code",
   "execution_count": 104,
   "id": "e16b4cbb",
   "metadata": {},
   "outputs": [
    {
     "data": {
      "text/plain": [
       "count      3612.000000\n",
       "mean      84509.080842\n",
       "std       19140.131035\n",
       "min       35500.000000\n",
       "25%       72800.000000\n",
       "50%       83500.000000\n",
       "75%       95500.000000\n",
       "max      135500.000000\n",
       "Name: Average Salary, dtype: float64"
      ]
     },
     "execution_count": 104,
     "metadata": {},
     "output_type": "execute_result"
    }
   ],
   "source": [
    "removed_outliers['Average Salary'].describe()"
   ]
  },
  {
   "cell_type": "code",
   "execution_count": 106,
   "id": "36397a1e",
   "metadata": {},
   "outputs": [],
   "source": [
    "removed_outliers.to_csv(r'/Users/user/Desktop/Project/Data/Cleaned Data/RemovedOutliers.csv',index=False)\n",
    "outliers.to_csv(r'/Users/user/Desktop/Project/Data/Cleaned Data/Outliers.csv',index=False)\n",
    "df_dropped_unwanted_columns.to_csv(r'/Users/user/Desktop/Project/Data/Cleaned Data/FixedStates.csv',index=False)"
   ]
  },
  {
   "cell_type": "code",
   "execution_count": 107,
   "id": "e6b23c50",
   "metadata": {},
   "outputs": [
    {
     "data": {
      "text/plain": [
       "<AxesSubplot:>"
      ]
     },
     "execution_count": 107,
     "metadata": {},
     "output_type": "execute_result"
    },
    {
     "data": {
      "image/png": "[encoded data removed]",
      "text/plain": [
       "<Figure size 432x288 with 2 Axes>"
      ]
     },
     "metadata": {
      "needs_background": "light"
     },
     "output_type": "display_data"
    }
   ],
   "source": [
    "sns.heatmap(removed_outliers.isnull(),annot=False,cmap='viridis',yticklabels='vertical')"
   ]
  },
  {
   "cell_type": "code",
   "execution_count": 108,
   "id": "0e6b99ba",
   "metadata": {},
   "outputs": [
    {
     "data": {
      "text/plain": [
       "0     23.0\n",
       "1      NaN\n",
       "2     42.0\n",
       "3      NaN\n",
       "4    161.0\n",
       "5      NaN\n",
       "6      NaN\n",
       "7     55.0\n",
       "8      NaN\n",
       "9      NaN\n",
       "Name: Company Age, dtype: float64"
      ]
     },
     "execution_count": 108,
     "metadata": {},
     "output_type": "execute_result"
    }
   ],
   "source": [
    "removed_outliers['Company Age'] = removed_outliers['Founded'].apply(lambda x : 2022-x if x != np.nan else x)\n",
    "removed_outliers['Company Age'].head(10)"
   ]
  },
  {
   "cell_type": "code",
   "execution_count": 109,
   "id": "b61855d7",
   "metadata": {},
   "outputs": [
    {
     "name": "stdout",
     "output_type": "stream",
     "text": [
      "<class 'pandas.core.frame.DataFrame'>\n",
      "Int64Index: 3612 entries, 0 to 7716\n",
      "Data columns (total 14 columns):\n",
      " #   Column             Non-Null Count  Dtype  \n",
      "---  ------             --------------  -----  \n",
      " 0   Job Title          3612 non-null   object \n",
      " 1   Salary Estimate    3612 non-null   object \n",
      " 2   Job Description    3612 non-null   object \n",
      " 3   Company Name       3612 non-null   object \n",
      " 4   Location           3611 non-null   object \n",
      " 5   Size               3149 non-null   object \n",
      " 6   Founded            2557 non-null   float64\n",
      " 7   Type of ownership  3308 non-null   object \n",
      " 8   Industry           2900 non-null   object \n",
      " 9   Sector             2871 non-null   object \n",
      " 10  Revenue            2568 non-null   object \n",
      " 11  Average Salary     3612 non-null   float64\n",
      " 12  States             3607 non-null   object \n",
      " 13  Company Age        2557 non-null   float64\n",
      "dtypes: float64(3), object(11)\n",
      "memory usage: 423.3+ KB\n"
     ]
    }
   ],
   "source": [
    "removed_outliers.info()"
   ]
  },
  {
   "cell_type": "code",
   "execution_count": 110,
   "id": "19d51420",
   "metadata": {},
   "outputs": [
    {
     "data": {
      "text/plain": [
       "<AxesSubplot:>"
      ]
     },
     "execution_count": 110,
     "metadata": {},
     "output_type": "execute_result"
    },
    {
     "data": {
      "image/png": "[encoded data removed]",
      "text/plain": [
       "<Figure size 432x288 with 1 Axes>"
      ]
     },
     "metadata": {
      "needs_background": "light"
     },
     "output_type": "display_data"
    }
   ],
   "source": [
    "removed_outliers['Company Age'].hist(bins=30)"
   ]
  },
  {
   "cell_type": "code",
   "execution_count": 111,
   "id": "96fef99d",
   "metadata": {},
   "outputs": [
    {
     "data": {
      "text/plain": [
       "count    2557.000000\n",
       "mean       73.643723\n",
       "std        56.329063\n",
       "min         1.000000\n",
       "25%        26.000000\n",
       "50%        55.000000\n",
       "75%       115.000000\n",
       "max       357.000000\n",
       "Name: Company Age, dtype: float64"
      ]
     },
     "execution_count": 111,
     "metadata": {},
     "output_type": "execute_result"
    }
   ],
   "source": [
    "removed_outliers['Company Age'].describe()"
   ]
  },
  {
   "cell_type": "code",
   "execution_count": 112,
   "id": "0a434005",
   "metadata": {},
   "outputs": [
    {
     "data": {
      "text/plain": [
       "73         Saint-Gobain \n",
       "1116    EMD ELECTRONICS \n",
       "1127    EMD ELECTRONICS \n",
       "1426     MilliporeSigma \n",
       "2508       Saint-Gobain \n",
       "2650    EMD ELECTRONICS \n",
       "2666       Saint-Gobain \n",
       "2755       Saint-Gobain \n",
       "2759       Saint-Gobain \n",
       "2908       Saint-Gobain \n",
       "4720       Saint-Gobain \n",
       "4926       Saint-Gobain \n",
       "6989       Saint-Gobain \n",
       "7130       Saint-Gobain \n",
       "Name: Company Name, dtype: object"
      ]
     },
     "execution_count": 112,
     "metadata": {},
     "output_type": "execute_result"
    }
   ],
   "source": [
    "removed_outliers[removed_outliers['Company Age']>350]['Company Name']"
   ]
  },
  {
   "cell_type": "code",
   "execution_count": 113,
   "id": "28466d24",
   "metadata": {},
   "outputs": [],
   "source": [
    "def degree_finder(col,degree):\n",
    "    degrees = {'Bachelors':[\"bsc\",\"b.sc\",\"bachelor\",\"bachelors\",\"bachelor's\",\"bachelors'\",\"b.sc.\",\"bsc.\",\"b sc.\",\"bachelor's.\",\"bachelors'.\",\"b.s\",\"b.s.\",\"bs/ms\",\"bs/ms/phd\",\"bs.c\",'btech','b.tech'],\n",
    "           'Masters':[\"msc\",\"m.sc\",\"masters\",\"master's\",\"masters'\",\"m.sc.\",\"msc.\",\"m sc.\",\"masters.\",\"master's.\",\"masters'.\",\"m.s\",\"m.s.\",\"bs/ms\",\"bs/ms/phd\",'mtech','m.tech'],\n",
    "           'PHD':[\"phd\",\"ph.d\",\"doctorate\",\"p.hd\",\"phd.\",\"ph.d.\",\"doctorate.\",\"p.hd.\",\"bs/ms/phd\"]\n",
    "    }\n",
    "    count = False\n",
    "    while count == False:\n",
    "        for item in degrees[degree]: \n",
    "            if item in col.lower():\n",
    "                return 'yes'\n",
    "            elif ('BS' in col)and (degree == 'Bachelors'):\n",
    "                return 'yes'\n",
    "        count = True\n",
    "    return 'No'  "
   ]
  },
  {
   "cell_type": "code",
   "execution_count": 89,
   "id": "ca9164ed",
   "metadata": {
    "scrolled": true
   },
   "outputs": [
    {
     "data": {
      "text/plain": [
       "'No'"
      ]
     },
     "execution_count": 89,
     "metadata": {},
     "output_type": "execute_result"
    }
   ],
   "source": [
    "degree_finder('Imagine New Horizons...  BIOVIA, a wholly owned subsidiary of DASSAULT SYSTEMES provides a sophisticated enterprise system of modeling, simulation, laboratory, quality, and process data management solutions. Our customers use these systems to discover, design, and deliver innovative sustainable and competitive products to consumers globally.  We support industries and organizations that rely on innovation to differentiate themselves. Our customer base includes the world’s largest pharmaceutical, biotechnology, chemical, energy, and consumer goods companies.  We provide software and cloud services for scientists and engineers, which helps them do their job better. With access to data, tools and applications to understand that data and analytical and predictive capabilities our customers produce quality products.  What will your role be? We are looking for an experienced Java Engineer to join our Discoverant development team. This role will play a leading part in the development of new generation web-based applications in the area of Scientific Analytics for Process Production Operations in Life Sciences You will work within a team of software developers alongside Product Managers and Quality Engineers to develop and enhance BIOVIA software products. BIOVIA employs a scaled agile approach with an increasing emphasis on DevOps to support the development and continuous testing of our service-oriented architectures.  The Challenges Ahead You will be defining and describing the architecture, functional behavior, limitations and acceptance tests of new and enhanced capabilities. You will need to design and specify how capabilities will be implemented: select algorithms as well as theories or technologies that will be used, plan appropriate user interface, and identify and manage dependencies on other components. You know what good software engineering looks like and how to build flexible, extensible and re-usable architectures. You are intrigued by the challenges of security, scalability, and availability, and understand the techniques and technologies deployed to support these goals. You know how to measure performance characteristics against the scaling of users and data volumes, and how to address bottlenecks. You understand the importance of building a testing strategy into any product development, to provide ongoing quality assurance into the future. You want to help other developers learn from your experience and insights. You are confident about solving any product defect through a rational and efficient approach. You notice and act upon opportunities for continuous improvement in development and release processes; you seek empowerment to make things better for everyone. You recognize the importance of working with project management to establish a clear definition of development goals and product specifications and align them with a long-term roadmap. Your Key Success Factors? Bachelors or Masters Degree in Chemical Engineering, Computer Science, Statistics or related fields Strong experience with Java is critical Experience with development of software for use in regulated industries is a strong plus Understanding of Software Architecture Experience with service oriented architectures Experience with Web App Development with HTML5, Angular, TypeScript Database experience with Oracle, SQL Server, NoSQL databases Compensation for the this role will be commensurate with experience. The total expected compensation range will be between $130,000 and $140,000, representing the base salary (or annualized salary based on estimated hourly compensation) and target bonus Compensation & Benefits Dassault Systèmes offers an excellent salary with potential for bonus, commensurate with experience. Benefits include a choice of plans providing comprehensive coverage for medical, dental, vision care for employee & dependents as well as employee life, short & long term disability, tuition reimbursement, immediate 401K enrollment, 401K match (50 cents on the dollar, up to the first 8% of your eligible compensation that you contribute based on match eligibility criteria), flexible time off policy, and 9 paid holidays. Equal opportunity In order to provide equal employment and advancement opportunities to all individuals, employment decisions at 3DS are based on merit, qualifications and abilities. 3DS is committed to a policy of non-discrimination and equal opportunity for all employees and qualified applicants without regard to race, color, religion, gender, sex (including pregnancy, childbirth or medical or common conditions related to pregnancy or childbirth), sexual orientation, gender identity, gender expression, marital status, familial status, national origin, ancestry, age (40 and above), disability, veteran status, military service, application for military service, genetic information, receipt of free medical care, or any other characteristic protected under applicable law. 3DS will make reasonable accommodations for qualified individuals with known disabilities, in accordance with applicable law. Apply Now: click Apply Now Show Less','PHD')"
   ]
  },
  {
   "cell_type": "code",
   "execution_count": 114,
   "id": "c624e36c",
   "metadata": {},
   "outputs": [
    {
     "data": {
      "text/plain": [
       "0    yes\n",
       "1    yes\n",
       "2    yes\n",
       "3    yes\n",
       "4    yes\n",
       "5    yes\n",
       "6     No\n",
       "7    yes\n",
       "8    yes\n",
       "9     No\n",
       "Name: Bachelors, dtype: object"
      ]
     },
     "execution_count": 114,
     "metadata": {},
     "output_type": "execute_result"
    }
   ],
   "source": [
    "removed_outliers['Bachelors'] = removed_outliers['Job Description'].apply(degree_finder,args=['Bachelors'])\n",
    "removed_outliers['Bachelors'].head(10)"
   ]
  },
  {
   "cell_type": "code",
   "execution_count": 115,
   "id": "3497c63f",
   "metadata": {},
   "outputs": [
    {
     "data": {
      "text/plain": [
       "yes    2847\n",
       "No      765\n",
       "Name: Bachelors, dtype: int64"
      ]
     },
     "execution_count": 115,
     "metadata": {},
     "output_type": "execute_result"
    }
   ],
   "source": [
    "removed_outliers['Bachelors'].value_counts() "
   ]
  },
  {
   "cell_type": "code",
   "execution_count": 116,
   "id": "2985bbd9",
   "metadata": {},
   "outputs": [
    {
     "data": {
      "text/plain": [
       "0    No\n",
       "1    No\n",
       "2    No\n",
       "3    No\n",
       "4    No\n",
       "5    No\n",
       "6    No\n",
       "7    No\n",
       "8    No\n",
       "9    No\n",
       "Name: Masters, dtype: object"
      ]
     },
     "execution_count": 116,
     "metadata": {},
     "output_type": "execute_result"
    }
   ],
   "source": [
    "removed_outliers['Masters'] = removed_outliers['Job Description'].apply(degree_finder,args=['Masters'])\n",
    "removed_outliers['Masters'].head(10)"
   ]
  },
  {
   "cell_type": "code",
   "execution_count": 117,
   "id": "509aa0f8",
   "metadata": {},
   "outputs": [
    {
     "data": {
      "text/plain": [
       "No     3268\n",
       "yes     344\n",
       "Name: Masters, dtype: int64"
      ]
     },
     "execution_count": 117,
     "metadata": {},
     "output_type": "execute_result"
    }
   ],
   "source": [
    "removed_outliers['Masters'].value_counts()"
   ]
  },
  {
   "cell_type": "code",
   "execution_count": 118,
   "id": "56b83378",
   "metadata": {},
   "outputs": [
    {
     "data": {
      "text/plain": [
       "0        No\n",
       "1        No\n",
       "2        No\n",
       "3        No\n",
       "4        No\n",
       "       ... \n",
       "7632     No\n",
       "7647     No\n",
       "7664     No\n",
       "7697     No\n",
       "7716    yes\n",
       "Name: PHD, Length: 3612, dtype: object"
      ]
     },
     "execution_count": 118,
     "metadata": {},
     "output_type": "execute_result"
    }
   ],
   "source": [
    "removed_outliers['PHD'] = removed_outliers['Job Description'].apply(degree_finder,args=['PHD'])\n",
    "removed_outliers['PHD']"
   ]
  },
  {
   "cell_type": "code",
   "execution_count": 119,
   "id": "81b90db1",
   "metadata": {},
   "outputs": [
    {
     "data": {
      "text/plain": [
       "No     3296\n",
       "yes     316\n",
       "Name: PHD, dtype: int64"
      ]
     },
     "execution_count": 119,
     "metadata": {},
     "output_type": "execute_result"
    }
   ],
   "source": [
    "removed_outliers['PHD'].value_counts()"
   ]
  },
  {
   "cell_type": "code",
   "execution_count": 120,
   "id": "cbf18f32",
   "metadata": {},
   "outputs": [
    {
     "name": "stdout",
     "output_type": "stream",
     "text": [
      "<class 'pandas.core.frame.DataFrame'>\n",
      "Int64Index: 3612 entries, 0 to 7716\n",
      "Data columns (total 17 columns):\n",
      " #   Column             Non-Null Count  Dtype  \n",
      "---  ------             --------------  -----  \n",
      " 0   Job Title          3612 non-null   object \n",
      " 1   Salary Estimate    3612 non-null   object \n",
      " 2   Job Description    3612 non-null   object \n",
      " 3   Company Name       3612 non-null   object \n",
      " 4   Location           3611 non-null   object \n",
      " 5   Size               3149 non-null   object \n",
      " 6   Founded            2557 non-null   float64\n",
      " 7   Type of ownership  3308 non-null   object \n",
      " 8   Industry           2900 non-null   object \n",
      " 9   Sector             2871 non-null   object \n",
      " 10  Revenue            2568 non-null   object \n",
      " 11  Average Salary     3612 non-null   float64\n",
      " 12  States             3607 non-null   object \n",
      " 13  Company Age        2557 non-null   float64\n",
      " 14  Bachelors          3612 non-null   object \n",
      " 15  Masters            3612 non-null   object \n",
      " 16  PHD                3612 non-null   object \n",
      "dtypes: float64(3), object(14)\n",
      "memory usage: 507.9+ KB\n"
     ]
    }
   ],
   "source": [
    "removed_outliers.info()"
   ]
  },
  {
   "cell_type": "code",
   "execution_count": 121,
   "id": "79600073",
   "metadata": {},
   "outputs": [],
   "source": [
    "removed_outliers.to_csv(r'/Users/user/Desktop/Project/Data/Cleaned Data/WithDegrees.csv',index=False)"
   ]
  },
  {
   "cell_type": "code",
   "execution_count": 174,
   "id": "8f3434c5",
   "metadata": {},
   "outputs": [],
   "source": [
    "def years_of_experience(col):\n",
    "    string1 = re.findall('[\\W](\\d)[\\W]year',col)\n",
    "    string2 = re.findall('[\\W](\\d)\\+[\\W]year',col)\n",
    "    string3 = re.findall('[\\W](\\d{2})[\\W]year',col)\n",
    "    string4 = re.findall('[\\W](\\d{2})\\+[\\W]year',col)\n",
    "    string5 = re.findall('\\((\\d{1})\\)',col)\n",
    "    string6 = re.findall('\\((\\d{2})\\)',col)\n",
    "    string1.extend(string2)\n",
    "    string1.extend(string3)\n",
    "    string1.extend(string4)\n",
    "    string1.extend(string5)\n",
    "    string1.extend(string6)\n",
    "    if len(string1) == 0:\n",
    "        return np.nan\n",
    "    try:\n",
    "        years = [int(x) for x in string1 if int(x) <= 25 and int(x) != 18]\n",
    "        # 18 years was excluded due to the fact that in a lot of job descriptions it was used to signify...\n",
    "        # ....age of eligibility and not years of experience.\n",
    "        \n",
    "        # 25 years was chosen as the the maximum because  most of the time ages above that threshold stood for...\n",
    "        # ....things other than years of experience e.g company age.\n",
    "        return max(years)\n",
    "    except ValueError:\n",
    "        return np.nan"
   ]
  },
  {
   "cell_type": "code",
   "execution_count": 129,
   "id": "a3c883ba",
   "metadata": {},
   "outputs": [
    {
     "data": {
      "text/plain": [
       "'10'"
      ]
     },
     "execution_count": 129,
     "metadata": {},
     "output_type": "execute_result"
    }
   ],
   "source": [
    "string = re.search('(\\((\\d{2})\\))[\\W]year','Basic Function Provide technical advice and guidance as the subject matter expert for production engineering, for conventional and unconventional oil and gas resources. Apply engineering expertise to review complex production operations issues and recommend remediation practices or procedures. Perform and direct major engineering projects and technical services requiring original or unusual analysis and solution. May coordinate or collaborate with other engineers. Preferred experience includes well completion design, sand control, scale mitigation, artificial lift, gas production optimization, and water management. Duties & Responsibilities Initiate, develop, and coordinate study / analysis to recommend solutions for improving operating efficiency, increasing recovery, or reducing cost. Present recommendations in a formal report to management and operations partner. Serve as consultant to participate in project technical reviews and assess proposals for new or changed operating procedures to ensure efficient and economic operations. Based on experience in North America, identify operational best practices relevant to Saudi Aramco. Conduct technology scouting, collaborate with operations partners in the Kingdom of Saudi Arabia for field test or implementation pilot, analyze subsequent results as needed. Represent ASC and Saudi Aramco in dealings with technology vendors, service providers, outside consultants, etc. within his/her area of expertise. Keep current on latest innovation and participate in technical societies of his/her area of expertise; represent ASC and Saudi Aramco on industry committees or specialized groups as appropriate. Perform other duties and participate in special projects as assigned. Education and Experience B.S. in Petroleum, Mechanical, or Chemical Engineering; M.S or PhD is desirable, but not required Typically has at least ten (10) years of relevant experience, including at least five (5) years in production operations Preferred experience includes well completion design, sand control, scale mitigation, artificial lift, gas production optimization, and water management. Operational / field experience in high H2S environment, hydraulic fracturing and acidizing is desirable. Familiar with oil and gas software applications (e.g. Resfrac, GOHFER, Petrel, SandCade, FracCADE, PIPESIM) Must be able to prepare technical reports and briefs; present to management and operations partners Must possess good work ethic, and be able to adhere to company work hours, policies, and standard business etiquette Must be able to communicate and comprehend accurately, clearly and concisely in English  NO THIRD PARTY CANDIDATES ACCEPTED DM7Za5mZO1 Show Less')\n",
    "string.group(2)"
   ]
  },
  {
   "cell_type": "code",
   "execution_count": 130,
   "id": "c2cbaae9",
   "metadata": {},
   "outputs": [
    {
     "data": {
      "text/plain": [
       "3"
      ]
     },
     "execution_count": 130,
     "metadata": {},
     "output_type": "execute_result"
    }
   ],
   "source": [
    "years_of_experience(\"Flint Hills Resources Pine Bend Refinery in Rosemount, MN located in the Minneapolis/St. Paul metro, is hiring a Plant Engineer. The plant engineering role is a position that builds refinery operations knowledge and understanding and application of key engineering fundamentals. These skills will enable further career opportunities in asset management, reliability or project/construction management. Flint Hills Resources is a different kind of company, we are privately owned, eligible for a flexible work arrangement and a â€œ9/80â€ work schedule that offers every other Friday off and our compensation philosophy is based on the value you create. Come realize your full potential and join our team! What You Will Do In Your Role As a plant engineer, you will develop and demonstrate an understanding of: FHR/Pine Bendâ€™s safety culture Oil flow and high-level function of refinery process units Basic refinery economics Analytical skills and engineering knowledge to identify, assess, and implement EH&S and business improvement opportunities Reliability Engineering and small projects related to equipment reliability/improvement Engineering fundamentals applied to unit monitoring and troubleshooting Production Team problem resolution or opportunity definition developed within prescribed timelines Function and purpose of the different support groups within the refinery Support Turnaround activities in assigned areas as required Troubleshooting of mechanical-related problems and leverage of root cause analysis techniques to determine the appropriate repair scopes Capital project management, construction management, â€œKeep It Runningâ€ maintenance, and refinery Turnaround execution Adhering to safe work practices while planning and coordinating execution of priority work throughout the refinery Drive innovation and transformation, make calculated bets, improve efficiency, expand capability, and create value through the application of MBM principles The Experience You Will Bring Requirements: Bachelorâ€™s degree in Engineering (i.e., Mechanical, Electrical, Petroleum, Chemical, Civil/Structural) Minimum of two (2) years of experience in reliability engineering or related role What Will Put You Ahead Three (3) years or more experience in a refining/petro-chemical/manufacturing facility Construction or project execution experience Job Type: Full-time Benefits: 401(k) 401(k) matching Dental insurance Employee assistance program Employee discount Flexible schedule Flexible spending account Health insurance Health savings account Life insurance Paid time off Parental leave Professional development assistance Referral program Relocation assistance Retirement plan Tuition reimbursement Vision insurance Schedule: 8 hour shift Monday to Friday Supplemental Pay: Bonus pay Work Location: One location Show Less\")"
   ]
  },
  {
   "cell_type": "code",
   "execution_count": 131,
   "id": "d99bc2c1",
   "metadata": {},
   "outputs": [
    {
     "data": {
      "text/plain": [
       "0       NaN\n",
       "1       3.0\n",
       "2       4.0\n",
       "3       1.0\n",
       "4       NaN\n",
       "       ... \n",
       "7632    5.0\n",
       "7647    8.0\n",
       "7664    0.0\n",
       "7697    3.0\n",
       "7716    4.0\n",
       "Name: Years of Experience, Length: 3612, dtype: float64"
      ]
     },
     "execution_count": 131,
     "metadata": {},
     "output_type": "execute_result"
    }
   ],
   "source": [
    "removed_outliers['Years of Experience']=removed_outliers['Job Description'].apply(years_of_experience)\n",
    "removed_outliers['Years of Experience']"
   ]
  },
  {
   "cell_type": "code",
   "execution_count": 132,
   "id": "ae8bcce2",
   "metadata": {},
   "outputs": [
    {
     "data": {
      "text/plain": [
       "False    2486\n",
       "True     1126\n",
       "Name: Years of Experience, dtype: int64"
      ]
     },
     "execution_count": 132,
     "metadata": {},
     "output_type": "execute_result"
    }
   ],
   "source": [
    "removed_outliers['Years of Experience'].isna().value_counts()"
   ]
  },
  {
   "cell_type": "code",
   "execution_count": 133,
   "id": "077f1b7c",
   "metadata": {},
   "outputs": [
    {
     "data": {
      "text/plain": [
       "5.0     680\n",
       "3.0     455\n",
       "2.0     372\n",
       "10.0    201\n",
       "1.0     179\n",
       "4.0     163\n",
       "8.0     112\n",
       "7.0     104\n",
       "6.0      79\n",
       "12.0     33\n",
       "15.0     29\n",
       "20.0     28\n",
       "9.0      13\n",
       "0.0       9\n",
       "11.0      7\n",
       "25.0      6\n",
       "16.0      4\n",
       "14.0      3\n",
       "21.0      3\n",
       "17.0      2\n",
       "13.0      2\n",
       "19.0      1\n",
       "24.0      1\n",
       "Name: Years of Experience, dtype: int64"
      ]
     },
     "execution_count": 133,
     "metadata": {},
     "output_type": "execute_result"
    }
   ],
   "source": [
    "removed_outliers['Years of Experience'].value_counts()"
   ]
  },
  {
   "cell_type": "code",
   "execution_count": 134,
   "id": "5a99234d",
   "metadata": {},
   "outputs": [
    {
     "name": "stdout",
     "output_type": "stream",
     "text": [
      "<class 'pandas.core.frame.DataFrame'>\n",
      "Int64Index: 3612 entries, 0 to 7716\n",
      "Data columns (total 18 columns):\n",
      " #   Column               Non-Null Count  Dtype  \n",
      "---  ------               --------------  -----  \n",
      " 0   Job Title            3612 non-null   object \n",
      " 1   Salary Estimate      3612 non-null   object \n",
      " 2   Job Description      3612 non-null   object \n",
      " 3   Company Name         3612 non-null   object \n",
      " 4   Location             3611 non-null   object \n",
      " 5   Size                 3149 non-null   object \n",
      " 6   Founded              2557 non-null   float64\n",
      " 7   Type of ownership    3308 non-null   object \n",
      " 8   Industry             2900 non-null   object \n",
      " 9   Sector               2871 non-null   object \n",
      " 10  Revenue              2568 non-null   object \n",
      " 11  Average Salary       3612 non-null   float64\n",
      " 12  States               3607 non-null   object \n",
      " 13  Company Age          2557 non-null   float64\n",
      " 14  Bachelors            3612 non-null   object \n",
      " 15  Masters              3612 non-null   object \n",
      " 16  PHD                  3612 non-null   object \n",
      " 17  Years of Experience  2486 non-null   float64\n",
      "dtypes: float64(4), object(14)\n",
      "memory usage: 536.2+ KB\n"
     ]
    }
   ],
   "source": [
    "removed_outliers.info()"
   ]
  },
  {
   "cell_type": "code",
   "execution_count": 135,
   "id": "f7b0aec1",
   "metadata": {},
   "outputs": [],
   "source": [
    "removed_outliers.to_csv(r'/Users/user/Desktop/Project/Data/Cleaned Data/WithExperience.csv',index=False)"
   ]
  },
  {
   "cell_type": "code",
   "execution_count": 136,
   "id": "e2dac654",
   "metadata": {},
   "outputs": [],
   "source": [
    "def tech_skill_finder(col):\n",
    "    skills = ['python','programming','html','css','javascript','java','web development','machine learning','artificial intelligence','deep learning'\n",
    "             ,'software development','deep learning','data analysis','data analytics','software engineering','c++','r programming','big data','programming language'\n",
    "             ,'data science','data engineering','matlab','sas programming','sas','c#','php','sql','computer science']\n",
    "    count = False\n",
    "    while count == False:\n",
    "        for item in skills: \n",
    "            if item in col.lower():\n",
    "                return 'yes'\n",
    "        count = True\n",
    "    return 'No'"
   ]
  },
  {
   "cell_type": "code",
   "execution_count": 137,
   "id": "8e8137dd",
   "metadata": {},
   "outputs": [],
   "source": [
    "def microsoft_skill(col):\n",
    "    skills = ['microsoft','ms word','ms excel','ms outlook','ms powerpoint','ms access','powerpoint','outlook','word','access','excel','micorsoft-word',\n",
    "             'microsoft-excel','microsoft-powerpoint','microsoft-outlook','microsoft-access']\n",
    "    count = False\n",
    "    while count == False:\n",
    "        for item in skills: \n",
    "            if item in col.lower():\n",
    "                return 'yes'\n",
    "        count =  True\n",
    "    return 'No'"
   ]
  },
  {
   "cell_type": "code",
   "execution_count": 138,
   "id": "bae22066",
   "metadata": {},
   "outputs": [],
   "source": [
    "def full_time(col):\n",
    "    fulltime = ['fulltime','full-time']\n",
    "    count = False\n",
    "    while count == False:\n",
    "        for item in fulltime: \n",
    "            if item in col.lower():\n",
    "                return 'yes'\n",
    "        count = True\n",
    "    return 'No'"
   ]
  },
  {
   "cell_type": "code",
   "execution_count": 139,
   "id": "3ee88152",
   "metadata": {},
   "outputs": [],
   "source": [
    "def specialty(col):\n",
    "    special = ['chemical engineer','chemical engineering','chemical-engineering','chemical-engineer']\n",
    "    count = False\n",
    "    while count == False:\n",
    "        for item in special: \n",
    "            if item in col.lower():\n",
    "                return 'yes'\n",
    "        count = True\n",
    "    return 'No'"
   ]
  },
  {
   "cell_type": "code",
   "execution_count": 140,
   "id": "4a29d435",
   "metadata": {},
   "outputs": [
    {
     "data": {
      "text/plain": [
       "'No'"
      ]
     },
     "execution_count": 140,
     "metadata": {},
     "output_type": "execute_result"
    }
   ],
   "source": [
    "tech_skill_finder(\"Posting End Date: May 30, 2022 Employee Type: Regular-Full time Union/Non: This is a non-union position Are you an experienced pipeline engineer who is excited to provide technical expertise, support and guidance to improve the safe and reliable design, construction and operation of natural gas pipelines? If so, this opportunity is for you! Hereâ€™s what you will do: Ensure that all pipelines and associated facilities (main line valves, scraper trap barrels) are designed in accordance with all regulations, applicable industry codes and corporate specifications and standards. Define the scope, schedule and budget for the design and materials for pipeline projects. Manage the execution of the design deliverables by a third-party engineering firm against the project budget and schedule. Review and approve design deliverables for example drawings, technical reports and material listing sheets. Review vendor materials quotations, prepares technical evaluations, and recommends to the supervisor selections based on technical merit along with price and delivery. Review and approve fabrication and assembly approval drawings for pressure vessels, engineered equipment, and other fabrications (prefabricated buildings, piping fabrications, scraper trap barrels, etc.). Provide engineering support during construction activities when required. Support the commissioning of newly installed pipeline/metering and regulation facilities when required. Review lessons learned from past projects and incorporate recommendations into future designs. Provide technical guidance to junior engineers within the team. Support department initiatives as required. Who you are: You have: B.S in Mechanical/Civil Engineering and/or another engineering discipline with Pipeline experience. Minimum of 4 years of experience in consulting or operating companies. Capability of working independently, managing multiple projects and prioritizing tasks accordingly. Analytical problem-solving capability through use of standards, modification of standards and/or previous experience. Effective communication in technical issues and impacts to other technical and non-technical staff. The following are considered assets: Natural gas pipeline design experience for onshore transmission lines in the U.S. Experience with FERC filing process (Pre-File, 7(c), prior notice, and/or blanket certificates & permits). Working knowledge of industry codes (ASME B31.8, 49CFR192 (DOT Code), ASME BPVC Sect. VIII). Familiarity and knowledge of materials standards & specs (ANSI Ratings, ASME, API, MSS, etc.). Horizontal Directional Drill Design (HDD), road bores, and applicable load/stress calculations. Professional designations relevant to project management or industry (CAPM, PMP, MBA, CWI, NACE, etc.). Professional Engineer (P.E.) designation in the US in Civil, Mechanical or Chemical Engineering (or desire to obtain). Working Conditions: Approximately 75-90% of office-based work with multiple project teams. Approximately 10-25% of in-field work scoping projects or supporting construction and commissioning activities. Time sensitive deliverables. Work requires strong computer skills typically using Microsoft Office applications (Word, Excel, PowerPoint, Outlook, Teams). Enbridge provides competitive workplace programs that differentiate us and offer flexibility to our team members. Enbridgeâ€™s FlexWork (Hybrid Work Model) offers eligible employees the opportunity to work variable daily schedules with a flexible start and end time, to opt for a compressed workweek schedule, and the option to work from home on Wednesdays and Fridays. Role requirements determine your eligibility for each option or combination of options. #LI-Hybrid Physical Requirements include but are not limited to: Grasping, kneeling, light â€“ moderate lifting (objects up to 20 pounds), reaching above shoulder, repetitive motion, typing, sitting, standing, visual requirement (able to see screens, detect color coding, read fine print), hearing requirement and the ability to sit at a computer for long periods of time. Mental Requirements (Both Field & Office) include but are not limited to: Ability to: understand, remember and apply oral and/or written instructions or other information, understand complex problems and collaborate/explore alternative solutions, organize thoughts and ideas into understandable terminology, organize and prioritize work schedule on a short-term basis, make decisions which have moderate impact on the immediate work unit and monitor impact outside this area, understand and follow basic instructions and guidelines, complete routine forms, compose letters, outlines, memoranda and basic reports and communicate with individuals via telephone. Diversity and inclusion are important to us. Enbridge is an Equal Opportunity and Affirmative Action Employer . We are committed to providing employment opportunities to all qualified individuals, without regard to age, race, color, national or ethnic origin, religion, sex, sexual orientation, gender identity or expression, marital status, family status, veteran status, Indigenous/Native American status, or disability. Applicants with disabilities can request accessible formats, communication supports, or other accessibility assistance by contacting careers@enbridge.com . Information For Applicants: Applications can be submitted via our online recruiting system only. We appreciate your interest in working with us; however, only those applicants selected for interviews will be contacted. Final candidates for this position may be required to undergo a security screening, including a criminal records check. To apply to this job, click Apply Now Show Less\")"
   ]
  },
  {
   "cell_type": "code",
   "execution_count": 141,
   "id": "88fb62f0",
   "metadata": {},
   "outputs": [
    {
     "data": {
      "text/plain": [
       "No     2763\n",
       "yes     849\n",
       "Name: Coding Skill, dtype: int64"
      ]
     },
     "execution_count": 141,
     "metadata": {},
     "output_type": "execute_result"
    }
   ],
   "source": [
    "removed_outliers['Coding Skill'] = removed_outliers['Job Description'].apply(tech_skill_finder)\n",
    "removed_outliers['Coding Skill'].value_counts()"
   ]
  },
  {
   "cell_type": "code",
   "execution_count": 142,
   "id": "9ba311b9",
   "metadata": {},
   "outputs": [
    {
     "data": {
      "text/plain": [
       "yes    2263\n",
       "No     1349\n",
       "Name: Microsoft Skill, dtype: int64"
      ]
     },
     "execution_count": 142,
     "metadata": {},
     "output_type": "execute_result"
    }
   ],
   "source": [
    "removed_outliers['Microsoft Skill'] = removed_outliers['Job Description'].apply(microsoft_skill)\n",
    "removed_outliers['Microsoft Skill'].value_counts()"
   ]
  },
  {
   "cell_type": "code",
   "execution_count": 143,
   "id": "e544df9c",
   "metadata": {},
   "outputs": [
    {
     "data": {
      "text/plain": [
       "No     2385\n",
       "yes    1227\n",
       "Name: Full-Time, dtype: int64"
      ]
     },
     "execution_count": 143,
     "metadata": {},
     "output_type": "execute_result"
    }
   ],
   "source": [
    "removed_outliers['Full-Time'] = removed_outliers['Job Description'].apply(full_time)\n",
    "removed_outliers['Full-Time'].value_counts()"
   ]
  },
  {
   "cell_type": "code",
   "execution_count": 144,
   "id": "72f99d42",
   "metadata": {},
   "outputs": [
    {
     "data": {
      "text/plain": [
       "No     2121\n",
       "yes    1491\n",
       "Name: Chem Eng, dtype: int64"
      ]
     },
     "execution_count": 144,
     "metadata": {},
     "output_type": "execute_result"
    }
   ],
   "source": [
    "removed_outliers['Chem Eng'] = removed_outliers['Job Description'].apply(specialty)\n",
    "removed_outliers['Chem Eng'].value_counts()"
   ]
  },
  {
   "cell_type": "code",
   "execution_count": 145,
   "id": "525c01e4",
   "metadata": {},
   "outputs": [],
   "source": [
    "removed_outliers.to_csv(r'/Users/user/Desktop/Project/Data/Cleaned Data/WithTechSkills.csv',index=False)"
   ]
  },
  {
   "cell_type": "code",
   "execution_count": 146,
   "id": "0cd46700",
   "metadata": {},
   "outputs": [],
   "source": [
    "def region_finder(col):\n",
    "    north_east = {'PA','NY','VT','NH','CT','RI','ME','NJ','MA'}\n",
    "    mid_west = {'ND','SD','NE','KS','MN','IA','MO','WI','IL','MI','IN','OH'}\n",
    "    south = {'TX','OK','FL','AR','LA','MS','AL','TN','KY','WV','VA','NC','SC','GA','MD','DC','DE'}\n",
    "    west = {'WA','OR','CA','NV','ID','UT','AZ','WY','CO','NM','MT','AK','HI'}\n",
    "    count = False\n",
    "    while count == False:\n",
    "        try:\n",
    "            for item in [col]:\n",
    "                if item.upper() in north_east:\n",
    "                    return 'northeast'\n",
    "                elif item.upper() in mid_west:\n",
    "                    return 'midwest'\n",
    "                elif item.upper() in south:\n",
    "                    return 'south'\n",
    "                elif item.upper() in west:\n",
    "                    return 'west'\n",
    "                elif item == 'United States':\n",
    "                    return np.nan\n",
    "                elif item == 'Remote':\n",
    "                    return 'remote'\n",
    "            count = True\n",
    "        except AttributeError:\n",
    "            return np.nan\n",
    "            break"
   ]
  },
  {
   "cell_type": "code",
   "execution_count": 147,
   "id": "8bb0d56b",
   "metadata": {},
   "outputs": [
    {
     "data": {
      "text/plain": [
       "'northeast'"
      ]
     },
     "execution_count": 147,
     "metadata": {},
     "output_type": "execute_result"
    }
   ],
   "source": [
    "region_finder('NH')"
   ]
  },
  {
   "cell_type": "code",
   "execution_count": 148,
   "id": "f51cfe83",
   "metadata": {},
   "outputs": [
    {
     "data": {
      "text/plain": [
       "array(['WA', 'TX', 'NE', 'CA', 'MA', 'SC', 'AZ', 'NJ', 'MN', 'Remote',\n",
       "       'OH', 'NY', 'PA', 'NV', 'DC', 'NC', 'MT', 'GA', 'VA', 'MO', 'MI',\n",
       "       'IN', 'NM', 'CO', 'OK', 'WI', 'OR', 'WY', 'NH', 'TN', 'IL', 'AR',\n",
       "       nan, 'FL', 'RI', 'ID', 'DE', 'CT', 'LA', 'MD', 'KY', 'WV', 'HI',\n",
       "       'ND', 'MS', 'AK', 'UT', 'KS', 'AL', 'PR', 'IA', 'ME', 'SD', 'VT'],\n",
       "      dtype=object)"
      ]
     },
     "execution_count": 148,
     "metadata": {},
     "output_type": "execute_result"
    }
   ],
   "source": [
    "removed_outliers['States'].unique()"
   ]
  },
  {
   "cell_type": "code",
   "execution_count": 149,
   "id": "af9c2bdc",
   "metadata": {},
   "outputs": [
    {
     "data": {
      "text/plain": [
       "south        1451\n",
       "west          887\n",
       "midwest       706\n",
       "northeast     511\n",
       "remote         43\n",
       "Name: Region, dtype: int64"
      ]
     },
     "execution_count": 149,
     "metadata": {},
     "output_type": "execute_result"
    }
   ],
   "source": [
    "removed_outliers['Region'] = removed_outliers['States'].apply(region_finder)\n",
    "removed_outliers['Region'].value_counts()"
   ]
  },
  {
   "cell_type": "code",
   "execution_count": 150,
   "id": "4c2477df",
   "metadata": {},
   "outputs": [
    {
     "data": {
      "text/plain": [
       "<AxesSubplot:xlabel='Region', ylabel='count'>"
      ]
     },
     "execution_count": 150,
     "metadata": {},
     "output_type": "execute_result"
    },
    {
     "data": {
      "image/png": "[encoded data removed]",
      "text/plain": [
       "<Figure size 432x288 with 1 Axes>"
      ]
     },
     "metadata": {
      "needs_background": "light"
     },
     "output_type": "display_data"
    }
   ],
   "source": [
    "sns.countplot(removed_outliers['Region'])"
   ]
  },
  {
   "cell_type": "code",
   "execution_count": 151,
   "id": "51e637ac",
   "metadata": {},
   "outputs": [],
   "source": [
    "removed_outliers.to_csv(r'/Users/user/Desktop/Project/Data/Cleaned Data/WithRegions.csv',index=False)"
   ]
  },
  {
   "cell_type": "code",
   "execution_count": 152,
   "id": "3271fb54",
   "metadata": {},
   "outputs": [
    {
     "data": {
      "text/html": [
       "<div>\n",
       "<style scoped>\n",
       "    .dataframe tbody tr th:only-of-type {\n",
       "        vertical-align: middle;\n",
       "    }\n",
       "\n",
       "    .dataframe tbody tr th {\n",
       "        vertical-align: top;\n",
       "    }\n",
       "\n",
       "    .dataframe thead th {\n",
       "        text-align: right;\n",
       "    }\n",
       "</style>\n",
       "<table border=\"1\" class=\"dataframe\">\n",
       "  <thead>\n",
       "    <tr style=\"text-align: right;\">\n",
       "      <th></th>\n",
       "      <th>Average Salary</th>\n",
       "    </tr>\n",
       "    <tr>\n",
       "      <th>Region</th>\n",
       "      <th></th>\n",
       "    </tr>\n",
       "  </thead>\n",
       "  <tbody>\n",
       "    <tr>\n",
       "      <th>remote</th>\n",
       "      <td>96216.744186</td>\n",
       "    </tr>\n",
       "    <tr>\n",
       "      <th>west</th>\n",
       "      <td>90459.977452</td>\n",
       "    </tr>\n",
       "    <tr>\n",
       "      <th>northeast</th>\n",
       "      <td>84374.442270</td>\n",
       "    </tr>\n",
       "    <tr>\n",
       "      <th>south</th>\n",
       "      <td>83408.807719</td>\n",
       "    </tr>\n",
       "    <tr>\n",
       "      <th>midwest</th>\n",
       "      <td>78956.827195</td>\n",
       "    </tr>\n",
       "  </tbody>\n",
       "</table>\n",
       "</div>"
      ],
      "text/plain": [
       "           Average Salary\n",
       "Region                   \n",
       "remote       96216.744186\n",
       "west         90459.977452\n",
       "northeast    84374.442270\n",
       "south        83408.807719\n",
       "midwest      78956.827195"
      ]
     },
     "execution_count": 152,
     "metadata": {},
     "output_type": "execute_result"
    }
   ],
   "source": [
    "byRegion = pd.pivot_table(data=removed_outliers,index='Region',values='Average Salary')\n",
    "byRegion.sort_values(by='Average Salary', ascending = False).head(10)"
   ]
  },
  {
   "cell_type": "code",
   "execution_count": 153,
   "id": "9765bd96",
   "metadata": {},
   "outputs": [
    {
     "data": {
      "text/html": [
       "<div>\n",
       "<style scoped>\n",
       "    .dataframe tbody tr th:only-of-type {\n",
       "        vertical-align: middle;\n",
       "    }\n",
       "\n",
       "    .dataframe tbody tr th {\n",
       "        vertical-align: top;\n",
       "    }\n",
       "\n",
       "    .dataframe thead th {\n",
       "        text-align: right;\n",
       "    }\n",
       "</style>\n",
       "<table border=\"1\" class=\"dataframe\">\n",
       "  <thead>\n",
       "    <tr style=\"text-align: right;\">\n",
       "      <th></th>\n",
       "      <th>Average Salary</th>\n",
       "    </tr>\n",
       "    <tr>\n",
       "      <th>Full-Time</th>\n",
       "      <th></th>\n",
       "    </tr>\n",
       "  </thead>\n",
       "  <tbody>\n",
       "    <tr>\n",
       "      <th>yes</th>\n",
       "      <td>84537.310513</td>\n",
       "    </tr>\n",
       "    <tr>\n",
       "      <th>No</th>\n",
       "      <td>84494.557652</td>\n",
       "    </tr>\n",
       "  </tbody>\n",
       "</table>\n",
       "</div>"
      ],
      "text/plain": [
       "           Average Salary\n",
       "Full-Time                \n",
       "yes          84537.310513\n",
       "No           84494.557652"
      ]
     },
     "execution_count": 153,
     "metadata": {},
     "output_type": "execute_result"
    }
   ],
   "source": [
    "byFull = pd.pivot_table(data=removed_outliers,index='Full-Time',values='Average Salary')\n",
    "byFull.sort_values(by='Average Salary', ascending = False).head(10)"
   ]
  },
  {
   "cell_type": "code",
   "execution_count": 154,
   "id": "877ed034",
   "metadata": {},
   "outputs": [
    {
     "data": {
      "text/html": [
       "<div>\n",
       "<style scoped>\n",
       "    .dataframe tbody tr th:only-of-type {\n",
       "        vertical-align: middle;\n",
       "    }\n",
       "\n",
       "    .dataframe tbody tr th {\n",
       "        vertical-align: top;\n",
       "    }\n",
       "\n",
       "    .dataframe thead th {\n",
       "        text-align: right;\n",
       "    }\n",
       "</style>\n",
       "<table border=\"1\" class=\"dataframe\">\n",
       "  <thead>\n",
       "    <tr style=\"text-align: right;\">\n",
       "      <th></th>\n",
       "      <th>Average Salary</th>\n",
       "    </tr>\n",
       "    <tr>\n",
       "      <th>Coding Skill</th>\n",
       "      <th></th>\n",
       "    </tr>\n",
       "  </thead>\n",
       "  <tbody>\n",
       "    <tr>\n",
       "      <th>yes</th>\n",
       "      <td>87755.736160</td>\n",
       "    </tr>\n",
       "    <tr>\n",
       "      <th>No</th>\n",
       "      <td>83511.465798</td>\n",
       "    </tr>\n",
       "  </tbody>\n",
       "</table>\n",
       "</div>"
      ],
      "text/plain": [
       "              Average Salary\n",
       "Coding Skill                \n",
       "yes             87755.736160\n",
       "No              83511.465798"
      ]
     },
     "execution_count": 154,
     "metadata": {},
     "output_type": "execute_result"
    }
   ],
   "source": [
    "bySkill = pd.pivot_table(data=removed_outliers,index='Coding Skill',values='Average Salary')\n",
    "bySkill.sort_values(by='Average Salary', ascending = False).head(10)"
   ]
  },
  {
   "cell_type": "code",
   "execution_count": 155,
   "id": "e8bf7427",
   "metadata": {},
   "outputs": [
    {
     "data": {
      "text/html": [
       "<div>\n",
       "<style scoped>\n",
       "    .dataframe tbody tr th:only-of-type {\n",
       "        vertical-align: middle;\n",
       "    }\n",
       "\n",
       "    .dataframe tbody tr th {\n",
       "        vertical-align: top;\n",
       "    }\n",
       "\n",
       "    .dataframe thead th {\n",
       "        text-align: right;\n",
       "    }\n",
       "</style>\n",
       "<table border=\"1\" class=\"dataframe\">\n",
       "  <thead>\n",
       "    <tr style=\"text-align: right;\">\n",
       "      <th></th>\n",
       "      <th>Average Salary</th>\n",
       "    </tr>\n",
       "    <tr>\n",
       "      <th>PHD</th>\n",
       "      <th></th>\n",
       "    </tr>\n",
       "  </thead>\n",
       "  <tbody>\n",
       "    <tr>\n",
       "      <th>yes</th>\n",
       "      <td>95443.354430</td>\n",
       "    </tr>\n",
       "    <tr>\n",
       "      <th>No</th>\n",
       "      <td>83460.770631</td>\n",
       "    </tr>\n",
       "  </tbody>\n",
       "</table>\n",
       "</div>"
      ],
      "text/plain": [
       "     Average Salary\n",
       "PHD                \n",
       "yes    95443.354430\n",
       "No     83460.770631"
      ]
     },
     "execution_count": 155,
     "metadata": {},
     "output_type": "execute_result"
    }
   ],
   "source": [
    "byPHD = pd.pivot_table(data=removed_outliers,index='PHD',values='Average Salary')\n",
    "byPHD.sort_values(by='Average Salary', ascending = False).head(10)"
   ]
  },
  {
   "cell_type": "code",
   "execution_count": 156,
   "id": "fbedbd1d",
   "metadata": {},
   "outputs": [
    {
     "data": {
      "text/html": [
       "<div>\n",
       "<style scoped>\n",
       "    .dataframe tbody tr th:only-of-type {\n",
       "        vertical-align: middle;\n",
       "    }\n",
       "\n",
       "    .dataframe tbody tr th {\n",
       "        vertical-align: top;\n",
       "    }\n",
       "\n",
       "    .dataframe thead th {\n",
       "        text-align: right;\n",
       "    }\n",
       "</style>\n",
       "<table border=\"1\" class=\"dataframe\">\n",
       "  <thead>\n",
       "    <tr style=\"text-align: right;\">\n",
       "      <th></th>\n",
       "      <th>Average Salary</th>\n",
       "    </tr>\n",
       "    <tr>\n",
       "      <th>Masters</th>\n",
       "      <th></th>\n",
       "    </tr>\n",
       "  </thead>\n",
       "  <tbody>\n",
       "    <tr>\n",
       "      <th>yes</th>\n",
       "      <td>90261.627907</td>\n",
       "    </tr>\n",
       "    <tr>\n",
       "      <th>No</th>\n",
       "      <td>83903.549572</td>\n",
       "    </tr>\n",
       "  </tbody>\n",
       "</table>\n",
       "</div>"
      ],
      "text/plain": [
       "         Average Salary\n",
       "Masters                \n",
       "yes        90261.627907\n",
       "No         83903.549572"
      ]
     },
     "execution_count": 156,
     "metadata": {},
     "output_type": "execute_result"
    }
   ],
   "source": [
    "byMasters = pd.pivot_table(data=removed_outliers,index='Masters',values='Average Salary')\n",
    "byMasters.sort_values(by='Average Salary', ascending = False).head(10)"
   ]
  },
  {
   "cell_type": "code",
   "execution_count": 157,
   "id": "8ef1bb62",
   "metadata": {},
   "outputs": [
    {
     "data": {
      "text/html": [
       "<div>\n",
       "<style scoped>\n",
       "    .dataframe tbody tr th:only-of-type {\n",
       "        vertical-align: middle;\n",
       "    }\n",
       "\n",
       "    .dataframe tbody tr th {\n",
       "        vertical-align: top;\n",
       "    }\n",
       "\n",
       "    .dataframe thead th {\n",
       "        text-align: right;\n",
       "    }\n",
       "</style>\n",
       "<table border=\"1\" class=\"dataframe\">\n",
       "  <thead>\n",
       "    <tr style=\"text-align: right;\">\n",
       "      <th></th>\n",
       "      <th>Average Salary</th>\n",
       "    </tr>\n",
       "    <tr>\n",
       "      <th>Bachelors</th>\n",
       "      <th></th>\n",
       "    </tr>\n",
       "  </thead>\n",
       "  <tbody>\n",
       "    <tr>\n",
       "      <th>yes</th>\n",
       "      <td>86315.658588</td>\n",
       "    </tr>\n",
       "    <tr>\n",
       "      <th>No</th>\n",
       "      <td>77785.777778</td>\n",
       "    </tr>\n",
       "  </tbody>\n",
       "</table>\n",
       "</div>"
      ],
      "text/plain": [
       "           Average Salary\n",
       "Bachelors                \n",
       "yes          86315.658588\n",
       "No           77785.777778"
      ]
     },
     "execution_count": 157,
     "metadata": {},
     "output_type": "execute_result"
    }
   ],
   "source": [
    "byBsc = pd.pivot_table(data=removed_outliers,index='Bachelors',values='Average Salary')\n",
    "byBsc.sort_values(by='Average Salary', ascending = False).head(10)"
   ]
  },
  {
   "cell_type": "code",
   "execution_count": 158,
   "id": "a8b0a8bb",
   "metadata": {},
   "outputs": [],
   "source": [
    "removed_null = removed_outliers.dropna(axis=0,how='any',inplace=False)"
   ]
  },
  {
   "cell_type": "code",
   "execution_count": 159,
   "id": "d9a1d079",
   "metadata": {},
   "outputs": [
    {
     "name": "stdout",
     "output_type": "stream",
     "text": [
      "<class 'pandas.core.frame.DataFrame'>\n",
      "Int64Index: 1549 entries, 2 to 7716\n",
      "Data columns (total 23 columns):\n",
      " #   Column               Non-Null Count  Dtype  \n",
      "---  ------               --------------  -----  \n",
      " 0   Job Title            1549 non-null   object \n",
      " 1   Salary Estimate      1549 non-null   object \n",
      " 2   Job Description      1549 non-null   object \n",
      " 3   Company Name         1549 non-null   object \n",
      " 4   Location             1549 non-null   object \n",
      " 5   Size                 1549 non-null   object \n",
      " 6   Founded              1549 non-null   float64\n",
      " 7   Type of ownership    1549 non-null   object \n",
      " 8   Industry             1549 non-null   object \n",
      " 9   Sector               1549 non-null   object \n",
      " 10  Revenue              1549 non-null   object \n",
      " 11  Average Salary       1549 non-null   float64\n",
      " 12  States               1549 non-null   object \n",
      " 13  Company Age          1549 non-null   float64\n",
      " 14  Bachelors            1549 non-null   object \n",
      " 15  Masters              1549 non-null   object \n",
      " 16  PHD                  1549 non-null   object \n",
      " 17  Years of Experience  1549 non-null   float64\n",
      " 18  Coding Skill         1549 non-null   object \n",
      " 19  Microsoft Skill      1549 non-null   object \n",
      " 20  Full-Time            1549 non-null   object \n",
      " 21  Chem Eng             1549 non-null   object \n",
      " 22  Region               1549 non-null   object \n",
      "dtypes: float64(4), object(19)\n",
      "memory usage: 290.4+ KB\n"
     ]
    }
   ],
   "source": [
    "removed_null.info()"
   ]
  },
  {
   "cell_type": "code",
   "execution_count": 160,
   "id": "640a4add",
   "metadata": {},
   "outputs": [],
   "source": [
    "def coordinate_finder(col,coord):\n",
    "    try:\n",
    "        #time.sleep(0.5)\n",
    "        loc = Nominatim(user_agent='GetLoc')\n",
    "        getLoc = loc.geocode(col,timeout=10).raw\n",
    "        return float(getLoc[coord])\n",
    "    except GeocoderTimedOut as e:\n",
    "        return col"
   ]
  },
  {
   "cell_type": "code",
   "execution_count": 161,
   "id": "691b7692",
   "metadata": {},
   "outputs": [
    {
     "data": {
      "text/plain": [
       "-122.1598465"
      ]
     },
     "execution_count": 161,
     "metadata": {},
     "output_type": "execute_result"
    }
   ],
   "source": [
    "coordinate_finder('Palo Alto CA','lon')"
   ]
  },
  {
   "cell_type": "code",
   "execution_count": 162,
   "id": "88153200",
   "metadata": {},
   "outputs": [
    {
     "data": {
      "text/plain": [
       "2     41.188130\n",
       "7     33.572319\n",
       "10    31.187132\n",
       "11    44.832240\n",
       "17    39.526121\n",
       "28    33.197650\n",
       "37    38.626426\n",
       "40    38.753511\n",
       "47    38.355439\n",
       "48    35.084103\n",
       "Name: Latitude, dtype: float64"
      ]
     },
     "execution_count": 162,
     "metadata": {},
     "output_type": "execute_result"
    }
   ],
   "source": [
    "removed_null['Latitude'] =  removed_null['Location'].apply(coordinate_finder,args=['lat'])\n",
    "removed_null['Latitude'].head(10)"
   ]
  },
  {
   "cell_type": "code",
   "execution_count": 163,
   "id": "2737375e",
   "metadata": {},
   "outputs": [
    {
     "data": {
      "text/plain": [
       "2    -103.699765\n",
       "7     -81.618209\n",
       "10    -94.781041\n",
       "11    -93.320487\n",
       "17   -119.812658\n",
       "28    -96.615447\n",
       "37    -90.199585\n",
       "40    -91.145395\n",
       "47    -87.567803\n",
       "48   -106.650985\n",
       "Name: Longitude, dtype: float64"
      ]
     },
     "execution_count": 163,
     "metadata": {},
     "output_type": "execute_result"
    }
   ],
   "source": [
    "removed_null['Longitude'] =  removed_null['Location'].apply(coordinate_finder,args=['lon'])\n",
    "removed_null['Longitude'].head(10)"
   ]
  },
  {
   "cell_type": "code",
   "execution_count": 164,
   "id": "ff688ac8",
   "metadata": {},
   "outputs": [
    {
     "data": {
      "text/plain": [
       "array(['$2 to $5 billion (USD)', '$10+ billion (USD)',\n",
       "       '$1 to $2 billion (USD)', '$5 to $10 billion (USD)',\n",
       "       '$500 million to $1 billion (USD)', '$100 to $500 million (USD)',\n",
       "       '$1 to $5 million (USD)', '$25 to $50 million (USD)',\n",
       "       '$10 to $25 million (USD)', '$5 to $10 million (USD)',\n",
       "       '$50 to $100 million (USD)', 'Less than $1 million (USD)'],\n",
       "      dtype=object)"
      ]
     },
     "execution_count": 164,
     "metadata": {},
     "output_type": "execute_result"
    }
   ],
   "source": [
    "removed_null['Revenue'].unique()"
   ]
  },
  {
   "cell_type": "code",
   "execution_count": 165,
   "id": "05fd6ac5",
   "metadata": {},
   "outputs": [],
   "source": [
    "def cleaned_revenue(col):\n",
    "    try:\n",
    "        if '$500 million to $1 billion' in col:\n",
    "            revenue = re.findall(pattern='(\\d{3}|\\d{2}|\\d{1}) billion',string=col)\n",
    "            if len([float(i) for i in revenue]) == 0:\n",
    "                pass\n",
    "            else:\n",
    "                return 1*(10**9)\n",
    "        elif 'million' in col:\n",
    "            revenue = re.findall(pattern='\\d{3}|\\d{2}|\\d{1}',string=col)\n",
    "            if len([float(i) for i in revenue]) == 0:\n",
    "                print('no')\n",
    "            else:\n",
    "                return (sum([float(i) for i in revenue])/len([float(i) for i in revenue]))*10**6\n",
    "        elif 'billion' in col:\n",
    "            revenue = re.findall(pattern='\\d{3}|\\d{2}|\\d{1}',string=col)\n",
    "            if len([float(i) for i in revenue]) == 0:\n",
    "                pass\n",
    "            else:\n",
    "                return (sum([float(i) for i in revenue])/len([float(i) for i in revenue]))*10**9\n",
    "        else:\n",
    "            return np.nan\n",
    "    except TypeError:\n",
    "        return np.nan\n",
    "    \n"
   ]
  },
  {
   "cell_type": "code",
   "execution_count": 166,
   "id": "0c546d79",
   "metadata": {},
   "outputs": [
    {
     "data": {
      "text/plain": [
       "75000000.0"
      ]
     },
     "execution_count": 166,
     "metadata": {},
     "output_type": "execute_result"
    }
   ],
   "source": [
    "cleaned_revenue('$50 to $100 million (USD)')"
   ]
  },
  {
   "cell_type": "code",
   "execution_count": 167,
   "id": "d2730310",
   "metadata": {},
   "outputs": [
    {
     "data": {
      "text/plain": [
       "2     3.500000e+09\n",
       "7     3.500000e+09\n",
       "10    3.500000e+09\n",
       "11    1.000000e+10\n",
       "17    1.500000e+09\n",
       "28    1.000000e+10\n",
       "37    1.000000e+10\n",
       "40    1.000000e+10\n",
       "47    1.000000e+10\n",
       "48    1.000000e+10\n",
       "Name: Average Revenue, dtype: float64"
      ]
     },
     "execution_count": 167,
     "metadata": {},
     "output_type": "execute_result"
    }
   ],
   "source": [
    "removed_null['Average Revenue'] = removed_null['Revenue'].apply(cleaned_revenue)\n",
    "removed_null['Average Revenue'].head(10)"
   ]
  },
  {
   "cell_type": "code",
   "execution_count": 168,
   "id": "af25719d",
   "metadata": {},
   "outputs": [
    {
     "data": {
      "text/plain": [
       "array(['10000+ Employees', '1001 to 5000 Employees',\n",
       "       '5001 to 10000 Employees', '501 to 1000 Employees',\n",
       "       '201 to 500 Employees', '1 to 50 Employees', '51 to 200 Employees'],\n",
       "      dtype=object)"
      ]
     },
     "execution_count": 168,
     "metadata": {},
     "output_type": "execute_result"
    }
   ],
   "source": [
    "removed_null['Size'].unique()"
   ]
  },
  {
   "cell_type": "code",
   "execution_count": 169,
   "id": "e53b5cd8",
   "metadata": {},
   "outputs": [],
   "source": [
    "def cleaned_employees(col):\n",
    "    try:\n",
    "        if 'Employees' in col:\n",
    "            employee = re.findall(pattern='\\d{5}|\\d{4}|\\d{3}|\\d{2}|\\d{1}',string=col)\n",
    "            if len([float(i) for i in employee]) == 0:\n",
    "                pass\n",
    "            else:\n",
    "                return (sum([float(i) for i in employee])//len([float(i) for i in employee]))\n",
    "        else:\n",
    "            return np.nan\n",
    "    except TypeError:\n",
    "        return np.nan"
   ]
  },
  {
   "cell_type": "code",
   "execution_count": 170,
   "id": "cf44f9e6",
   "metadata": {},
   "outputs": [
    {
     "data": {
      "text/plain": [
       "3000.0"
      ]
     },
     "execution_count": 170,
     "metadata": {},
     "output_type": "execute_result"
    }
   ],
   "source": [
    "cleaned_employees('1001 to 5000 Employees')"
   ]
  },
  {
   "cell_type": "code",
   "execution_count": 171,
   "id": "55d94f41",
   "metadata": {},
   "outputs": [
    {
     "data": {
      "text/plain": [
       "2     10000.0\n",
       "7     10000.0\n",
       "10     3000.0\n",
       "11    10000.0\n",
       "17     3000.0\n",
       "28    10000.0\n",
       "37    10000.0\n",
       "40    10000.0\n",
       "47    10000.0\n",
       "48    10000.0\n",
       "Name: Average Employee Size, dtype: float64"
      ]
     },
     "execution_count": 171,
     "metadata": {},
     "output_type": "execute_result"
    }
   ],
   "source": [
    "removed_null['Average Employee Size'] = removed_null['Size'].apply(cleaned_employees)\n",
    "removed_null['Average Employee Size'].head(10)"
   ]
  },
  {
   "cell_type": "code",
   "execution_count": 172,
   "id": "0338b196",
   "metadata": {},
   "outputs": [
    {
     "name": "stdout",
     "output_type": "stream",
     "text": [
      "<class 'pandas.core.frame.DataFrame'>\n",
      "Int64Index: 1549 entries, 2 to 7716\n",
      "Data columns (total 27 columns):\n",
      " #   Column                 Non-Null Count  Dtype  \n",
      "---  ------                 --------------  -----  \n",
      " 0   Job Title              1549 non-null   object \n",
      " 1   Salary Estimate        1549 non-null   object \n",
      " 2   Job Description        1549 non-null   object \n",
      " 3   Company Name           1549 non-null   object \n",
      " 4   Location               1549 non-null   object \n",
      " 5   Size                   1549 non-null   object \n",
      " 6   Founded                1549 non-null   float64\n",
      " 7   Type of ownership      1549 non-null   object \n",
      " 8   Industry               1549 non-null   object \n",
      " 9   Sector                 1549 non-null   object \n",
      " 10  Revenue                1549 non-null   object \n",
      " 11  Average Salary         1549 non-null   float64\n",
      " 12  States                 1549 non-null   object \n",
      " 13  Company Age            1549 non-null   float64\n",
      " 14  Bachelors              1549 non-null   object \n",
      " 15  Masters                1549 non-null   object \n",
      " 16  PHD                    1549 non-null   object \n",
      " 17  Years of Experience    1549 non-null   float64\n",
      " 18  Coding Skill           1549 non-null   object \n",
      " 19  Microsoft Skill        1549 non-null   object \n",
      " 20  Full-Time              1549 non-null   object \n",
      " 21  Chem Eng               1549 non-null   object \n",
      " 22  Region                 1549 non-null   object \n",
      " 23  Latitude               1549 non-null   float64\n",
      " 24  Longitude              1549 non-null   float64\n",
      " 25  Average Revenue        1549 non-null   float64\n",
      " 26  Average Employee Size  1549 non-null   float64\n",
      "dtypes: float64(8), object(19)\n",
      "memory usage: 338.8+ KB\n"
     ]
    }
   ],
   "source": [
    "removed_null.info()"
   ]
  },
  {
   "cell_type": "code",
   "execution_count": 173,
   "id": "3215c94e",
   "metadata": {},
   "outputs": [],
   "source": [
    "removed_null.to_csv(r'/Users/user/Desktop/Project/Data/Cleaned Data/WithGeoCoordinates.csv', index=False)"
   ]
  },
  {
   "cell_type": "code",
   "execution_count": 175,
   "id": "0888180d",
   "metadata": {},
   "outputs": [
    {
     "data": {
      "text/plain": [
       "No     1505\n",
       "yes      44\n",
       "Name: Hourly Wage, dtype: int64"
      ]
     },
     "execution_count": 175,
     "metadata": {},
     "output_type": "execute_result"
    }
   ],
   "source": [
    "def hourly_wage(col):\n",
    "    if 'Hour' in col:\n",
    "        return 'yes'\n",
    "    else:\n",
    "        return 'No'\n",
    "removed_null['Hourly Wage'] = removed_null['Salary Estimate'].apply(hourly_wage)\n",
    "removed_null['Hourly Wage'].value_counts()"
   ]
  },
  {
   "cell_type": "code",
   "execution_count": 178,
   "id": "5af1bfb2",
   "metadata": {},
   "outputs": [
    {
     "data": {
      "text/plain": [
       "No     1369\n",
       "yes     180\n",
       "Name: Senior, dtype: int64"
      ]
     },
     "execution_count": 178,
     "metadata": {},
     "output_type": "execute_result"
    }
   ],
   "source": [
    "def seniority(col):\n",
    "    seniority = ['senior','snr','sr','sr.','lead','chief','principal']\n",
    "    count = True\n",
    "    while count == True:\n",
    "        for item in seniority: \n",
    "            if item in col.lower():\n",
    "                return 'yes'\n",
    "        count = False\n",
    "    return 'No'\n",
    "removed_null['Senior'] = removed_null['Job Title'].apply(seniority)\n",
    "removed_null['Senior'].value_counts()"
   ]
  },
  {
   "cell_type": "code",
   "execution_count": 181,
   "id": "1d0d5074",
   "metadata": {},
   "outputs": [
    {
     "data": {
      "text/plain": [
       "No     1192\n",
       "yes     357\n",
       "Name: Simulation Software, dtype: int64"
      ]
     },
     "execution_count": 181,
     "metadata": {},
     "output_type": "execute_result"
    }
   ],
   "source": [
    "def aspen(col):\n",
    "    aspen = ['aspen','hysys','simulink','ansys','autocad','autodesk','cad','cae','auto-cad','chemcad','chemstation']\n",
    "    count = True\n",
    "    while count == True:\n",
    "        for item in aspen: \n",
    "            if item in col.lower():\n",
    "                return 'yes'\n",
    "        count = False\n",
    "    return 'No'\n",
    "removed_null['Simulation Software'] = removed_null['Job Description'].apply(aspen)\n",
    "removed_null['Simulation Software'].value_counts()"
   ]
  },
  {
   "cell_type": "code",
   "execution_count": 182,
   "id": "c505a1b3",
   "metadata": {},
   "outputs": [],
   "source": [
    "removed_null.to_csv(r'/Users/user/Desktop/Project/Data/Cleaned Data/FinalDraft.csv',index=False)\n",
    "removed_null.to_csv(r'/Users/user/Desktop/Project/Scripts/FinalDraft.csv',index=False)"
   ]
  },
  {
   "cell_type": "code",
   "execution_count": 183,
   "id": "a1ebc24c",
   "metadata": {},
   "outputs": [
    {
     "data": {
      "text/plain": [
       "<AxesSubplot:>"
      ]
     },
     "execution_count": 183,
     "metadata": {},
     "output_type": "execute_result"
    },
    {
     "data": {
      "image/png": "[encoded data removed]",
      "text/plain": [
       "<Figure size 432x288 with 2 Axes>"
      ]
     },
     "metadata": {
      "needs_background": "light"
     },
     "output_type": "display_data"
    }
   ],
   "source": [
    "sns.heatmap(removed_null.isnull(),annot=False,cmap='viridis',yticklabels='vertical')"
   ]
  }
 ],
 "metadata": {
  "kernelspec": {
   "display_name": "Python 3 (ipykernel)",
   "language": "python",
   "name": "python3"
  },
  "language_info": {
   "codemirror_mode": {
    "name": "ipython",
    "version": 3
   },
   "file_extension": ".py",
   "mimetype": "text/x-python",
   "name": "python",
   "nbconvert_exporter": "python",
   "pygments_lexer": "ipython3",
   "version": "3.10.4"
  }
 },
 "nbformat": 4,
 "nbformat_minor": 5
}
